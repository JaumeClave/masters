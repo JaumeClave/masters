{
 "cells": [
  {
   "cell_type": "markdown",
   "source": [
    "# SQL Databases\n",
    "This notebook will be used to learn about SQL databases and how we can CRUD (Create, Read, Update, Delete) via Python.\n",
    "\n",
    "I want to understand how I can CRUD via Python so that the Streamlit UI can be used to enter and read information from future users."
   ],
   "metadata": {
    "collapsed": false,
    "pycharm": {
     "name": "#%% md\n"
    }
   }
  },
  {
   "cell_type": "code",
   "execution_count": 51,
   "metadata": {
    "collapsed": true
   },
   "outputs": [],
   "source": [
    "import sqlite3\n",
    "import pandas as pd"
   ]
  },
  {
   "cell_type": "markdown",
   "source": [
    "### Connecting to a Local Database\n",
    "The sqlite3 module provides a straightforward interface for interacting with SQLite databases. A connection object is created using sqlite3.connect(); the connection must be closed at the end of the session with the .close() command. While the connection is open, any interactions with the database require you to make a cursor object with the .cursor() command. The cursor is then ready to perform all kinds of operations with .execute()."
   ],
   "metadata": {
    "collapsed": false,
    "pycharm": {
     "name": "#%% md\n"
    }
   }
  },
  {
   "cell_type": "code",
   "execution_count": 52,
   "outputs": [
    {
     "name": "stdout",
     "output_type": "stream",
     "text": [
      "('Golf Costa Daurada', 18, 'Tarragona', 121.0, 69.7, 1, None)\n",
      "('Loch Palm Golf Club', 18, 'Kathu', 129.0, 68.4, 3, None)\n",
      "('Red Mountain Golf Club', 18, 'Kathu', 121.0, 68.4, 5, None)\n",
      "('Aravell', 18, '', 0.0, 0.0, 6, 0)\n",
      "('Aravell', 18, 'Aravell', 0.0, 0.0, 7, 0)\n",
      "('Aravell Golf Club', 18, 'Aravell', 0.0, 0.0, 8, 0)\n",
      "('Aravell Golf Club', 18, 'Aravell', 0.0, 74.0, 9, 0)\n",
      "('Aravell Golf Club', 18, 'Aravell', 139.0, 74.0, 10, 0)\n",
      "('Aravell Golf Club', 18, 'Aravell', 139.0, 74.0, 11, 71)\n",
      "('Aravell Golf Club', 18, 'Aravell', 139.0, 74.0, 12, 71)\n",
      "('Aravell Golf Club', 18, 'Aravell', 139.0, 74.0, 13, 71)\n"
     ]
    }
   ],
   "source": [
    "# Create connection to local database\n",
    "con = sqlite3.connect(r'C:\\Users\\Jaume\\DataGripProjects\\Golf\\identifier.sqlite')\n",
    "cur = con.cursor()\n",
    "\n",
    "for row in cur.execute('SELECT * FROM course;'):\n",
    "    print(row)"
   ],
   "metadata": {
    "collapsed": false,
    "pycharm": {
     "name": "#%%\n"
    }
   }
  },
  {
   "cell_type": "markdown",
   "source": [
    "### Inserting\n",
    "We use a parameterized query to insert Python variables into the table. Using a parameterized query, we can pass python variables as a query parameter in which placeholders (?)"
   ],
   "metadata": {
    "collapsed": false,
    "pycharm": {
     "name": "#%% md\n"
    }
   }
  },
  {
   "cell_type": "code",
   "execution_count": 3,
   "outputs": [
    {
     "name": "stdout",
     "output_type": "stream",
     "text": [
      "Python Variables inserted successfully into table\n"
     ]
    }
   ],
   "source": [
    "NAME = \"Loch Palm Golf Club\"\n",
    "HOLE_18 = 1\n",
    "CITY = \"Kathu\"\n",
    "SLOPE = 129\n",
    "RATING = 68.4\n",
    "\n",
    "sqlite_insert_with_param = \"\"\"INSERT INTO course\n",
    "                  (name, holes_18, city, slope, rating)\n",
    "                  VALUES (?, ?, ?, ?, ?);\"\"\"\n",
    "data_tuple = (NAME, HOLE_18, CITY, SLOPE, RATING)\n",
    "cur.execute(sqlite_insert_with_param, data_tuple)\n",
    "con.commit()\n",
    "print(\"Python Variables inserted successfully into table\")\n",
    "\n",
    "def insert_course(name, holes_18, city, slope, rating):\n",
    "    \"\"\"\n",
    "    Function inserts a golf course entry into the course table\n",
    "    :param name:\n",
    "    :param holes_18:\n",
    "    :param city:\n",
    "    :param slope:\n",
    "    :param rating:\n",
    "    :return:\n",
    "    \"\"\"\n",
    "    sqlite_insert_with_param = \"\"\"INSERT INTO course\n",
    "                  (name, holes_18, city, slope, rating)\n",
    "                  VALUES (?, ?, ?, ?, ?);\"\"\"\n",
    "    data_tuple = (name, holes_18, city, slope, rating)\n",
    "    cur.execute(sqlite_insert_with_param, data_tuple)\n",
    "    con.commit()\n",
    "    print(\"Python Variables inserted successfully into table\")"
   ],
   "metadata": {
    "collapsed": false,
    "pycharm": {
     "name": "#%%\n"
    }
   }
  },
  {
   "cell_type": "code",
   "execution_count": 4,
   "outputs": [
    {
     "name": "stdout",
     "output_type": "stream",
     "text": [
      "Python Variables inserted successfully into table\n"
     ]
    }
   ],
   "source": [
    "# Insert course\n",
    "NAME = \"Red Mountain Golf Club\"\n",
    "HOLE_18 = 1\n",
    "CITY = \"Kathu\"\n",
    "SLOPE = 121\n",
    "RATING = 68.4\n",
    "\n",
    "insert_course(NAME, HOLE_18, CITY, SLOPE, RATING)"
   ],
   "metadata": {
    "collapsed": false,
    "pycharm": {
     "name": "#%%\n"
    }
   }
  },
  {
   "cell_type": "code",
   "execution_count": 5,
   "outputs": [],
   "source": [
    "# SQL table to Pandas DataFrame\n",
    "df = pd.read_sql_query(\"SELECT * FROM course\", con)\n",
    "df.head()\n",
    "\n",
    "def db_refresh(con):\n",
    "    \"\"\"\n",
    "    Function calls the connection and returns the table as a dataframe\n",
    "    :param con:\n",
    "    :return:\n",
    "    \"\"\"\n",
    "    df = pd.read_sql_query(\"SELECT * FROM course\", con)\n",
    "    return df"
   ],
   "metadata": {
    "collapsed": false,
    "pycharm": {
     "name": "#%%\n"
    }
   }
  },
  {
   "cell_type": "code",
   "execution_count": 6,
   "outputs": [
    {
     "data": {
      "text/plain": "                     name  holes_18       city  slope  rating  id   par\n0      Golf Costa Daurada        18  Tarragona  121.0    69.7   1   NaN\n1     Loch Palm Golf Club        18      Kathu  129.0    68.4   3   NaN\n2  Red Mountain Golf Club        18      Kathu  121.0    68.4   5   NaN\n3  Masia Bach - Executive         9  Barcelona  106.0    30.0   6  32.0\n4       Aravell Golf Club        18    Aravell  139.0    74.0   7  71.0\n5     Loch Palm Golf Club         1      Kathu  129.0    68.4   8   NaN\n6  Red Mountain Golf Club         1      Kathu  121.0    68.4   9   NaN",
      "text/html": "<div>\n<style scoped>\n    .dataframe tbody tr th:only-of-type {\n        vertical-align: middle;\n    }\n\n    .dataframe tbody tr th {\n        vertical-align: top;\n    }\n\n    .dataframe thead th {\n        text-align: right;\n    }\n</style>\n<table border=\"1\" class=\"dataframe\">\n  <thead>\n    <tr style=\"text-align: right;\">\n      <th></th>\n      <th>name</th>\n      <th>holes_18</th>\n      <th>city</th>\n      <th>slope</th>\n      <th>rating</th>\n      <th>id</th>\n      <th>par</th>\n    </tr>\n  </thead>\n  <tbody>\n    <tr>\n      <th>0</th>\n      <td>Golf Costa Daurada</td>\n      <td>18</td>\n      <td>Tarragona</td>\n      <td>121.0</td>\n      <td>69.7</td>\n      <td>1</td>\n      <td>NaN</td>\n    </tr>\n    <tr>\n      <th>1</th>\n      <td>Loch Palm Golf Club</td>\n      <td>18</td>\n      <td>Kathu</td>\n      <td>129.0</td>\n      <td>68.4</td>\n      <td>3</td>\n      <td>NaN</td>\n    </tr>\n    <tr>\n      <th>2</th>\n      <td>Red Mountain Golf Club</td>\n      <td>18</td>\n      <td>Kathu</td>\n      <td>121.0</td>\n      <td>68.4</td>\n      <td>5</td>\n      <td>NaN</td>\n    </tr>\n    <tr>\n      <th>3</th>\n      <td>Masia Bach - Executive</td>\n      <td>9</td>\n      <td>Barcelona</td>\n      <td>106.0</td>\n      <td>30.0</td>\n      <td>6</td>\n      <td>32.0</td>\n    </tr>\n    <tr>\n      <th>4</th>\n      <td>Aravell Golf Club</td>\n      <td>18</td>\n      <td>Aravell</td>\n      <td>139.0</td>\n      <td>74.0</td>\n      <td>7</td>\n      <td>71.0</td>\n    </tr>\n    <tr>\n      <th>5</th>\n      <td>Loch Palm Golf Club</td>\n      <td>1</td>\n      <td>Kathu</td>\n      <td>129.0</td>\n      <td>68.4</td>\n      <td>8</td>\n      <td>NaN</td>\n    </tr>\n    <tr>\n      <th>6</th>\n      <td>Red Mountain Golf Club</td>\n      <td>1</td>\n      <td>Kathu</td>\n      <td>121.0</td>\n      <td>68.4</td>\n      <td>9</td>\n      <td>NaN</td>\n    </tr>\n  </tbody>\n</table>\n</div>"
     },
     "execution_count": 6,
     "metadata": {},
     "output_type": "execute_result"
    }
   ],
   "source": [
    "# Database refresh\n",
    "db_refresh(con)"
   ],
   "metadata": {
    "collapsed": false,
    "pycharm": {
     "name": "#%%\n"
    }
   }
  },
  {
   "cell_type": "markdown",
   "source": [
    "### Deleting\n"
   ],
   "metadata": {
    "collapsed": false,
    "pycharm": {
     "name": "#%% md\n"
    }
   }
  },
  {
   "cell_type": "code",
   "execution_count": 7,
   "outputs": [],
   "source": [
    "cur.execute('''\n",
    "                DELETE FROM course\n",
    "                WHERE id in (6, 7, 8, 9)\n",
    "               ''')\n",
    "con.commit()"
   ],
   "metadata": {
    "collapsed": false,
    "pycharm": {
     "name": "#%%\n"
    }
   }
  },
  {
   "cell_type": "code",
   "execution_count": 8,
   "outputs": [
    {
     "data": {
      "text/plain": "                     name  holes_18       city  slope  rating  id   par\n0      Golf Costa Daurada        18  Tarragona  121.0    69.7   1  None\n1     Loch Palm Golf Club        18      Kathu  129.0    68.4   3  None\n2  Red Mountain Golf Club        18      Kathu  121.0    68.4   5  None",
      "text/html": "<div>\n<style scoped>\n    .dataframe tbody tr th:only-of-type {\n        vertical-align: middle;\n    }\n\n    .dataframe tbody tr th {\n        vertical-align: top;\n    }\n\n    .dataframe thead th {\n        text-align: right;\n    }\n</style>\n<table border=\"1\" class=\"dataframe\">\n  <thead>\n    <tr style=\"text-align: right;\">\n      <th></th>\n      <th>name</th>\n      <th>holes_18</th>\n      <th>city</th>\n      <th>slope</th>\n      <th>rating</th>\n      <th>id</th>\n      <th>par</th>\n    </tr>\n  </thead>\n  <tbody>\n    <tr>\n      <th>0</th>\n      <td>Golf Costa Daurada</td>\n      <td>18</td>\n      <td>Tarragona</td>\n      <td>121.0</td>\n      <td>69.7</td>\n      <td>1</td>\n      <td>None</td>\n    </tr>\n    <tr>\n      <th>1</th>\n      <td>Loch Palm Golf Club</td>\n      <td>18</td>\n      <td>Kathu</td>\n      <td>129.0</td>\n      <td>68.4</td>\n      <td>3</td>\n      <td>None</td>\n    </tr>\n    <tr>\n      <th>2</th>\n      <td>Red Mountain Golf Club</td>\n      <td>18</td>\n      <td>Kathu</td>\n      <td>121.0</td>\n      <td>68.4</td>\n      <td>5</td>\n      <td>None</td>\n    </tr>\n  </tbody>\n</table>\n</div>"
     },
     "execution_count": 8,
     "metadata": {},
     "output_type": "execute_result"
    }
   ],
   "source": [
    "# Database refresh\n",
    "db_refresh(con)"
   ],
   "metadata": {
    "collapsed": false,
    "pycharm": {
     "name": "#%%\n"
    }
   }
  },
  {
   "cell_type": "code",
   "execution_count": 9,
   "outputs": [],
   "source": [
    "con.close()"
   ],
   "metadata": {
    "collapsed": false,
    "pycharm": {
     "name": "#%%\n"
    }
   }
  },
  {
   "cell_type": "markdown",
   "source": [
    "## C.R.U.D\n",
    "- Par\n",
    "- Distance\n",
    "- Stroke Index\n"
   ],
   "metadata": {
    "collapsed": false
   }
  },
  {
   "cell_type": "code",
   "execution_count": 25,
   "outputs": [
    {
     "data": {
      "text/plain": "   Hole  Distance  Par  Stroke Index               Name\n0     1       357    4             2  Aravell Golf Club\n1     2       153    3            10  Aravell Golf Club\n2     3       283    4            18  Aravell Golf Club\n3     4       411    5            16  Aravell Golf Club\n4     5       328    4            12  Aravell Golf Club",
      "text/html": "<div>\n<style scoped>\n    .dataframe tbody tr th:only-of-type {\n        vertical-align: middle;\n    }\n\n    .dataframe tbody tr th {\n        vertical-align: top;\n    }\n\n    .dataframe thead th {\n        text-align: right;\n    }\n</style>\n<table border=\"1\" class=\"dataframe\">\n  <thead>\n    <tr style=\"text-align: right;\">\n      <th></th>\n      <th>Hole</th>\n      <th>Distance</th>\n      <th>Par</th>\n      <th>Stroke Index</th>\n      <th>Name</th>\n    </tr>\n  </thead>\n  <tbody>\n    <tr>\n      <th>0</th>\n      <td>1</td>\n      <td>357</td>\n      <td>4</td>\n      <td>2</td>\n      <td>Aravell Golf Club</td>\n    </tr>\n    <tr>\n      <th>1</th>\n      <td>2</td>\n      <td>153</td>\n      <td>3</td>\n      <td>10</td>\n      <td>Aravell Golf Club</td>\n    </tr>\n    <tr>\n      <th>2</th>\n      <td>3</td>\n      <td>283</td>\n      <td>4</td>\n      <td>18</td>\n      <td>Aravell Golf Club</td>\n    </tr>\n    <tr>\n      <th>3</th>\n      <td>4</td>\n      <td>411</td>\n      <td>5</td>\n      <td>16</td>\n      <td>Aravell Golf Club</td>\n    </tr>\n    <tr>\n      <th>4</th>\n      <td>5</td>\n      <td>328</td>\n      <td>4</td>\n      <td>12</td>\n      <td>Aravell Golf Club</td>\n    </tr>\n  </tbody>\n</table>\n</div>"
     },
     "execution_count": 25,
     "metadata": {},
     "output_type": "execute_result"
    }
   ],
   "source": [
    "course_score_card_df = pd.read_csv(r\"C:\\Users\\Jaume\\Documents\\Python Projects\\golf\\data\\interim\\golf_course_score_card_aravell.csv\")\n",
    "course_score_card_df.head()"
   ],
   "metadata": {
    "collapsed": false,
    "pycharm": {
     "name": "#%%\n"
    }
   }
  },
  {
   "cell_type": "markdown",
   "source": [
    "### Adding Row to Par\n",
    "This section will create a function that will read the file uploaded by a user and update the PAR table with the appropriate values"
   ],
   "metadata": {
    "collapsed": false,
    "pycharm": {
     "name": "#%% md\n"
    }
   }
  },
  {
   "cell_type": "code",
   "execution_count": 61,
   "outputs": [],
   "source": [
    "def insert_par(name, par, table):\n",
    "    \"\"\"\n",
    "\n",
    "    :param name:\n",
    "    :param par:\n",
    "    :return:\n",
    "    \"\"\"\n",
    "    if len(par) == 9:\n",
    "        sqlite_insert_with_param = \"\"\"INSERT INTO {}\n",
    "                  (course_id, hole1, hole2, hole3, hole4, hole5, hole6, hole7, hole8, hole9)\n",
    "                  VALUES (?, ?, ?, ?, ?, ?, ?, ?, ?, ?);\"\"\".format(table)\n",
    "        par = [str(x) for x in par_hole_par]\n",
    "        list_before_tuple = [name] + par\n",
    "        data_tuple = tuple(list_before_tuple)\n",
    "    elif len(par) == 18:\n",
    "        sqlite_insert_with_param = \"\"\"INSERT INTO {}\n",
    "                      (course_id, hole1, hole2, hole3, hole4, hole5, hole6, hole7, hole8, hole9, hole10, hole11, hole12, hole13, hole14, hole15, hole16, hole17, hole18)\n",
    "                      VALUES (?, ?, ?, ?, ?, ?, ?, ?, ?, ?, ?, ?, ?, ?, ?, ?, ?, ?, ?);\"\"\".format(table)\n",
    "        par = [str(x) for x in par_hole_par]\n",
    "        list_before_tuple = [name] + par\n",
    "        data_tuple = tuple(list_before_tuple)\n",
    "    cur.execute(sqlite_insert_with_param, data_tuple)\n",
    "    con.commit()\n",
    "    print(\"Python Variables inserted successfully into table\")"
   ],
   "metadata": {
    "collapsed": false,
    "pycharm": {
     "name": "#%%\n"
    }
   }
  },
  {
   "cell_type": "code",
   "execution_count": 63,
   "outputs": [
    {
     "name": "stdout",
     "output_type": "stream",
     "text": [
      "Python Variables inserted successfully into table\n"
     ]
    }
   ],
   "source": [
    "par_course_name = course_score_card_df[\"Name\"].iloc[0]\n",
    "par_hole_par = (course_score_card_df[\"Par\"])\n",
    "par_hole_par = [str(x) for x in par_hole_par]\n",
    "\n",
    "[par_course_name] + par_hole_par\n",
    "\n",
    "insert_par(par_course_name, par_hole_par, \"par\")"
   ],
   "metadata": {
    "collapsed": false,
    "pycharm": {
     "name": "#%%\n"
    }
   }
  },
  {
   "cell_type": "markdown",
   "source": [
    "### Generalising the Function\n",
    "We can evolve the function above to work for the *Par, Distance* and *Stroke Index* table\n"
   ],
   "metadata": {
    "collapsed": false,
    "pycharm": {
     "name": "#%% md\n"
    }
   }
  },
  {
   "cell_type": "code",
   "execution_count": 64,
   "outputs": [],
   "source": [
    "def make_data_tuple_hole9(table, course_name, course_feature):\n",
    "    \"\"\"\n",
    "\n",
    "    :param table:\n",
    "    :param course_name:\n",
    "    :param course_feature:\n",
    "    :return:\n",
    "    \"\"\"\n",
    "    sqlite_insert_with_param = \"\"\"INSERT INTO {}\n",
    "                  (course_id, hole1, hole2, hole3, hole4, hole5, hole6, hole7, hole8, hole9)\n",
    "                  VALUES (?, ?, ?, ?, ?, ?, ?, ?, ?, ?);\"\"\".format(table)\n",
    "    str_course_feature = [str(x) for x in course_feature]\n",
    "    list_before_tuple = [course_name] + str_course_feature\n",
    "    data_tuple = tuple(list_before_tuple)\n",
    "    return sqlite_insert_with_param, data_tuple\n",
    "\n",
    "def make_data_tuple_hole18(table, course_name, course_feature):\n",
    "    \"\"\"\n",
    "\n",
    "    :param table:\n",
    "    :param course_name:\n",
    "    :param course_feature:\n",
    "    :return:\n",
    "    \"\"\"\n",
    "    sqlite_insert_with_param = \"\"\"INSERT INTO {}\n",
    "                      (course_id, hole1, hole2, hole3, hole4, hole5, hole6, hole7, hole8, hole9, hole10, hole11, hole12, hole13, hole14, hole15, hole16, hole17, hole18)\n",
    "                      VALUES (?, ?, ?, ?, ?, ?, ?, ?, ?, ?, ?, ?, ?, ?, ?, ?, ?, ?, ?);\"\"\".format(table)\n",
    "    str_course_feature = [str(x) for x in course_feature]\n",
    "    list_before_tuple = [course_name] + str_course_feature\n",
    "    data_tuple = tuple(list_before_tuple)\n",
    "    return sqlite_insert_with_param, data_tuple\n",
    "\n",
    "\n",
    "def insert_score_card_feature_to_table(table, course_name, course_feature):\n",
    "    \"\"\"\n",
    "\n",
    "    :param name:\n",
    "    :param par:\n",
    "    :return:\n",
    "    \"\"\"\n",
    "    if len(course_feature) == 9:\n",
    "        sqlite_insert_with_param, data_tuple = make_data_tuple_hole9(table, course_name, course_feature)\n",
    "    elif len(course_feature) == 18:\n",
    "        sqlite_insert_with_param, data_tuple = make_data_tuple_hole18(table, course_name, course_feature)\n",
    "    cur.execute(sqlite_insert_with_param, data_tuple)\n",
    "    con.commit()\n",
    "    return None"
   ],
   "metadata": {
    "collapsed": false,
    "pycharm": {
     "name": "#%%\n"
    }
   }
  },
  {
   "cell_type": "code",
   "execution_count": null,
   "outputs": [],
   "source": [],
   "metadata": {
    "collapsed": false,
    "pycharm": {
     "name": "#%%\n"
    }
   }
  }
 ],
 "metadata": {
  "kernelspec": {
   "display_name": "Python 3",
   "language": "python",
   "name": "python3"
  },
  "language_info": {
   "codemirror_mode": {
    "name": "ipython",
    "version": 2
   },
   "file_extension": ".py",
   "mimetype": "text/x-python",
   "name": "python",
   "nbconvert_exporter": "python",
   "pygments_lexer": "ipython2",
   "version": "2.7.6"
  }
 },
 "nbformat": 4,
 "nbformat_minor": 0
}