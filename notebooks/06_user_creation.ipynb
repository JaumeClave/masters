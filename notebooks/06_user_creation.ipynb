{
 "cells": [
  {
   "cell_type": "markdown",
   "metadata": {
    "collapsed": true,
    "pycharm": {
     "name": "#%% md\n"
    }
   },
   "source": [
    "# Database Users\n",
    "Sunday 26th, 2022\n",
    "\n",
    "This notebook will work on the logic needed to create and manage user logins via the database"
   ]
  },
  {
   "cell_type": "code",
   "execution_count": 3,
   "outputs": [],
   "source": [
    "# Database connection\n",
    "import psycopg2\n",
    "from psycopg2 import Error\n",
    "\n",
    "def connect_to_postgres_database(user, password, database, host=\"127.0.0.1\", port=\"5432\"):\n",
    "    \"\"\"\n",
    "    Function connects to a database and returns the cursor object\n",
    "    :param user: database username\n",
    "    :param password: database password\n",
    "    :param database: database name\n",
    "    :param host: server location\n",
    "    :param port: listening port\n",
    "    :return: psycopg2 cursor object\n",
    "    \"\"\"\n",
    "    try:\n",
    "        con = psycopg2.connect(user=user,\n",
    "                               password=password,\n",
    "                               database=database,\n",
    "                               host=host,\n",
    "                               port=port)\n",
    "        cursor = con.cursor()\n",
    "    except (Exception, Error) as error:\n",
    "        print(\"Error while connecting to PostgreSQL\", error)\n",
    "    return con, cursor"
   ],
   "metadata": {
    "collapsed": false,
    "pycharm": {
     "name": "#%%\n"
    }
   }
  },
  {
   "cell_type": "code",
   "execution_count": 10,
   "outputs": [],
   "source": [
    "# Variables\n",
    "USER = \"postgres\"\n",
    "PASSWORD = \"Barca2011\"\n",
    "DATABASE = \"golf_dashboard_db\"\n",
    "\n",
    "con, cursor = connect_to_postgres_database(USER, PASSWORD, DATABASE, host=\"127.0.0.1\", port=\"5432\")"
   ],
   "metadata": {
    "collapsed": false,
    "pycharm": {
     "name": "#%%\n"
    }
   }
  },
  {
   "cell_type": "markdown",
   "source": [
    "### Hashlib"
   ],
   "metadata": {
    "collapsed": false,
    "pycharm": {
     "name": "#%% md\n"
    }
   }
  },
  {
   "cell_type": "code",
   "source": [
    "# Hashing\n",
    "def make_hashes(password):\n",
    "    \"\"\"\n",
    "    Function takes a given string and returns a hashed string\n",
    "    :param password: user password\n",
    "    :return: hashed password\n",
    "    \"\"\"\n",
    "    return hashlib.sha256(str.encode(password)).hexdigest()\n",
    "\n",
    "def check_hashes(password, hashed_text):\n",
    "    \"\"\"\n",
    "    Function checks if the provided password, when hashed, matches the hashed value for the password\n",
    "    :param password: user password\n",
    "    :param hashed_text: hashed password\n",
    "    :return: False/True\n",
    "    \"\"\"\n",
    "    if make_hashes(password) == hashed_text:\n",
    "        return hashed_text\n",
    "    return False"
   ],
   "metadata": {
    "collapsed": false,
    "pycharm": {
     "name": "#%%\n"
    }
   },
   "execution_count": null,
   "outputs": []
  },
  {
   "cell_type": "code",
   "execution_count": 17,
   "outputs": [],
   "source": [
    "hashed_password = make_hashes(\"password\")\n",
    "hashed_password"
   ],
   "metadata": {
    "collapsed": false,
    "pycharm": {
     "name": "#%%\n"
    }
   }
  },
  {
   "cell_type": "code",
   "execution_count": 18,
   "outputs": [
    {
     "data": {
      "text/plain": "'5e884898da28047151d0e56f8dc6292773603d0d6aabbdd62a11ef721d1542d8'"
     },
     "execution_count": 18,
     "metadata": {},
     "output_type": "execute_result"
    }
   ],
   "source": [
    "check_hashes(\"password\", hashed_password)"
   ],
   "metadata": {
    "collapsed": false,
    "pycharm": {
     "name": "#%%\n"
    }
   }
  },
  {
   "cell_type": "markdown",
   "source": [
    "### User Creation"
   ],
   "metadata": {
    "collapsed": false,
    "pycharm": {
     "name": "#%% md\n"
    }
   }
  },
  {
   "cell_type": "code",
   "execution_count": 12,
   "outputs": [],
   "source": [
    "import hashlib\n",
    "from datetime import datetime\n",
    "\n",
    "NON_UNIQUE_USERNAME = \"Username already exists. Please try again with a different one\"\n",
    "NON_UNIQUE_EMAIL = \"Email already exists. Please try again with a different one\"\n",
    "\n",
    "\n",
    "def cursor_execute_tuple(command, data_tuple):\n",
    "    \"\"\"\n",
    "    Function uses the cursor object to execute a command with a tuple pair. It commits and rollsback if error\n",
    "    :param command: SQL query to be executed\n",
    "    :param data_tuple: data pairing for SQL query variables\n",
    "    :return:\n",
    "    \"\"\"\n",
    "    try:\n",
    "        cursor.execute(command, data_tuple)\n",
    "        con.commit()\n",
    "        print(\"Successfully executed the command\")\n",
    "    except:\n",
    "        con.rollback()\n",
    "        print(\"Could not successfully execute the command\")\n",
    "    return None\n",
    "\n",
    "def make_check_for_unique_username(username_value):\n",
    "    \"\"\"\n",
    "    Function checks if the username provided is unique in username column in dashboard_user table\n",
    "    :param username_value: username\n",
    "    :return: False - if not unique\n",
    "    \"\"\"\n",
    "    insert_command = \"\"\"SELECT username FROM dashboard_user\n",
    "                        WHERE username = %s\n",
    "                        LIMIT 1;\"\"\"\n",
    "    cursor.execute(insert_command, [username_value])\n",
    "    returned_value = cursor.fetchall()\n",
    "    if len(returned_value) != 0:\n",
    "        return False\n",
    "\n",
    "def make_check_for_unique_email(email_value):\n",
    "    \"\"\"\n",
    "    Function checks if the email provided is unique in email column in the dashboard_user table\n",
    "    :param email_value: email\n",
    "    :return: False - if not unique\n",
    "    \"\"\"\n",
    "    insert_command = \"\"\"SELECT email FROM dashboard_user\n",
    "                        WHERE email = %s\n",
    "                        LIMIT 1;\"\"\"\n",
    "    cursor.execute(insert_command, [email_value])\n",
    "    returned_value = cursor.fetchall()\n",
    "    if len(returned_value) != 0:\n",
    "        return False\n",
    "\n",
    "# Hashing\n",
    "def make_hashes(password):\n",
    "    \"\"\"\n",
    "    Function takes a given string and returns a hashed string\n",
    "    :param password: user password\n",
    "    :return: hashed password\n",
    "    \"\"\"\n",
    "    return hashlib.sha256(str.encode(password)).hexdigest()\n",
    "\n",
    "def check_hashes(password, hashed_text):\n",
    "    \"\"\"\n",
    "    Function checks if the provided password, when hashed, matches the hashed value for the password\n",
    "    :param password: user password\n",
    "    :param hashed_text: hashed password\n",
    "    :return: False/True\n",
    "    \"\"\"\n",
    "    if make_hashes(password) == hashed_text:\n",
    "        return hashed_text\n",
    "    return False\n",
    "\n",
    "def make_date_time():\n",
    "    \"\"\"\n",
    "    Function makes the current date and time\n",
    "    :return: current date and time\n",
    "    \"\"\"\n",
    "    date_created = datetime.today().date()\n",
    "    time_created = datetime.now().time()\n",
    "    return date_created, time_created\n",
    "\n",
    "# Insert user data into user table\n",
    "def insert_user_in_user_table(username, password, email):\n",
    "    \"\"\"\n",
    "    Function attempts to insert a user into the dashboard_user table. It first checks to see if unique values exist for username and email\n",
    "    :param username: username\n",
    "    :param password: user password\n",
    "    :param email: email\n",
    "    :return: None\n",
    "    \"\"\"\n",
    "    if make_check_for_unique_username(username) == False:\n",
    "        return NON_UNIQUE_USERNAME\n",
    "    elif make_check_for_unique_email(email) == False:\n",
    "        return NON_UNIQUE_EMAIL\n",
    "    else:\n",
    "        hashed_password = make_hashes(password)\n",
    "        date_created, time_created = make_date_time()\n",
    "        insert_command = \"\"\"INSERT INTO dashboard_user\n",
    "                      (username, password, email, date_created, time_created)\n",
    "                      VALUES (%s, %s, %s, %s, %s);\"\"\"\n",
    "        data_tuple = (username, hashed_password, email, date_created, time_created)\n",
    "        cursor_execute_tuple(insert_command, data_tuple)\n",
    "    return None"
   ],
   "metadata": {
    "collapsed": false,
    "pycharm": {
     "name": "#%%\n"
    }
   }
  },
  {
   "cell_type": "code",
   "execution_count": 17,
   "outputs": [
    {
     "name": "stdout",
     "output_type": "stream",
     "text": [
      "Successfully executed the command\n"
     ]
    }
   ],
   "source": [
    "user_creation_statement = insert_user_in_user_table(\"sasddfasdd\", \"sdfsafsasddaasdasdsasdf\", \"sasdaszxczdxcxzcdf\")\n",
    "user_creation_statement"
   ],
   "metadata": {
    "collapsed": false,
    "pycharm": {
     "name": "#%%\n"
    }
   }
  },
  {
   "cell_type": "markdown",
   "source": [
    "### Sign-in"
   ],
   "metadata": {
    "collapsed": false,
    "pycharm": {
     "name": "#%% md\n"
    }
   }
  },
  {
   "cell_type": "code",
   "execution_count": 154,
   "outputs": [],
   "source": [
    "def make_username_password_login_check(username, password):\n",
    "    \"\"\"\n",
    "    Function checks the dashboard_user table to see if the username and password provided on login matches a registered user\n",
    "    :param username: username\n",
    "    :param password: user password\n",
    "    :return: True/False\n",
    "    \"\"\"\n",
    "    hashed_password = make_hashes(password)\n",
    "    insert_command = \"\"\"SELECT * FROM dashboard_user\n",
    "                        WHERE username = %s AND password = %s;\"\"\"\n",
    "    cursor.execute(insert_command, [username, hashed_password])\n",
    "    returned_value = cursor.fetchall()\n",
    "    if len(returned_value) != 0:\n",
    "        return True\n",
    "    else:\n",
    "        return False"
   ],
   "metadata": {
    "collapsed": false,
    "pycharm": {
     "name": "#%%\n"
    }
   }
  },
  {
   "cell_type": "code",
   "execution_count": 156,
   "outputs": [
    {
     "data": {
      "text/plain": "False"
     },
     "execution_count": 156,
     "metadata": {},
     "output_type": "execute_result"
    }
   ],
   "source": [
    "make_username_password_login_check(\"hello\", \"james1\")"
   ],
   "metadata": {
    "collapsed": false,
    "pycharm": {
     "name": "#%%\n"
    }
   }
  },
  {
   "cell_type": "code",
   "execution_count": 167,
   "outputs": [],
   "source": [
    "def make_id_from_username(username):\n",
    "    \"\"\"\n",
    "    Function checks the dashboard_user table and returns the user_id by referencing a username\n",
    "    :param username: username\n",
    "    :return: user_id\n",
    "    \"\"\"\n",
    "    insert_command = \"\"\"SELECT user_id FROM dashboard_user\n",
    "                        WHERE username = %s;\"\"\"\n",
    "    cursor.execute(insert_command, [username])\n",
    "    returned_value = cursor.fetchall()\n",
    "    return returned_value[0][0]"
   ],
   "metadata": {
    "collapsed": false,
    "pycharm": {
     "name": "#%%\n"
    }
   }
  },
  {
   "cell_type": "code",
   "execution_count": 168,
   "outputs": [
    {
     "data": {
      "text/plain": "15"
     },
     "execution_count": 168,
     "metadata": {},
     "output_type": "execute_result"
    }
   ],
   "source": [
    "make_id_from_username(\"james\")"
   ],
   "metadata": {
    "collapsed": false,
    "pycharm": {
     "name": "#%%\n"
    }
   }
  },
  {
   "cell_type": "code",
   "execution_count": null,
   "outputs": [],
   "source": [],
   "metadata": {
    "collapsed": false,
    "pycharm": {
     "name": "#%%\n"
    }
   }
  }
 ],
 "metadata": {
  "kernelspec": {
   "display_name": "Python 3",
   "language": "python",
   "name": "python3"
  },
  "language_info": {
   "codemirror_mode": {
    "name": "ipython",
    "version": 2
   },
   "file_extension": ".py",
   "mimetype": "text/x-python",
   "name": "python",
   "nbconvert_exporter": "python",
   "pygments_lexer": "ipython2",
   "version": "2.7.6"
  }
 },
 "nbformat": 4,
 "nbformat_minor": 0
}