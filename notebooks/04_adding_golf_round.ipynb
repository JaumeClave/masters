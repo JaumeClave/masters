{
 "cells": [
  {
   "cell_type": "code",
   "execution_count": 2,
   "outputs": [],
   "source": [
    "import psycopg2\n",
    "from psycopg2 import Error\n",
    "import pandas as pd\n",
    "import streamlit as st\n",
    "\n",
    "# Variables\n",
    "USER = \"postgres\"\n",
    "PASSWORD = \"Barca2011\"\n",
    "DATABASE = \"golf_dashboard_db\""
   ],
   "metadata": {
    "collapsed": false,
    "pycharm": {
     "name": "#%%\n"
    }
   }
  },
  {
   "cell_type": "markdown",
   "source": [
    "# Adding Golf Round\n",
    "This notebook will be used to build the functions needed to add a golf course round to the database"
   ],
   "metadata": {
    "collapsed": false
   }
  },
  {
   "cell_type": "markdown",
   "source": [
    "### All Functions (so far)"
   ],
   "metadata": {
    "collapsed": false,
    "pycharm": {
     "name": "#%% md\n"
    }
   }
  },
  {
   "cell_type": "code",
   "execution_count": 3,
   "outputs": [],
   "source": [
    "# Initialise connection and generate cursor\n",
    "def connect_to_postgres_database(user, password, database, host=\"127.0.0.1\", port=\"5432\"):\n",
    "    \"\"\"\n",
    "    Function connects to a database and returns the cursor object\n",
    "    :param user: database username\n",
    "    :param password: database password\n",
    "    :param database: database name\n",
    "    :param host: server location\n",
    "    :param port: listening port\n",
    "    :return: psycopg2 cursor object\n",
    "    \"\"\"\n",
    "    try:\n",
    "        con = psycopg2.connect(user=user,\n",
    "                               password=password,\n",
    "                               database=database,\n",
    "                               host=host,\n",
    "                               port=port)\n",
    "        cursor = con.cursor()\n",
    "    except (Exception, Error) as error:\n",
    "        print(\"Error while connecting to PostgreSQL\", error)\n",
    "    return con, cursor\n",
    "\n",
    "\n",
    "# View queried table as dataframe\n",
    "def table_to_dataframe(table):\n",
    "    \"\"\"\n",
    "    Function returns a queried table in a Pandas DataFrame\n",
    "    :param table: name of table in database\n",
    "    :return: dataframe of table\n",
    "    \"\"\"\n",
    "    cursor.execute(\"\"\"SELECT * FROM {}\"\"\".format(table))\n",
    "    tmp = cursor.fetchall()\n",
    "    col_names = list()\n",
    "    for elt in cursor.description:\n",
    "        col_names.append(elt[0])\n",
    "    df = pd.DataFrame(tmp, columns=col_names)\n",
    "    return df\n",
    "\n",
    "\n",
    "# Cursor execute command\n",
    "def cursor_execute_tuple(command, data_tuple):\n",
    "    \"\"\"\n",
    "    Function uses the cursor object to execute a command with a tuple pair. It commits and rollsback if error\n",
    "    :param command: SQL query to be executed\n",
    "    :param data_tuple: data pairing for SQL query variables\n",
    "    :return:\n",
    "    \"\"\"\n",
    "    try:\n",
    "        cursor.execute(command, data_tuple)\n",
    "        con.commit()\n",
    "        print(\"Successfully executed the command\")\n",
    "    except:\n",
    "        con.rollback()\n",
    "        print(\"Could not successfully execute the command\")\n",
    "    return None\n",
    "\n",
    "\n",
    "# Insert course data into course table\n",
    "def insert_course_in_course_table(name, holes_18, city, slope, rating, par, country):\n",
    "    \"\"\"\n",
    "    Function inserts course information into the course table\n",
    "    :param name: the name of the course (TEXT)\n",
    "    :param holes_18: the number of holes the course has (INT)\n",
    "    :param city: the city/location of the course (TEXT)\n",
    "    :param slope: the slope of the course (FLOAT)\n",
    "    :param rating: the rating of the course (FLOAT)\n",
    "    :param par: the par of the course (INT)\n",
    "    :param country: the country of the course (TEXT)\n",
    "    :return:\n",
    "    \"\"\"\n",
    "    insert_command = \"\"\"INSERT INTO course\n",
    "                  (name, holes_18, city, slope, rating,  par, country)\n",
    "                  VALUES (%s, %s, %s, %s, %s, %s, %s);\"\"\"\n",
    "    data_tuple = (name, holes_18, city, slope, rating, par, country)\n",
    "    cursor_execute_tuple(insert_command, data_tuple)\n",
    "    return None\n",
    "\n",
    "\n",
    "def get_id_from_course_name(course_name):\n",
    "    \"\"\"\n",
    "    Function returns the id of the course in the course table based on the name\n",
    "    :param course_name: name of course quiered\n",
    "    :return: id of course quiered\n",
    "    \"\"\"\n",
    "    insert_command = \"\"\"SELECT id FROM course\n",
    "                    WHERE name = %s;\"\"\"\n",
    "    cursor.execute(insert_command, [course_name])\n",
    "    returned_value = cursor.fetchall()\n",
    "    id = returned_value[0][0]\n",
    "    return id\n",
    "\n",
    "\n",
    "# Score card generate and download\n",
    "def make_hole_number_range_scorecard(course_holes18):\n",
    "    \"\"\"\n",
    "    Function creates a list of numbers. Either 9 holes or 18\n",
    "    :param course_holes18: number of holes the course has\n",
    "    :return: list of holes where number of holes is either 9 or 18\n",
    "    \"\"\"\n",
    "    if course_holes18 == 9:\n",
    "        list_of_holes = list(range(1, 10))\n",
    "    elif course_holes18 == 18:\n",
    "        list_of_holes = list(range(1, 19))\n",
    "    else:\n",
    "        pass\n",
    "    return list_of_holes\n",
    "\n",
    "\n",
    "def make_course_score_card_csv(course_name, course_holes18):\n",
    "    \"\"\"\n",
    "    Function will generate a .csv containing the course name and number of holes\n",
    "    :param course_name: name of course quiered\n",
    "    :param course_holes18: number of holes the course has\n",
    "    :return: to_csv object that can be downloaded\n",
    "    \"\"\"\n",
    "    course_score_card_template_df = pd.DataFrame()\n",
    "    list_of_holes = make_hole_number_range_scorecard(course_holes18)\n",
    "    course_score_card_template_df[\"Hole\"] = list_of_holes\n",
    "    course_score_card_template_df[\"Distance\"] = \"\"\n",
    "    course_score_card_template_df[\"Par\"] = \"\"\n",
    "    course_score_card_template_df[\"Stroke Index\"] = \"\"\n",
    "    course_score_card_template_df[\"Name\"] = course_name\n",
    "    course_score_card_template_df_csv = course_score_card_template_df.to_csv(index=False)\n",
    "    return course_score_card_template_df_csv\n",
    "\n",
    "\n",
    "# Insert course features par/distance/si\n",
    "def make_data_tuple_9holes(table, course_feature, course_id):\n",
    "    \"\"\"\n",
    "    Function creates the SQL command needed to insert features into a table - 9 holes\n",
    "    :param table: name of table in database\n",
    "    :param course_feature: list of features\n",
    "    :param course_id: id of course in course table\n",
    "    :return: insert SQL command, features as tuple\n",
    "    \"\"\"\n",
    "    insert_command = \"\"\"INSERT INTO {}\n",
    "                  (course_id, hole1, hole2, hole3, hole4, hole5, hole6, hole7, hole8, hole9)\n",
    "                  VALUES (%s, %s, %s, %s, %s, %s, %s, %s, %s, %s);\"\"\".format(table)\n",
    "    course_id_list = [course_id]\n",
    "    course_id_tuple = tuple(course_id_list)\n",
    "    feature_tuple = tuple(course_feature)\n",
    "    data_tuple = tuple(course_id_tuple) + tuple(feature_tuple)\n",
    "    return insert_command, data_tuple\n",
    "\n",
    "\n",
    "def make_data_tuple_18holes(table, course_feature, course_id):\n",
    "    \"\"\"\n",
    "    Function creates the SQL command needed to insert features into a table - 18 holes\n",
    "    :param table: name of table in database\n",
    "    :param course_feature: list of features\n",
    "    :param course_id: id of course in course table\n",
    "    :return: insert SQL command, features as tuple\n",
    "    \"\"\"\n",
    "    insert_command = \"\"\"INSERT INTO {}\n",
    "                      (course_id, hole1, hole2, hole3, hole4, hole5, hole6, hole7, hole8, hole9, hole10, hole11, hole12, hole13, hole14, hole15, hole16, hole17, hole18)\n",
    "                      VALUES (%s, %s, %s, %s, %s, %s, %s, %s, %s, %s, %s, %s, %s, %s, %s, %s, %s, %s, %s);\"\"\".format(\n",
    "        table)\n",
    "    course_id_list = [course_id]\n",
    "    course_id_tuple = tuple(course_id_list)\n",
    "    feature_tuple = tuple(course_feature)\n",
    "    data_tuple = tuple(course_id_tuple) + tuple(feature_tuple)\n",
    "    return insert_command, data_tuple\n",
    "\n",
    "\n",
    "def insert_score_card_feature_to_table(table, course_feature, course_id):\n",
    "    \"\"\"\n",
    "    Function pipelines the process to insert 9/18 hole feature information (par, si, distance) into a database table\n",
    "    :param table: name of table in database\n",
    "    :param course_feature: list of features\n",
    "    :param course_id: id of course in course table\n",
    "    :return:\n",
    "    \"\"\"\n",
    "    if len(course_feature) == 9:\n",
    "        insert_command, data_tuple = make_data_tuple_9holes(table, course_feature, course_id)\n",
    "    elif len(course_feature) == 18:\n",
    "        insert_command, data_tuple = make_data_tuple_18holes(table, course_feature, course_id)\n",
    "    cursor_execute_tuple(insert_command, data_tuple)\n",
    "    return None"
   ],
   "metadata": {
    "collapsed": false,
    "pycharm": {
     "name": "#%%\n"
    }
   }
  },
  {
   "cell_type": "markdown",
   "source": [
    "### Establish Connection"
   ],
   "metadata": {
    "collapsed": false,
    "pycharm": {
     "name": "#%% md\n"
    }
   }
  },
  {
   "cell_type": "code",
   "execution_count": 11,
   "outputs": [],
   "source": [
    "con, cursor = connect_to_postgres_database(USER, PASSWORD, DATABASE, host=\"127.0.0.1\",\n",
    "                                           port=\"5432\")"
   ],
   "metadata": {
    "collapsed": false,
    "pycharm": {
     "name": "#%%\n"
    }
   }
  },
  {
   "cell_type": "markdown",
   "source": [
    "### Return Course Features via Course Name"
   ],
   "metadata": {
    "collapsed": false,
    "pycharm": {
     "name": "#%% md\n"
    }
   }
  },
  {
   "cell_type": "code",
   "execution_count": 5,
   "outputs": [
    {
     "ename": "UndefinedColumn",
     "evalue": "column \"id\" does not exist\nLINE 1: SELECT id FROM course\n               ^\n",
     "output_type": "error",
     "traceback": [
      "\u001B[1;31m---------------------------------------------------------------------------\u001B[0m",
      "\u001B[1;31mUndefinedColumn\u001B[0m                           Traceback (most recent call last)",
      "Input \u001B[1;32mIn [5]\u001B[0m, in \u001B[0;36m<module>\u001B[1;34m\u001B[0m\n\u001B[0;32m      1\u001B[0m course_name \u001B[38;5;241m=\u001B[39m \u001B[38;5;124m\"\u001B[39m\u001B[38;5;124mRed Mountain Golf Club\u001B[39m\u001B[38;5;124m\"\u001B[39m\n\u001B[1;32m----> 2\u001B[0m \u001B[43mget_id_from_course_name\u001B[49m\u001B[43m(\u001B[49m\u001B[43mcourse_name\u001B[49m\u001B[43m)\u001B[49m\n",
      "Input \u001B[1;32mIn [3]\u001B[0m, in \u001B[0;36mget_id_from_course_name\u001B[1;34m(course_name)\u001B[0m\n\u001B[0;32m     80\u001B[0m \u001B[38;5;124;03m\"\"\"\u001B[39;00m\n\u001B[0;32m     81\u001B[0m \u001B[38;5;124;03mFunction returns the id of the course in the course table based on the name\u001B[39;00m\n\u001B[0;32m     82\u001B[0m \u001B[38;5;124;03m:param course_name: name of course quiered\u001B[39;00m\n\u001B[0;32m     83\u001B[0m \u001B[38;5;124;03m:return: id of course quiered\u001B[39;00m\n\u001B[0;32m     84\u001B[0m \u001B[38;5;124;03m\"\"\"\u001B[39;00m\n\u001B[0;32m     85\u001B[0m insert_command \u001B[38;5;241m=\u001B[39m \u001B[38;5;124m\"\"\"\u001B[39m\u001B[38;5;124mSELECT id FROM course\u001B[39m\n\u001B[0;32m     86\u001B[0m \u001B[38;5;124m                WHERE name = \u001B[39m\u001B[38;5;132;01m%s\u001B[39;00m\u001B[38;5;124m;\u001B[39m\u001B[38;5;124m\"\"\"\u001B[39m\n\u001B[1;32m---> 87\u001B[0m \u001B[43mcursor\u001B[49m\u001B[38;5;241;43m.\u001B[39;49m\u001B[43mexecute\u001B[49m\u001B[43m(\u001B[49m\u001B[43minsert_command\u001B[49m\u001B[43m,\u001B[49m\u001B[43m \u001B[49m\u001B[43m[\u001B[49m\u001B[43mcourse_name\u001B[49m\u001B[43m]\u001B[49m\u001B[43m)\u001B[49m\n\u001B[0;32m     88\u001B[0m returned_value \u001B[38;5;241m=\u001B[39m cursor\u001B[38;5;241m.\u001B[39mfetchall()\n\u001B[0;32m     89\u001B[0m \u001B[38;5;28mid\u001B[39m \u001B[38;5;241m=\u001B[39m returned_value[\u001B[38;5;241m0\u001B[39m][\u001B[38;5;241m0\u001B[39m]\n",
      "\u001B[1;31mUndefinedColumn\u001B[0m: column \"id\" does not exist\nLINE 1: SELECT id FROM course\n               ^\n"
     ]
    }
   ],
   "source": [
    "course_name = \"Red Mountain Golf Club\"\n",
    "get_id_from_course_name(course_name)"
   ],
   "metadata": {
    "collapsed": false,
    "pycharm": {
     "name": "#%%\n"
    }
   }
  },
  {
   "cell_type": "code",
   "execution_count": null,
   "outputs": [],
   "source": [
    "def make_course_feature_using_course_id(course_id, table, holes=\"18\"):\n",
    "    \"\"\"\n",
    "    Function returns the row for a course feature table based on the id passed. It returns the specified number of holes 18, Front 9 or Back 9 based on the \"holes\" parameter\n",
    "    :param course_id: id of course in course table\n",
    "    :return: list of course features\n",
    "    \"\"\"\n",
    "    insert_command = \"\"\"SELECT * FROM {}\n",
    "                WHERE course_id = %s;\"\"\".format(table)\n",
    "    cursor.execute(insert_command, [course_id])\n",
    "    returned_value = cursor.fetchall()\n",
    "    feature_list = list(returned_value[0])\n",
    "    if holes == \"Front 9\":\n",
    "        feature_list = feature_list[:9]\n",
    "    elif holes == \"Back 9\":\n",
    "        feature_list = feature_list[10:]\n",
    "    else:\n",
    "        pass\n",
    "    return feature_list"
   ],
   "metadata": {
    "collapsed": false,
    "pycharm": {
     "name": "#%%\n"
    }
   }
  },
  {
   "cell_type": "code",
   "execution_count": null,
   "outputs": [],
   "source": [
    "course_distance_list = make_course_feature_using_course_id(80, \"course_distance\", \"Front 9\")\n",
    "course_par_list = make_course_feature_using_course_id(80, \"course_par\")\n",
    "course_si_list = make_course_feature_using_course_id(80, \"course_stroke_index\")\n",
    "course_distance_list"
   ],
   "metadata": {
    "collapsed": false,
    "pycharm": {
     "name": "#%%\n"
    }
   }
  },
  {
   "cell_type": "code",
   "execution_count": null,
   "outputs": [],
   "source": [
    "DISTANCE_TABLE = \"course_distance\"\n",
    "PAR_TABLE = \"course_par\"\n",
    "SI_TABLE = \"course_stroke_index\"\n",
    "\n",
    "def make_all_course_feature_lists(course_id):\n",
    "    \"\"\"\n",
    "    Function pipelines all three calls to the three course feature tables\n",
    "    :param course_id: id of course in course table\n",
    "    :return: three lists made of distance, par, si\n",
    "    \"\"\"\n",
    "    course_distance_list = make_course_feature_using_course_id(course_id, DISTANCE_TABLE)\n",
    "    course_par_list = make_course_feature_using_course_id(course_id, PAR_TABLE)\n",
    "    course_si_list = make_course_feature_using_course_id(course_id, SI_TABLE)\n",
    "    return course_distance_list, course_par_list, course_si_list"
   ],
   "metadata": {
    "collapsed": false,
    "pycharm": {
     "name": "#%%\n"
    }
   }
  },
  {
   "cell_type": "code",
   "execution_count": null,
   "outputs": [],
   "source": [
    "course_distance_list, course_par_list, course_si_list = make_all_course_feature_lists(80)"
   ],
   "metadata": {
    "collapsed": false,
    "pycharm": {
     "name": "#%%\n"
    }
   }
  },
  {
   "cell_type": "code",
   "execution_count": null,
   "outputs": [],
   "source": [
    "temp_df = pd.DataFrame()\n",
    "temp_df[\"Distance\"] = course_distance_list\n",
    "temp_df[\"HCP\"] = course_si_list\n",
    "temp_df[\"Par\"] = course_par_list"
   ],
   "metadata": {
    "collapsed": false,
    "pycharm": {
     "name": "#%%\n"
    }
   }
  },
  {
   "cell_type": "code",
   "execution_count": null,
   "outputs": [],
   "source": [
    "temp_df"
   ],
   "metadata": {
    "collapsed": false,
    "pycharm": {
     "name": "#%%\n"
    }
   }
  },
  {
   "cell_type": "code",
   "execution_count": null,
   "outputs": [],
   "source": [
    "def make_round_score_card_csv(course_distance_list, course_si_list, course_par_list):\n",
    "    \"\"\"\n",
    "    Function will generate a .csv containing the course distance/si/par along with blank entries for strokes/putts/fir/gir\n",
    "    :param course_distance_list: the distances of each hole on the course\n",
    "    :param course_si_list: the stroke index of each hole on the course\n",
    "    :param course_par_list: the par of each hole on the course\n",
    "    :return: to_csv object that can be downloaded\n",
    "    \"\"\"\n",
    "    round_score_card_template_df = pd.DataFrame()\n",
    "    round_score_card_template_df[\"Distance\"] = course_distance_list\n",
    "    round_score_card_template_df[\"Stroke Index\"] = course_si_list\n",
    "    round_score_card_template_df[\"Par\"] = course_par_list\n",
    "    round_score_card_template_df[\"Shots\"] = \"\"\n",
    "    round_score_card_template_df[\"Putts\"] = \"\"\n",
    "    round_score_card_template_df[\"FIR\"] = \"\"\n",
    "    round_score_card_template_df[\"GIR\"] = \"\"\n",
    "    round_score_card_template_df_csv = round_score_card_template_df.to_csv(index=False)\n",
    "    return round_score_card_template_df_csv"
   ],
   "metadata": {
    "collapsed": false,
    "pycharm": {
     "name": "#%%\n"
    }
   }
  },
  {
   "cell_type": "code",
   "execution_count": null,
   "outputs": [],
   "source": [
    "DISTANCE_TABLE = \"course_distance\"\n",
    "PAR_TABLE = \"course_par\"\n",
    "SI_TABLE = \"course_stroke_index\"\n",
    "\n",
    "\n",
    "def make_course_feature_using_course_id(course_id, table, holes=\"18\"):\n",
    "    \"\"\"\n",
    "    Function returns the row for a course feature table based on the id passed. It returns the specified number of holes 18, Front 9 or Back 9 based on the \"holes\" parameter\n",
    "    :param course_id: id of course in course table\n",
    "    :return: list of course features\n",
    "    \"\"\"\n",
    "    insert_command = \"\"\"SELECT * FROM {}\n",
    "                WHERE course_id = %s;\"\"\".format(table)\n",
    "    cursor.execute(insert_command, [course_id])\n",
    "    returned_value = cursor.fetchall()\n",
    "    feature_list = list(returned_value[0])\n",
    "    if holes == \"Front 9\":\n",
    "        feature_list = feature_list[1:10]\n",
    "    elif holes == \"Back 9\":\n",
    "        feature_list = feature_list[10:]\n",
    "    else:\n",
    "        feature_list = feature_list[1:]\n",
    "    return feature_list\n",
    "\n",
    "def make_hole_number_list(holes):\n",
    "    \"\"\"\n",
    "    Function creates a list of numbers. Either 1-9, 10-18 holes or 1-18\n",
    "    :param holes: number of holes the course has\n",
    "    :return: list of holes where number of holes is either 1-9, 10-18 holes or 1-18\n",
    "    \"\"\"\n",
    "    if holes == \"Front 9\":\n",
    "        list_of_holes = list(range(1, 10))\n",
    "    elif holes == \"Back 9\":\n",
    "        list_of_holes = list(range(10, 19))\n",
    "    elif holes == \"18\":\n",
    "        list_of_holes = list(range(1, 19))\n",
    "    else:\n",
    "        pass\n",
    "    return list_of_holes\n",
    "\n",
    "def make_all_course_feature_lists(course_id, holes=\"18\"):\n",
    "    \"\"\"\n",
    "    Function pipelines all three calls to the three course feature tables\n",
    "    :param course_id: id of course in course table\n",
    "    :return: three lists made of distance, par, si\n",
    "    \"\"\"\n",
    "    list_of_holes = make_hole_number_list(holes)\n",
    "    course_distance_list =  (course_id, DISTANCE_TABLE, holes)\n",
    "    course_par_list = make_course_feature_using_course_id(course_id, PAR_TABLE, holes)\n",
    "    course_si_list = make_course_feature_using_course_id(course_id, SI_TABLE, holes)\n",
    "    return list_of_holes, course_distance_list, course_par_list, course_si_list\n",
    "\n",
    "def make_round_score_card_csv(list_of_holes, course_distance_list, course_si_list, course_par_list):\n",
    "    \"\"\"\n",
    "    Function will generate a .csv containing the course distance/si/par along with blank entries for strokes/putts/fir/gir\n",
    "    :param course_distance_list: the distances of each hole on the course\n",
    "    :param course_si_list: the stroke index of each hole on the course\n",
    "    :param course_par_list: the par of each hole on the course\n",
    "    :return: to_csv object that can be downloaded\n",
    "    \"\"\"\n",
    "    round_score_card_template_df = pd.DataFrame()\n",
    "    round_score_card_template_df[\"Hole\"] = list_of_holes\n",
    "    round_score_card_template_df[\"Distance\"] = course_distance_list\n",
    "    round_score_card_template_df[\"Stroke Index\"] = course_si_list\n",
    "    round_score_card_template_df[\"Par\"] = course_par_list\n",
    "    round_score_card_template_df[\"Shots\"] = \"\"\n",
    "    round_score_card_template_df[\"Putts\"] = \"\"\n",
    "    round_score_card_template_df[\"FIR\"] = \"\"\n",
    "    round_score_card_template_df[\"GIR\"] = \"\"\n",
    "    round_score_card_template_df_csv = round_score_card_template_df.to_csv(index=False)\n",
    "    return round_score_card_template_df, round_score_card_template_df_csv\n",
    "\n",
    "def make_pipeline_round_score_card_csv(course_name, holes=\"18\"):\n",
    "    \"\"\"\n",
    "    Function pipelines the process required to generate the round score card which includes course features such distance/si/par along with blank entries for strokes/putts/fir/gir\n",
    "    :param course_name: course name\n",
    "    :return: round score card csv\n",
    "    \"\"\"\n",
    "    course_id = get_id_from_course_name(course_name)\n",
    "    list_of_holes, course_distance_list, course_par_list, course_si_list = make_all_course_feature_lists(course_id, holes)\n",
    "    round_score_card_template_df, round_score_card_template_df_csv = make_round_score_card_csv(list_of_holes, course_distance_list, course_si_list, course_par_list)\n",
    "    return round_score_card_template_df, round_score_card_template_df_csv"
   ],
   "metadata": {
    "collapsed": false,
    "pycharm": {
     "name": "#%%\n"
    }
   }
  },
  {
   "cell_type": "markdown",
   "source": [
    "### Getting Course Names"
   ],
   "metadata": {
    "collapsed": false,
    "pycharm": {
     "name": "#%% md\n"
    }
   }
  },
  {
   "cell_type": "code",
   "execution_count": null,
   "outputs": [],
   "source": [
    "def make_alphabetical_course_name_list():\n",
    "    \"\"\"\n",
    "    Function returns the row for a course feature table based on the id passed\n",
    "    :param course_id: id of course in course table\n",
    "    :return: sorted list of courses in course table\n",
    "    \"\"\"\n",
    "    insert_command = \"\"\"SELECT name FROM course;\"\"\"\n",
    "    cursor.execute(insert_command,)\n",
    "    returned_value = cursor.fetchall()\n",
    "    feature_list = list(returned_value)\n",
    "    sorted_feature_list = sorted([i[0] for i in feature_list])\n",
    "    return sorted_feature_list"
   ],
   "metadata": {
    "collapsed": false,
    "pycharm": {
     "name": "#%%\n"
    }
   }
  },
  {
   "cell_type": "code",
   "execution_count": null,
   "outputs": [],
   "source": [
    "course_name_list = make_alphabetical_course_name_list()\n",
    "course_name_list"
   ],
   "metadata": {
    "collapsed": false,
    "pycharm": {
     "name": "#%%\n"
    }
   }
  },
  {
   "cell_type": "markdown",
   "source": [
    "### Insert Round in Round Table"
   ],
   "metadata": {
    "collapsed": false,
    "pycharm": {
     "name": "#%% md\n"
    }
   }
  },
  {
   "cell_type": "code",
   "execution_count": 18,
   "outputs": [
    {
     "data": {
      "text/plain": "datetime.time(13, 30, 30, 642548)"
     },
     "execution_count": 18,
     "metadata": {},
     "output_type": "execute_result"
    }
   ],
   "source": [
    "datetime.now().time()"
   ],
   "metadata": {
    "collapsed": false,
    "pycharm": {
     "name": "#%%\n"
    }
   }
  },
  {
   "cell_type": "code",
   "execution_count": 20,
   "outputs": [],
   "source": [
    "def make_date_time_created():\n",
    "    \"\"\"\n",
    "    Function makes the current date and time\n",
    "    :return: current date and time\n",
    "    \"\"\"\n",
    "    date_created = datetime.today().date()\n",
    "    time_created = datetime.now().time()\n",
    "    return date_created, time_created"
   ],
   "metadata": {
    "collapsed": false,
    "pycharm": {
     "name": "#%%\n"
    }
   }
  },
  {
   "cell_type": "code",
   "execution_count": 21,
   "outputs": [
    {
     "data": {
      "text/plain": "(datetime.date(2022, 3, 5), datetime.time(13, 31, 6, 870524))"
     },
     "execution_count": 21,
     "metadata": {},
     "output_type": "execute_result"
    }
   ],
   "source": [
    "date_created, time_created = make_date_time_created()\n",
    "date_created, time_created"
   ],
   "metadata": {
    "collapsed": false,
    "pycharm": {
     "name": "#%%\n"
    }
   }
  },
  {
   "cell_type": "code",
   "execution_count": 49,
   "outputs": [],
   "source": [
    "from datetime import datetime\n",
    "\n",
    "def make_date_time_created():\n",
    "    \"\"\"\n",
    "    Function makes the current date and time\n",
    "    :return: current date and time\n",
    "    \"\"\"\n",
    "    date_created = datetime.today().date()\n",
    "    time_created = datetime.now().time().strftime(\"%H:%M:%S\")\n",
    "    return date_created, time_created\n",
    "\n",
    "# Insert course data into course table\n",
    "def insert_round_in_round_table(course_id, user_id, date_played, tee_time, temperature, humidity, wind_speed, precipitation, weather_condition, holes_played):\n",
    "    \"\"\"\n",
    "    Function inserts table information into the table table\n",
    "    :param course_id: id of course\n",
    "    :param user_id: id of user\n",
    "    :param date_played: date played\n",
    "    :param tee_time: time tee'd off\n",
    "    :param temperature: average round temperature\n",
    "    :param humidity: average round humidity\n",
    "    :param wind_speed: average round wind speed\n",
    "    :param precipitation: total round rainfall\n",
    "    :param weather_condition: round weather condition\n",
    "    :param holes_played: holes played that round\n",
    "    :return: date and time created\n",
    "    \"\"\"\n",
    "    insert_command = \"\"\"INSERT INTO round\n",
    "                  (course_id, user_id, date_played, tee_time, temperature, humidity, wind_speed, precipitation, weather_condition, holes_played, date_created, time_created)\n",
    "                  VALUES (%s, %s, %s, %s, %s, %s, %s, %s, %s, %s, %s, %s);\"\"\"\n",
    "    date_created, time_created = make_date_time_created()\n",
    "    data_tuple = (course_id, user_id, date_played, tee_time, temperature, humidity, wind_speed, precipitation, weather_condition, holes_played, date_created, time_created)\n",
    "    cursor_execute_tuple(insert_command, data_tuple)\n",
    "    return date_created, time_created"
   ],
   "metadata": {
    "collapsed": false,
    "pycharm": {
     "name": "#%%\n"
    }
   }
  },
  {
   "cell_type": "code",
   "execution_count": 50,
   "outputs": [
    {
     "name": "stdout",
     "output_type": "stream",
     "text": [
      "Successfully executed the command\n"
     ]
    },
    {
     "data": {
      "text/plain": "(datetime.date(2022, 3, 5), '14:28:08')"
     },
     "execution_count": 50,
     "metadata": {},
     "output_type": "execute_result"
    }
   ],
   "source": [
    "course_id = 80\n",
    "user_id = 12\n",
    "date_played = datetime.today().date()\n",
    "tee_time = 5\n",
    "temperature = 4\n",
    "humidity = 73\n",
    "wind_speed = 39\n",
    "precipitation = 80\n",
    "weather_condition = \"cold\"\n",
    "holes_played = 18\n",
    "\n",
    "\n",
    "insert_round_in_round_table(course_id, user_id, date_played, tee_time, temperature, humidity, wind_speed, precipitation, weather_condition, holes_played)"
   ],
   "metadata": {
    "collapsed": false,
    "pycharm": {
     "name": "#%%\n"
    }
   }
  },
  {
   "cell_type": "markdown",
   "source": [
    "### Insert Round Feature into Round Feature Table"
   ],
   "metadata": {
    "collapsed": false,
    "pycharm": {
     "name": "#%% md\n"
    }
   }
  },
  {
   "cell_type": "code",
   "execution_count": 123,
   "outputs": [],
   "source": [
    "FRONT9 = \"Front 9\"\n",
    "BACK9 = \"Back 9\"\n",
    "ALL18 = \"18\"\n",
    "\n",
    "\n",
    "# Insert course features par/distance/si\n",
    "def make_data_tuple_front9(table, round_feature, round_id):\n",
    "    \"\"\"\n",
    "    Function creates the SQL command needed to insert features into a table for the FRONT9\n",
    "    :param table: name of table in database\n",
    "    :param round_feature: list of features\n",
    "    :param round_id: id of round in round table\n",
    "    :return: insert SQL command, features as tuple\n",
    "    \"\"\"\n",
    "    insert_command = \"\"\"INSERT INTO {}\n",
    "                  (round_id, hole1, hole2, hole3, hole4, hole5, hole6, hole7, hole8, hole9)\n",
    "                  VALUES (%s, %s, %s, %s, %s, %s, %s, %s, %s, %s);\"\"\".format(table)\n",
    "    round_id_list = [round_id]\n",
    "    round_id_tuple = tuple(round_id_list)\n",
    "    feature_tuple = tuple(round_feature)\n",
    "    data_tuple = tuple(round_id_tuple) + tuple(feature_tuple)\n",
    "    return insert_command, data_tuple\n",
    "\n",
    "def make_data_tuple_back9(table, round_feature, round_id):\n",
    "    \"\"\"\n",
    "    Function creates the SQL command needed to insert features into a table for the BACK9\n",
    "    :param table: name of table in database\n",
    "    :param round_feature: list of features\n",
    "    :param round_id: id of round in round table\n",
    "    :return: insert SQL command, features as tuple\n",
    "    \"\"\"\n",
    "    insert_command = \"\"\"INSERT INTO {}\n",
    "                  (round_id, hole10, hole11, hole12, hole13, hole14, hole15, hole16, hole17, hole18)\n",
    "                  VALUES (%s, %s, %s, %s, %s, %s, %s, %s, %s, %s);\"\"\".format(table)\n",
    "    round_id_list = [round_id]\n",
    "    round_id_tuple = tuple(round_id_list)\n",
    "    feature_tuple = tuple(round_feature)\n",
    "    data_tuple = tuple(round_id_tuple) + tuple(feature_tuple)\n",
    "    return insert_command, data_tuple\n",
    "\n",
    "\n",
    "def make_data_tuple_18holes(table, round_feature, round_id):\n",
    "    \"\"\"\n",
    "    Function creates the SQL command needed to insert features into a table - 18 holes\n",
    "    :param table: name of table in database\n",
    "    :param round_feature: list of features\n",
    "    :param round_id: id of round in round table\n",
    "    :return: insert SQL command, features as tuple\n",
    "    \"\"\"\n",
    "    insert_command = \"\"\"INSERT INTO {}\n",
    "                      (round_id, hole1, hole2, hole3, hole4, hole5, hole6, hole7, hole8, hole9, hole10, hole11, hole12, hole13, hole14, hole15, hole16, hole17, hole18)\n",
    "                      VALUES (%s, %s, %s, %s, %s, %s, %s, %s, %s, %s, %s, %s, %s, %s, %s, %s, %s, %s, %s);\"\"\".format(table)\n",
    "    round_id_list = [round_id]\n",
    "    round_id_tuple = tuple(round_id_list)\n",
    "    feature_tuple = tuple(round_feature)\n",
    "    data_tuple = tuple(round_id_tuple) + tuple(feature_tuple)\n",
    "    return insert_command, data_tuple\n",
    "\n",
    "def insert_round_score_card_feature_to_table(table, round_id, holes_played, round_feature):\n",
    "    \"\"\"\n",
    "    Function pipelines the process to insert 9/18 hole round feature information (shots, putts, fir, gir) into a database table\n",
    "    :param table: name of table in database\n",
    "    :param round_feature: list of features\n",
    "    :param holes_played: the amount of holes played\n",
    "    :param round_id: id of round in round table\n",
    "    :return:\n",
    "    \"\"\"\n",
    "    if holes_played == FRONT9:\n",
    "        insert_command, data_tuple = make_data_tuple_front9(table, round_feature, round_id)\n",
    "        cursor_execute_tuple(insert_command, data_tuple)\n",
    "    elif holes_played == BACK9:\n",
    "        insert_command, data_tuple = make_data_tuple_back9(table, round_feature, round_id)\n",
    "        cursor_execute_tuple(insert_command, data_tuple)\n",
    "    elif holes_played == ALL18:\n",
    "        insert_command, data_tuple = make_data_tuple_18holes(table, round_feature, round_id)\n",
    "        cursor_execute_tuple(insert_command, data_tuple)\n",
    "    return None"
   ],
   "metadata": {
    "collapsed": false,
    "pycharm": {
     "name": "#%%\n"
    }
   }
  },
  {
   "cell_type": "code",
   "execution_count": 124,
   "outputs": [],
   "source": [
    "con, cursor = connect_to_postgres_database(USER, PASSWORD, DATABASE, host=\"127.0.0.1\",\n",
    "                                           port=\"5432\")"
   ],
   "metadata": {
    "collapsed": false,
    "pycharm": {
     "name": "#%%\n"
    }
   }
  },
  {
   "cell_type": "code",
   "execution_count": 125,
   "outputs": [
    {
     "name": "stdout",
     "output_type": "stream",
     "text": [
      "Could not successfully execute the command\n"
     ]
    }
   ],
   "source": [
    "insert_round_score_card_feature_to_table(\"round_fir\", 20, \"18\", [0, 0, 0, 0, 0, 0, 0, 0, 0, 0, 0, 0, 0, 0, 0, 0, 0, 0])"
   ],
   "metadata": {
    "collapsed": false,
    "pycharm": {
     "name": "#%%\n"
    }
   }
  },
  {
   "cell_type": "markdown",
   "source": [
    "    #### Get Round ID"
   ],
   "metadata": {
    "collapsed": false,
    "pycharm": {
     "name": "#%% md\n"
    }
   }
  },
  {
   "cell_type": "code",
   "execution_count": 88,
   "outputs": [],
   "source": [
    "def get_id_from_course_name(course_name):\n",
    "    \"\"\"\n",
    "    Function returns the id of the course in the course table based on the name\n",
    "    :param course_name: name of course quiered\n",
    "    :return: id of course quiered\n",
    "    \"\"\"\n",
    "    insert_command = \"\"\"SELECT course_id FROM course\n",
    "                    WHERE name = %s;\"\"\"\n",
    "    cursor.execute(insert_command, [course_name])\n",
    "    returned_value = cursor.fetchall()\n",
    "    id = returned_value[0][0]\n",
    "    return id"
   ],
   "metadata": {
    "collapsed": false,
    "pycharm": {
     "name": "#%%\n"
    }
   }
  },
  {
   "cell_type": "code",
   "execution_count": 89,
   "outputs": [],
   "source": [
    "def get_round_id_from_round_features(course_id, user_id, date_played, tee_time, date_created, time_created):\n",
    "    \"\"\"\n",
    "    Function returns the round id for a round based on key features of that round\n",
    "    :param course_id: id of course\n",
    "    :param user_id: id of user\n",
    "    :param date_played: date round was played\n",
    "    :param tee_time: time tee time was\n",
    "    :param date_created: date round was created\n",
    "    :param time_created: time round was created\n",
    "    :return: round of id\n",
    "    \"\"\"\n",
    "    insert_command = \"\"\"SELECT round_id FROM round\n",
    "                    WHERE course_id = %s AND user_id = %s AND date_played = %s AND tee_time = %s AND date_created = %s AND time_created = %s;\"\"\"\n",
    "    cursor.execute(insert_command, [course_id, user_id, date_played, tee_time, date_created, time_created])\n",
    "    returned_value = cursor.fetchall()\n",
    "    round_id = returned_value[0][0]\n",
    "    return round_id\n"
   ],
   "metadata": {
    "collapsed": false,
    "pycharm": {
     "name": "#%%\n"
    }
   }
  },
  {
   "cell_type": "code",
   "execution_count": 90,
   "outputs": [],
   "source": [
    "con, cursor = connect_to_postgres_database(USER, PASSWORD, DATABASE, host=\"127.0.0.1\",\n",
    "                                           port=\"5432\")"
   ],
   "metadata": {
    "collapsed": false,
    "pycharm": {
     "name": "#%%\n"
    }
   }
  },
  {
   "cell_type": "code",
   "execution_count": 91,
   "outputs": [
    {
     "data": {
      "text/plain": "17"
     },
     "execution_count": 91,
     "metadata": {},
     "output_type": "execute_result"
    }
   ],
   "source": [
    "date_created = \"2022-03-05\"\n",
    "time_created = \"14:28:08\"\n",
    "get_round_id_from_round_features(80, 12, \"2022-03-05\", 5, date_created, time_created)"
   ],
   "metadata": {
    "collapsed": false,
    "pycharm": {
     "name": "#%%\n"
    }
   }
  },
  {
   "cell_type": "markdown",
   "source": [
    "#### Reading Round Score Card"
   ],
   "metadata": {
    "collapsed": false,
    "pycharm": {
     "name": "#%% md\n"
    }
   }
  },
  {
   "cell_type": "code",
   "execution_count": 92,
   "outputs": [
    {
     "data": {
      "text/plain": "    Hole  Distance  Stroke Index  Par  Shots  Putts FIR GIR\n0      1        25           456    2     15      4   Y   Y\n1      2        75           654    4     18      8   N   N\n2      3       125           852    6     21     12   Y   Y\n3      4       175          1050    8     24     16   N   N\n4      5       225          1248   10     27     20   Y   Y\n5      6       275          1446   12     30     24   N   N\n6      7       325          1644   14     33     28   Y   Y\n7      8       375          1842   16     36     32   N   N\n8      9       425          2040   18     39     36   Y   Y\n9     10       475          2238   20     42     40   N   N\n10    11       525          2436   22     45     44   Y   Y\n11    12       575          2634   24     48     48   N   N\n12    13       625          2832   26     51     52   Y   Y\n13    14       675          3030   28     54     56   N   N\n14    15       725          3228   30     57     60   Y   Y\n15    16       775          3426   32     60     64   N   N\n16    17       825          3624   34     63     68   Y   Y\n17    18       875          3822   36     66     72   N   N",
      "text/html": "<div>\n<style scoped>\n    .dataframe tbody tr th:only-of-type {\n        vertical-align: middle;\n    }\n\n    .dataframe tbody tr th {\n        vertical-align: top;\n    }\n\n    .dataframe thead th {\n        text-align: right;\n    }\n</style>\n<table border=\"1\" class=\"dataframe\">\n  <thead>\n    <tr style=\"text-align: right;\">\n      <th></th>\n      <th>Hole</th>\n      <th>Distance</th>\n      <th>Stroke Index</th>\n      <th>Par</th>\n      <th>Shots</th>\n      <th>Putts</th>\n      <th>FIR</th>\n      <th>GIR</th>\n    </tr>\n  </thead>\n  <tbody>\n    <tr>\n      <th>0</th>\n      <td>1</td>\n      <td>25</td>\n      <td>456</td>\n      <td>2</td>\n      <td>15</td>\n      <td>4</td>\n      <td>Y</td>\n      <td>Y</td>\n    </tr>\n    <tr>\n      <th>1</th>\n      <td>2</td>\n      <td>75</td>\n      <td>654</td>\n      <td>4</td>\n      <td>18</td>\n      <td>8</td>\n      <td>N</td>\n      <td>N</td>\n    </tr>\n    <tr>\n      <th>2</th>\n      <td>3</td>\n      <td>125</td>\n      <td>852</td>\n      <td>6</td>\n      <td>21</td>\n      <td>12</td>\n      <td>Y</td>\n      <td>Y</td>\n    </tr>\n    <tr>\n      <th>3</th>\n      <td>4</td>\n      <td>175</td>\n      <td>1050</td>\n      <td>8</td>\n      <td>24</td>\n      <td>16</td>\n      <td>N</td>\n      <td>N</td>\n    </tr>\n    <tr>\n      <th>4</th>\n      <td>5</td>\n      <td>225</td>\n      <td>1248</td>\n      <td>10</td>\n      <td>27</td>\n      <td>20</td>\n      <td>Y</td>\n      <td>Y</td>\n    </tr>\n    <tr>\n      <th>5</th>\n      <td>6</td>\n      <td>275</td>\n      <td>1446</td>\n      <td>12</td>\n      <td>30</td>\n      <td>24</td>\n      <td>N</td>\n      <td>N</td>\n    </tr>\n    <tr>\n      <th>6</th>\n      <td>7</td>\n      <td>325</td>\n      <td>1644</td>\n      <td>14</td>\n      <td>33</td>\n      <td>28</td>\n      <td>Y</td>\n      <td>Y</td>\n    </tr>\n    <tr>\n      <th>7</th>\n      <td>8</td>\n      <td>375</td>\n      <td>1842</td>\n      <td>16</td>\n      <td>36</td>\n      <td>32</td>\n      <td>N</td>\n      <td>N</td>\n    </tr>\n    <tr>\n      <th>8</th>\n      <td>9</td>\n      <td>425</td>\n      <td>2040</td>\n      <td>18</td>\n      <td>39</td>\n      <td>36</td>\n      <td>Y</td>\n      <td>Y</td>\n    </tr>\n    <tr>\n      <th>9</th>\n      <td>10</td>\n      <td>475</td>\n      <td>2238</td>\n      <td>20</td>\n      <td>42</td>\n      <td>40</td>\n      <td>N</td>\n      <td>N</td>\n    </tr>\n    <tr>\n      <th>10</th>\n      <td>11</td>\n      <td>525</td>\n      <td>2436</td>\n      <td>22</td>\n      <td>45</td>\n      <td>44</td>\n      <td>Y</td>\n      <td>Y</td>\n    </tr>\n    <tr>\n      <th>11</th>\n      <td>12</td>\n      <td>575</td>\n      <td>2634</td>\n      <td>24</td>\n      <td>48</td>\n      <td>48</td>\n      <td>N</td>\n      <td>N</td>\n    </tr>\n    <tr>\n      <th>12</th>\n      <td>13</td>\n      <td>625</td>\n      <td>2832</td>\n      <td>26</td>\n      <td>51</td>\n      <td>52</td>\n      <td>Y</td>\n      <td>Y</td>\n    </tr>\n    <tr>\n      <th>13</th>\n      <td>14</td>\n      <td>675</td>\n      <td>3030</td>\n      <td>28</td>\n      <td>54</td>\n      <td>56</td>\n      <td>N</td>\n      <td>N</td>\n    </tr>\n    <tr>\n      <th>14</th>\n      <td>15</td>\n      <td>725</td>\n      <td>3228</td>\n      <td>30</td>\n      <td>57</td>\n      <td>60</td>\n      <td>Y</td>\n      <td>Y</td>\n    </tr>\n    <tr>\n      <th>15</th>\n      <td>16</td>\n      <td>775</td>\n      <td>3426</td>\n      <td>32</td>\n      <td>60</td>\n      <td>64</td>\n      <td>N</td>\n      <td>N</td>\n    </tr>\n    <tr>\n      <th>16</th>\n      <td>17</td>\n      <td>825</td>\n      <td>3624</td>\n      <td>34</td>\n      <td>63</td>\n      <td>68</td>\n      <td>Y</td>\n      <td>Y</td>\n    </tr>\n    <tr>\n      <th>17</th>\n      <td>18</td>\n      <td>875</td>\n      <td>3822</td>\n      <td>36</td>\n      <td>66</td>\n      <td>72</td>\n      <td>N</td>\n      <td>N</td>\n    </tr>\n  </tbody>\n</table>\n</div>"
     },
     "execution_count": 92,
     "metadata": {},
     "output_type": "execute_result"
    }
   ],
   "source": [
    "pd.read_csv(r\"C:\\Users\\Jaume\\Downloads\\golf_round_score_card_template (32).csv\")"
   ],
   "metadata": {
    "collapsed": false,
    "pycharm": {
     "name": "#%%\n"
    }
   }
  },
  {
   "cell_type": "code",
   "execution_count": 137,
   "outputs": [],
   "source": [
    "ROUND_SHOTS_TABLE = \"round_shots\"\n",
    "ROUND_PUTTS_TABLE = \"round_putts\"\n",
    "ROUND_FIR_TABLE = \"round_fir\"\n",
    "ROUND_GIR_TABLE = \"round_gir\"\n",
    "\n",
    "\n",
    "def make_round_df_and_insert_round_feature(file_path, holes_played, round_id):\n",
    "    \"\"\"\n",
    "    Function will read a file path (CSV) and insert features to various round_feature tables\n",
    "    :param file_path: path of file (CSV)\n",
    "    :param holes_played: number of holes played in round\n",
    "    :param course_id: id of course\n",
    "    :return: None\n",
    "    \"\"\"\n",
    "    temp_df = pd.read_csv(file_path)\n",
    "    round_shots_list = list(temp_df[\"Shots\"])\n",
    "    round_putts_list = list(temp_df[\"Putts\"])\n",
    "    round_fir_list = list(temp_df[\"FIR\"])\n",
    "    round_gir_list = list(temp_df[\"GIR\"])\n",
    "    insert_round_score_card_feature_to_table(ROUND_SHOTS_TABLE, round_id, holes_played, round_shots_list)\n",
    "    insert_round_score_card_feature_to_table(ROUND_PUTTS_TABLE, round_id, holes_played, round_putts_list)\n",
    "    insert_round_score_card_feature_to_table(ROUND_FIR_TABLE, round_id, holes_played, round_fir_list)\n",
    "    insert_round_score_card_feature_to_table(ROUND_GIR_TABLE, round_id, holes_played, round_gir_list)\n",
    "    return None"
   ],
   "metadata": {
    "collapsed": false,
    "pycharm": {
     "name": "#%%\n"
    }
   }
  },
  {
   "cell_type": "code",
   "execution_count": 131,
   "outputs": [],
   "source": [
    "con, cursor = connect_to_postgres_database(USER, PASSWORD, DATABASE, host=\"127.0.0.1\",\n",
    "                                           port=\"5432\")"
   ],
   "metadata": {
    "collapsed": false,
    "pycharm": {
     "name": "#%%\n"
    }
   }
  },
  {
   "cell_type": "code",
   "execution_count": 134,
   "outputs": [
    {
     "name": "stdout",
     "output_type": "stream",
     "text": [
      "Successfully executed the command\n",
      "Successfully executed the command\n",
      "Successfully executed the command\n",
      "Successfully executed the command\n"
     ]
    }
   ],
   "source": [
    "make_round_df_and_insert_round_feature(r\"C:\\Users\\Jaume\\Downloads\\golf_round_score_card_template (36).csv\", \"18\", 24)"
   ],
   "metadata": {
    "collapsed": false,
    "pycharm": {
     "name": "#%%\n"
    }
   }
  },
  {
   "cell_type": "code",
   "execution_count": 139,
   "outputs": [
    {
     "name": "stdout",
     "output_type": "stream",
     "text": [
      "Successfully executed the command\n",
      "Successfully executed the command\n",
      "Successfully executed the command\n",
      "Successfully executed the command\n"
     ]
    }
   ],
   "source": [
    "make_round_df_and_insert_round_feature(r\"C:\\Users\\Jaume\\Downloads\\golf_round_score_card_template (36).csv\", \"18\", 43)"
   ],
   "metadata": {
    "collapsed": false,
    "pycharm": {
     "name": "#%%\n"
    }
   }
  },
  {
   "cell_type": "code",
   "execution_count": null,
   "outputs": [],
   "source": [],
   "metadata": {
    "collapsed": false,
    "pycharm": {
     "name": "#%%\n"
    }
   }
  }
 ],
 "metadata": {
  "kernelspec": {
   "display_name": "Python 3",
   "language": "python",
   "name": "python3"
  },
  "language_info": {
   "codemirror_mode": {
    "name": "ipython",
    "version": 2
   },
   "file_extension": ".py",
   "mimetype": "text/x-python",
   "name": "python",
   "nbconvert_exporter": "python",
   "pygments_lexer": "ipython2",
   "version": "2.7.6"
  }
 },
 "nbformat": 4,
 "nbformat_minor": 0
}