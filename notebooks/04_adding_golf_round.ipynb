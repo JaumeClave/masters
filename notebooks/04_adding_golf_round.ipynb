{
 "cells": [
  {
   "cell_type": "markdown",
   "metadata": {
    "collapsed": true,
    "pycharm": {
     "name": "#%% md\n"
    }
   },
   "source": [
    "# Adding Golf Round\n",
    "This notebook will be used to build the functions needed to add a golf course round to the database"
   ]
  },
  {
   "cell_type": "code",
   "execution_count": 1,
   "outputs": [],
   "source": [
    "import psycopg2\n",
    "from psycopg2 import Error\n",
    "import pandas as pd\n",
    "import streamlit as st\n",
    "\n",
    "# Variables\n",
    "USER = \"postgres\"\n",
    "PASSWORD = \"Barca2011\"\n",
    "DATABASE = \"golf_dashboard_db\""
   ],
   "metadata": {
    "collapsed": false,
    "pycharm": {
     "name": "#%%\n"
    }
   }
  },
  {
   "cell_type": "markdown",
   "source": [
    "### All Functions (so far)"
   ],
   "metadata": {
    "collapsed": false,
    "pycharm": {
     "name": "#%% md\n"
    }
   }
  },
  {
   "cell_type": "code",
   "execution_count": 6,
   "outputs": [],
   "source": [
    "# Initialise connection and generate cursor\n",
    "def connect_to_postgres_database(user, password, database, host=\"127.0.0.1\", port=\"5432\"):\n",
    "    \"\"\"\n",
    "    Function connects to a database and returns the cursor object\n",
    "    :param user: database username\n",
    "    :param password: database password\n",
    "    :param database: database name\n",
    "    :param host: server location\n",
    "    :param port: listening port\n",
    "    :return: psycopg2 cursor object\n",
    "    \"\"\"\n",
    "    try:\n",
    "        con = psycopg2.connect(user=user,\n",
    "                               password=password,\n",
    "                               database=database,\n",
    "                               host=host,\n",
    "                               port=port)\n",
    "        cursor = con.cursor()\n",
    "    except (Exception, Error) as error:\n",
    "        print(\"Error while connecting to PostgreSQL\", error)\n",
    "    return con, cursor\n",
    "\n",
    "\n",
    "# View queried table as dataframe\n",
    "def table_to_dataframe(table):\n",
    "    \"\"\"\n",
    "    Function returns a queried table in a Pandas DataFrame\n",
    "    :param table: name of table in database\n",
    "    :return: dataframe of table\n",
    "    \"\"\"\n",
    "    cursor.execute(\"\"\"SELECT * FROM {}\"\"\".format(table))\n",
    "    tmp = cursor.fetchall()\n",
    "    col_names = list()\n",
    "    for elt in cursor.description:\n",
    "        col_names.append(elt[0])\n",
    "    df = pd.DataFrame(tmp, columns=col_names)\n",
    "    return df\n",
    "\n",
    "\n",
    "# Cursor execute command\n",
    "def cursor_execute_tuple(command, data_tuple):\n",
    "    \"\"\"\n",
    "    Function uses the cursor object to execute a command with a tuple pair. It commits and rollsback if error\n",
    "    :param command: SQL query to be executed\n",
    "    :param data_tuple: data pairing for SQL query variables\n",
    "    :return:\n",
    "    \"\"\"\n",
    "    try:\n",
    "        cursor.execute(command, data_tuple)\n",
    "        con.commit()\n",
    "        print(\"Successfully executed the command\")\n",
    "    except:\n",
    "        con.rollback()\n",
    "        print(\"Could not successfully execute the command\")\n",
    "    return None\n",
    "\n",
    "\n",
    "# Insert course data into course table\n",
    "def insert_course_in_course_table(name, holes_18, city, slope, rating, par, country):\n",
    "    \"\"\"\n",
    "    Function inserts course information into the course table\n",
    "    :param name: the name of the course (TEXT)\n",
    "    :param holes_18: the number of holes the course has (INT)\n",
    "    :param city: the city/location of the course (TEXT)\n",
    "    :param slope: the slope of the course (FLOAT)\n",
    "    :param rating: the rating of the course (FLOAT)\n",
    "    :param par: the par of the course (INT)\n",
    "    :param country: the country of the course (TEXT)\n",
    "    :return:\n",
    "    \"\"\"\n",
    "    insert_command = \"\"\"INSERT INTO course\n",
    "                  (name, holes_18, city, slope, rating,  par, country)\n",
    "                  VALUES (%s, %s, %s, %s, %s, %s, %s);\"\"\"\n",
    "    data_tuple = (name, holes_18, city, slope, rating, par, country)\n",
    "    cursor_execute_tuple(insert_command, data_tuple)\n",
    "    return None\n",
    "\n",
    "\n",
    "def get_id_from_course_name(course_name):\n",
    "    \"\"\"\n",
    "    Function returns the id of the course in the course table based on the name\n",
    "    :param course_name: name of course quiered\n",
    "    :return: id of course quiered\n",
    "    \"\"\"\n",
    "    insert_command = \"\"\"SELECT id FROM course\n",
    "                    WHERE name = %s;\"\"\"\n",
    "    cursor.execute(insert_command, [course_name])\n",
    "    returned_value = cursor.fetchall()\n",
    "    id = returned_value[0][0]\n",
    "    return id\n",
    "\n",
    "\n",
    "# Score card generate and download\n",
    "def make_hole_number_range_scorecard(course_holes18):\n",
    "    \"\"\"\n",
    "    Function creates a list of numbers. Either 9 holes or 18\n",
    "    :param course_holes18: number of holes the course has\n",
    "    :return: list of holes where number of holes is either 9 or 18\n",
    "    \"\"\"\n",
    "    if course_holes18 == 9:\n",
    "        list_of_holes = list(range(1, 10))\n",
    "    elif course_holes18 == 18:\n",
    "        list_of_holes = list(range(1, 19))\n",
    "    else:\n",
    "        pass\n",
    "    return list_of_holes\n",
    "\n",
    "\n",
    "def make_course_score_card_csv(course_name, course_holes18):\n",
    "    \"\"\"\n",
    "    Function will generate a .csv containing the course name and number of holes\n",
    "    :param course_name: name of course quiered\n",
    "    :param course_holes18: number of holes the course has\n",
    "    :return: to_csv object that can be downloaded\n",
    "    \"\"\"\n",
    "    course_score_card_template_df = pd.DataFrame()\n",
    "    list_of_holes = make_hole_number_range_scorecard(course_holes18)\n",
    "    course_score_card_template_df[\"Hole\"] = list_of_holes\n",
    "    course_score_card_template_df[\"Distance\"] = \"\"\n",
    "    course_score_card_template_df[\"Par\"] = \"\"\n",
    "    course_score_card_template_df[\"Stroke Index\"] = \"\"\n",
    "    course_score_card_template_df[\"Name\"] = course_name\n",
    "    course_score_card_template_df_csv = course_score_card_template_df.to_csv(index=False)\n",
    "    return course_score_card_template_df_csv\n",
    "\n",
    "\n",
    "# Insert course features par/distance/si\n",
    "def make_data_tuple_9holes(table, course_feature, course_id):\n",
    "    \"\"\"\n",
    "    Function creates the SQL command needed to insert features into a table - 9 holes\n",
    "    :param table: name of table in database\n",
    "    :param course_feature: list of features\n",
    "    :param course_id: id of course in course table\n",
    "    :return: insert SQL command, features as tuple\n",
    "    \"\"\"\n",
    "    insert_command = \"\"\"INSERT INTO {}\n",
    "                  (course_id, hole1, hole2, hole3, hole4, hole5, hole6, hole7, hole8, hole9)\n",
    "                  VALUES (%s, %s, %s, %s, %s, %s, %s, %s, %s, %s);\"\"\".format(table)\n",
    "    course_id_list = [course_id]\n",
    "    course_id_tuple = tuple(course_id_list)\n",
    "    feature_tuple = tuple(course_feature)\n",
    "    data_tuple = tuple(course_id_tuple) + tuple(feature_tuple)\n",
    "    return insert_command, data_tuple\n",
    "\n",
    "\n",
    "def make_data_tuple_18holes(table, course_feature, course_id):\n",
    "    \"\"\"\n",
    "    Function creates the SQL command needed to insert features into a table - 18 holes\n",
    "    :param table: name of table in database\n",
    "    :param course_feature: list of features\n",
    "    :param course_id: id of course in course table\n",
    "    :return: insert SQL command, features as tuple\n",
    "    \"\"\"\n",
    "    insert_command = \"\"\"INSERT INTO {}\n",
    "                      (course_id, hole1, hole2, hole3, hole4, hole5, hole6, hole7, hole8, hole9, hole10, hole11, hole12, hole13, hole14, hole15, hole16, hole17, hole18)\n",
    "                      VALUES (%s, %s, %s, %s, %s, %s, %s, %s, %s, %s, %s, %s, %s, %s, %s, %s, %s, %s, %s);\"\"\".format(\n",
    "        table)\n",
    "    course_id_list = [course_id]\n",
    "    course_id_tuple = tuple(course_id_list)\n",
    "    feature_tuple = tuple(course_feature)\n",
    "    data_tuple = tuple(course_id_tuple) + tuple(feature_tuple)\n",
    "    return insert_command, data_tuple\n",
    "\n",
    "\n",
    "def insert_score_card_feature_to_table(table, course_feature, course_id):\n",
    "    \"\"\"\n",
    "    Function pipelines the process to insert 9/18 hole feature information (par, si, distance) into a database table\n",
    "    :param table: name of table in database\n",
    "    :param course_feature: list of features\n",
    "    :param course_id: id of course in course table\n",
    "    :return:\n",
    "    \"\"\"\n",
    "    if len(course_feature) == 9:\n",
    "        insert_command, data_tuple = make_data_tuple_9holes(table, course_feature, course_id)\n",
    "    elif len(course_feature) == 18:\n",
    "        insert_command, data_tuple = make_data_tuple_18holes(table, course_feature, course_id)\n",
    "    cursor_execute_tuple(insert_command, data_tuple)\n",
    "    return None"
   ],
   "metadata": {
    "collapsed": false,
    "pycharm": {
     "name": "#%%\n"
    }
   }
  },
  {
   "cell_type": "markdown",
   "source": [
    "### Establish Connection"
   ],
   "metadata": {
    "collapsed": false,
    "pycharm": {
     "name": "#%% md\n"
    }
   }
  },
  {
   "cell_type": "code",
   "execution_count": 14,
   "outputs": [],
   "source": [
    "con, cursor = connect_to_postgres_database(USER, PASSWORD, DATABASE, host=\"127.0.0.1\",\n",
    "                                           port=\"5432\")"
   ],
   "metadata": {
    "collapsed": false,
    "pycharm": {
     "name": "#%%\n"
    }
   }
  },
  {
   "cell_type": "markdown",
   "source": [
    "### Return Course Features via Course Name"
   ],
   "metadata": {
    "collapsed": false,
    "pycharm": {
     "name": "#%% md\n"
    }
   }
  },
  {
   "cell_type": "code",
   "execution_count": 18,
   "outputs": [
    {
     "data": {
      "text/plain": "5"
     },
     "execution_count": 18,
     "metadata": {},
     "output_type": "execute_result"
    }
   ],
   "source": [
    "course_name = \"Red Mountain Golf Club\"\n",
    "get_id_from_course_name(course_name)"
   ],
   "metadata": {
    "collapsed": false,
    "pycharm": {
     "name": "#%%\n"
    }
   }
  },
  {
   "cell_type": "code",
   "execution_count": 96,
   "outputs": [],
   "source": [
    "def make_course_feature_using_course_id(course_id, table, holes=\"18\"):\n",
    "    \"\"\"\n",
    "    Function returns the row for a course feature table based on the id passed. It returns the specified number of holes 18, Front 9 or Back 9 based on the \"holes\" parameter\n",
    "    :param course_id: id of course in course table\n",
    "    :return: list of course features\n",
    "    \"\"\"\n",
    "    insert_command = \"\"\"SELECT * FROM {}\n",
    "                WHERE course_id = %s;\"\"\".format(table)\n",
    "    cursor.execute(insert_command, [course_id])\n",
    "    returned_value = cursor.fetchall()\n",
    "    feature_list = list(returned_value[0])\n",
    "    if holes == \"Front 9\":\n",
    "        feature_list = feature_list[:9]\n",
    "    elif holes == \"Back 9\":\n",
    "        feature_list = feature_list[10:]\n",
    "    else:\n",
    "        pass\n",
    "    return feature_list"
   ],
   "metadata": {
    "collapsed": false,
    "pycharm": {
     "name": "#%%\n"
    }
   }
  },
  {
   "cell_type": "code",
   "execution_count": 98,
   "outputs": [
    {
     "data": {
      "text/plain": "[80, 25, 75, 125, 175, 225, 275, 325, 375]"
     },
     "execution_count": 98,
     "metadata": {},
     "output_type": "execute_result"
    }
   ],
   "source": [
    "course_distance_list = make_course_feature_using_course_id(80, \"course_distance\", \"Front 9\")\n",
    "course_par_list = make_course_feature_using_course_id(80, \"course_par\")\n",
    "course_si_list = make_course_feature_using_course_id(80, \"course_stroke_index\")\n",
    "course_distance_list"
   ],
   "metadata": {
    "collapsed": false,
    "pycharm": {
     "name": "#%%\n"
    }
   }
  },
  {
   "cell_type": "code",
   "execution_count": 35,
   "outputs": [],
   "source": [
    "DISTANCE_TABLE = \"course_distance\"\n",
    "PAR_TABLE = \"course_par\"\n",
    "SI_TABLE = \"course_stroke_index\"\n",
    "\n",
    "def make_all_course_feature_lists(course_id):\n",
    "    \"\"\"\n",
    "    Function pipelines all three calls to the three course feature tables\n",
    "    :param course_id: id of course in course table\n",
    "    :return: three lists made of distance, par, si\n",
    "    \"\"\"\n",
    "    course_distance_list = make_course_feature_using_course_id(course_id, DISTANCE_TABLE)\n",
    "    course_par_list = make_course_feature_using_course_id(course_id, PAR_TABLE)\n",
    "    course_si_list = make_course_feature_using_course_id(course_id, SI_TABLE)\n",
    "    return course_distance_list, course_par_list, course_si_list"
   ],
   "metadata": {
    "collapsed": false,
    "pycharm": {
     "name": "#%%\n"
    }
   }
  },
  {
   "cell_type": "code",
   "execution_count": 39,
   "outputs": [],
   "source": [
    "course_distance_list, course_par_list, course_si_list = make_all_course_feature_lists(80)"
   ],
   "metadata": {
    "collapsed": false,
    "pycharm": {
     "name": "#%%\n"
    }
   }
  },
  {
   "cell_type": "code",
   "execution_count": 40,
   "outputs": [],
   "source": [
    "temp_df = pd.DataFrame()\n",
    "temp_df[\"Distance\"] = course_distance_list\n",
    "temp_df[\"HCP\"] = course_si_list\n",
    "temp_df[\"Par\"] = course_par_list"
   ],
   "metadata": {
    "collapsed": false,
    "pycharm": {
     "name": "#%%\n"
    }
   }
  },
  {
   "cell_type": "code",
   "execution_count": 92,
   "outputs": [
    {
     "data": {
      "text/plain": "    Distance   HCP  Par\n0         80    80   80\n1         25   456    2\n2         75   654    4\n3        125   852    6\n4        175  1050    8\n5        225  1248   10\n6        275  1446   12\n7        325  1644   14\n8        375  1842   16\n9        425  2040   18\n10       475  2238   20\n11       525  2436   22\n12       575  2634   24\n13       625  2832   26\n14       675  3030   28\n15       725  3228   30\n16       775  3426   32\n17       825  3624   34\n18       875  3822   36",
      "text/html": "<div>\n<style scoped>\n    .dataframe tbody tr th:only-of-type {\n        vertical-align: middle;\n    }\n\n    .dataframe tbody tr th {\n        vertical-align: top;\n    }\n\n    .dataframe thead th {\n        text-align: right;\n    }\n</style>\n<table border=\"1\" class=\"dataframe\">\n  <thead>\n    <tr style=\"text-align: right;\">\n      <th></th>\n      <th>Distance</th>\n      <th>HCP</th>\n      <th>Par</th>\n    </tr>\n  </thead>\n  <tbody>\n    <tr>\n      <th>0</th>\n      <td>80</td>\n      <td>80</td>\n      <td>80</td>\n    </tr>\n    <tr>\n      <th>1</th>\n      <td>25</td>\n      <td>456</td>\n      <td>2</td>\n    </tr>\n    <tr>\n      <th>2</th>\n      <td>75</td>\n      <td>654</td>\n      <td>4</td>\n    </tr>\n    <tr>\n      <th>3</th>\n      <td>125</td>\n      <td>852</td>\n      <td>6</td>\n    </tr>\n    <tr>\n      <th>4</th>\n      <td>175</td>\n      <td>1050</td>\n      <td>8</td>\n    </tr>\n    <tr>\n      <th>5</th>\n      <td>225</td>\n      <td>1248</td>\n      <td>10</td>\n    </tr>\n    <tr>\n      <th>6</th>\n      <td>275</td>\n      <td>1446</td>\n      <td>12</td>\n    </tr>\n    <tr>\n      <th>7</th>\n      <td>325</td>\n      <td>1644</td>\n      <td>14</td>\n    </tr>\n    <tr>\n      <th>8</th>\n      <td>375</td>\n      <td>1842</td>\n      <td>16</td>\n    </tr>\n    <tr>\n      <th>9</th>\n      <td>425</td>\n      <td>2040</td>\n      <td>18</td>\n    </tr>\n    <tr>\n      <th>10</th>\n      <td>475</td>\n      <td>2238</td>\n      <td>20</td>\n    </tr>\n    <tr>\n      <th>11</th>\n      <td>525</td>\n      <td>2436</td>\n      <td>22</td>\n    </tr>\n    <tr>\n      <th>12</th>\n      <td>575</td>\n      <td>2634</td>\n      <td>24</td>\n    </tr>\n    <tr>\n      <th>13</th>\n      <td>625</td>\n      <td>2832</td>\n      <td>26</td>\n    </tr>\n    <tr>\n      <th>14</th>\n      <td>675</td>\n      <td>3030</td>\n      <td>28</td>\n    </tr>\n    <tr>\n      <th>15</th>\n      <td>725</td>\n      <td>3228</td>\n      <td>30</td>\n    </tr>\n    <tr>\n      <th>16</th>\n      <td>775</td>\n      <td>3426</td>\n      <td>32</td>\n    </tr>\n    <tr>\n      <th>17</th>\n      <td>825</td>\n      <td>3624</td>\n      <td>34</td>\n    </tr>\n    <tr>\n      <th>18</th>\n      <td>875</td>\n      <td>3822</td>\n      <td>36</td>\n    </tr>\n  </tbody>\n</table>\n</div>"
     },
     "execution_count": 92,
     "metadata": {},
     "output_type": "execute_result"
    }
   ],
   "source": [
    "temp_df"
   ],
   "metadata": {
    "collapsed": false,
    "pycharm": {
     "name": "#%%\n"
    }
   }
  },
  {
   "cell_type": "code",
   "execution_count": null,
   "outputs": [],
   "source": [
    "def make_round_score_card_csv(course_distance_list, course_si_list, course_par_list):\n",
    "    \"\"\"\n",
    "    Function will generate a .csv containing the course distance/si/par along with blank entries for strokes/putts/fir/gir\n",
    "    :param course_distance_list: the distances of each hole on the course\n",
    "    :param course_si_list: the stroke index of each hole on the course\n",
    "    :param course_par_list: the par of each hole on the course\n",
    "    :return: to_csv object that can be downloaded\n",
    "    \"\"\"\n",
    "    round_score_card_template_df = pd.DataFrame()\n",
    "    round_score_card_template_df[\"Distance\"] = course_distance_list\n",
    "    round_score_card_template_df[\"Stroke Index\"] = course_si_list\n",
    "    round_score_card_template_df[\"Par\"] = course_par_list\n",
    "    round_score_card_template_df[\"Shots\"] = \"\"\n",
    "    round_score_card_template_df[\"Putts\"] = \"\"\n",
    "    round_score_card_template_df[\"FIR\"] = \"\"\n",
    "    round_score_card_template_df[\"GIR\"] = \"\"\n",
    "    round_score_card_template_df_csv = round_score_card_template_df.to_csv(index=False)\n",
    "    return round_score_card_template_df_csv"
   ],
   "metadata": {
    "collapsed": false,
    "pycharm": {
     "name": "#%%\n"
    }
   }
  },
  {
   "cell_type": "code",
   "execution_count": 111,
   "outputs": [],
   "source": [
    "DISTANCE_TABLE = \"course_distance\"\n",
    "PAR_TABLE = \"course_par\"\n",
    "SI_TABLE = \"course_stroke_index\"\n",
    "\n",
    "\n",
    "def make_course_feature_using_course_id(course_id, table, holes=\"18\"):\n",
    "    \"\"\"\n",
    "    Function returns the row for a course feature table based on the id passed. It returns the specified number of holes 18, Front 9 or Back 9 based on the \"holes\" parameter\n",
    "    :param course_id: id of course in course table\n",
    "    :return: list of course features\n",
    "    \"\"\"\n",
    "    insert_command = \"\"\"SELECT * FROM {}\n",
    "                WHERE course_id = %s;\"\"\".format(table)\n",
    "    cursor.execute(insert_command, [course_id])\n",
    "    returned_value = cursor.fetchall()\n",
    "    feature_list = list(returned_value[0])\n",
    "    if holes == \"Front 9\":\n",
    "        feature_list = feature_list[1:10]\n",
    "    elif holes == \"Back 9\":\n",
    "        feature_list = feature_list[10:]\n",
    "    else:\n",
    "        feature_list = feature_list[1:]\n",
    "    return feature_list\n",
    "\n",
    "def make_hole_number_list(holes):\n",
    "    \"\"\"\n",
    "    Function creates a list of numbers. Either 1-9, 10-18 holes or 1-18\n",
    "    :param holes: number of holes the course has\n",
    "    :return: list of holes where number of holes is either 1-9, 10-18 holes or 1-18\n",
    "    \"\"\"\n",
    "    if holes == \"Front 9\":\n",
    "        list_of_holes = list(range(1, 10))\n",
    "    elif holes == \"Back 9\":\n",
    "        list_of_holes = list(range(10, 19))\n",
    "    elif holes == \"18\":\n",
    "        list_of_holes = list(range(1, 19))\n",
    "    else:\n",
    "        pass\n",
    "    return list_of_holes\n",
    "\n",
    "def make_all_course_feature_lists(course_id, holes=\"18\"):\n",
    "    \"\"\"\n",
    "    Function pipelines all three calls to the three course feature tables\n",
    "    :param course_id: id of course in course table\n",
    "    :return: three lists made of distance, par, si\n",
    "    \"\"\"\n",
    "    list_of_holes = make_hole_number_list(holes)\n",
    "    course_distance_list = make_course_feature_using_course_id(course_id, DISTANCE_TABLE, holes)\n",
    "    course_par_list = make_course_feature_using_course_id(course_id, PAR_TABLE, holes)\n",
    "    course_si_list = make_course_feature_using_course_id(course_id, SI_TABLE, holes)\n",
    "    return list_of_holes, course_distance_list, course_par_list, course_si_list\n",
    "\n",
    "def make_round_score_card_csv(list_of_holes, course_distance_list, course_si_list, course_par_list):\n",
    "    \"\"\"\n",
    "    Function will generate a .csv containing the course distance/si/par along with blank entries for strokes/putts/fir/gir\n",
    "    :param course_distance_list: the distances of each hole on the course\n",
    "    :param course_si_list: the stroke index of each hole on the course\n",
    "    :param course_par_list: the par of each hole on the course\n",
    "    :return: to_csv object that can be downloaded\n",
    "    \"\"\"\n",
    "    round_score_card_template_df = pd.DataFrame()\n",
    "    round_score_card_template_df[\"Hole\"] = list_of_holes\n",
    "    round_score_card_template_df[\"Distance\"] = course_distance_list\n",
    "    round_score_card_template_df[\"Stroke Index\"] = course_si_list\n",
    "    round_score_card_template_df[\"Par\"] = course_par_list\n",
    "    round_score_card_template_df[\"Shots\"] = \"\"\n",
    "    round_score_card_template_df[\"Putts\"] = \"\"\n",
    "    round_score_card_template_df[\"FIR\"] = \"\"\n",
    "    round_score_card_template_df[\"GIR\"] = \"\"\n",
    "    round_score_card_template_df_csv = round_score_card_template_df.to_csv(index=False)\n",
    "    return round_score_card_template_df, round_score_card_template_df_csv\n",
    "\n",
    "def make_pipeline_round_score_card_csv(course_name, holes=\"18\"):\n",
    "    \"\"\"\n",
    "    Function pipelines the process required to generate the round score card which includes course features such distance/si/par along with blank entries for strokes/putts/fir/gir\n",
    "    :param course_name: course name\n",
    "    :return: round score card csv\n",
    "    \"\"\"\n",
    "    course_id = get_id_from_course_name(course_name)\n",
    "    list_of_holes, course_distance_list, course_par_list, course_si_list = make_all_course_feature_lists(course_id, holes)\n",
    "    round_score_card_template_df, round_score_card_template_df_csv = make_round_score_card_csv(list_of_holes, course_distance_list, course_si_list, course_par_list)\n",
    "    return round_score_card_template_df, round_score_card_template_df_csv"
   ],
   "metadata": {
    "collapsed": false,
    "pycharm": {
     "name": "#%%\n"
    }
   }
  },
  {
   "cell_type": "markdown",
   "source": [
    "### Getting Course Names"
   ],
   "metadata": {
    "collapsed": false,
    "pycharm": {
     "name": "#%% md\n"
    }
   }
  },
  {
   "cell_type": "code",
   "execution_count": 54,
   "outputs": [],
   "source": [
    "def make_alphabetical_course_name_list():\n",
    "    \"\"\"\n",
    "    Function returns the row for a course feature table based on the id passed\n",
    "    :param course_id: id of course in course table\n",
    "    :return: sorted list of courses in course table\n",
    "    \"\"\"\n",
    "    insert_command = \"\"\"SELECT name FROM course;\"\"\"\n",
    "    cursor.execute(insert_command,)\n",
    "    returned_value = cursor.fetchall()\n",
    "    feature_list = list(returned_value)\n",
    "    sorted_feature_list = sorted([i[0] for i in feature_list])\n",
    "    return sorted_feature_list"
   ],
   "metadata": {
    "collapsed": false,
    "pycharm": {
     "name": "#%%\n"
    }
   }
  },
  {
   "cell_type": "code",
   "execution_count": 57,
   "outputs": [
    {
     "data": {
      "text/plain": "['Aravell Golf Club',\n 'Golf Costa Daurada',\n 'Golf Round Test',\n 'Loch Palm Golf Club',\n 'Red Mountain Golf Club']"
     },
     "execution_count": 57,
     "metadata": {},
     "output_type": "execute_result"
    }
   ],
   "source": [
    "course_name_list = make_alphabetical_course_name_list()\n",
    "course_name_list"
   ],
   "metadata": {
    "collapsed": false,
    "pycharm": {
     "name": "#%%\n"
    }
   }
  },
  {
   "cell_type": "markdown",
   "source": [
    "### Insert Round in Round Table"
   ],
   "metadata": {
    "collapsed": false,
    "pycharm": {
     "name": "#%% md\n"
    }
   }
  },
  {
   "cell_type": "code",
   "execution_count": 114,
   "outputs": [],
   "source": [
    "from datetime import datetime\n",
    "\n",
    "# Insert course data into course table\n",
    "def insert_round_in_round_table(course_id, user_id, date_played, tee_time, temperature, humidity, wind_speed, precipitation, weather_condition, holes_played):\n",
    "    \"\"\"\n",
    "    Function inserts table information into the table table\n",
    "    :param course_id: id of course\n",
    "    :param user_id: id of user\n",
    "    :param date_played: date played\n",
    "    :param tee_time: time tee'd off\n",
    "    :param temperature: average round temperature\n",
    "    :param humidity: average round humidity\n",
    "    :param wind_speed: average round wind speed\n",
    "    :param precipitation: total round rainfall\n",
    "    :param weather_condition: round weather condition\n",
    "    :param holes_played: holes played that round\n",
    "    :return: None\n",
    "    \"\"\"\n",
    "    insert_command = \"\"\"INSERT INTO round\n",
    "                  (course_id, user_id, date_played, tee_time, temperature, humidity, wind_speed, precipitation, weather_condition, holes_played, date_created)\n",
    "                  VALUES (%s, %s, %s, %s, %s, %s, %s, %s, %s, %s, %s);\"\"\"\n",
    "    date_created = datetime.today().date()\n",
    "    data_tuple = (course_id, user_id, date_played, tee_time, temperature, humidity, wind_speed, precipitation, weather_condition, holes_played, date_created)\n",
    "    cursor_execute_tuple(insert_command, data_tuple)\n",
    "    return None"
   ],
   "metadata": {
    "collapsed": false,
    "pycharm": {
     "name": "#%%\n"
    }
   }
  },
  {
   "cell_type": "code",
   "execution_count": 116,
   "outputs": [
    {
     "ename": "TypeError",
     "evalue": "insert_round_in_round_table() takes 9 positional arguments but 10 were given",
     "output_type": "error",
     "traceback": [
      "\u001B[1;31m---------------------------------------------------------------------------\u001B[0m",
      "\u001B[1;31mTypeError\u001B[0m                                 Traceback (most recent call last)",
      "Input \u001B[1;32mIn [116]\u001B[0m, in \u001B[0;36m<module>\u001B[1;34m\u001B[0m\n\u001B[0;32m      9\u001B[0m weather_condition \u001B[38;5;241m=\u001B[39m \u001B[38;5;124m\"\u001B[39m\u001B[38;5;124mcold\u001B[39m\u001B[38;5;124m\"\u001B[39m\n\u001B[0;32m     10\u001B[0m holes_played \u001B[38;5;241m=\u001B[39m \u001B[38;5;241m18\u001B[39m\n\u001B[1;32m---> 13\u001B[0m \u001B[43minsert_round_in_round_table\u001B[49m\u001B[43m(\u001B[49m\u001B[43mcourse_id\u001B[49m\u001B[43m,\u001B[49m\u001B[43m \u001B[49m\u001B[43muser_id\u001B[49m\u001B[43m,\u001B[49m\u001B[43m \u001B[49m\u001B[43mdate_played\u001B[49m\u001B[43m,\u001B[49m\u001B[43m \u001B[49m\u001B[43mtee_time\u001B[49m\u001B[43m,\u001B[49m\u001B[43m \u001B[49m\u001B[43mtemperature\u001B[49m\u001B[43m,\u001B[49m\u001B[43m \u001B[49m\u001B[43mhumidity\u001B[49m\u001B[43m,\u001B[49m\u001B[43m \u001B[49m\u001B[43mwind_speed\u001B[49m\u001B[43m,\u001B[49m\u001B[43m \u001B[49m\u001B[43mprecipitation\u001B[49m\u001B[43m,\u001B[49m\u001B[43m \u001B[49m\u001B[43mweather_condition\u001B[49m\u001B[43m,\u001B[49m\u001B[43m \u001B[49m\u001B[43mholes_played\u001B[49m\u001B[43m)\u001B[49m\n",
      "\u001B[1;31mTypeError\u001B[0m: insert_round_in_round_table() takes 9 positional arguments but 10 were given"
     ]
    }
   ],
   "source": [
    "course_id = 80\n",
    "user_id = 12\n",
    "date_played = datetime.today().date()\n",
    "tee_time = 5\n",
    "temperature = 4\n",
    "humidity = 73\n",
    "wind_speed = 39\n",
    "precipitation = 80\n",
    "weather_condition = \"cold\"\n",
    "holes_played = 18\n",
    "\n",
    "\n",
    "insert_round_in_round_table(course_id, user_id, date_played, tee_time, temperature, humidity, wind_speed, precipitation, weather_condition, holes_played)"
   ],
   "metadata": {
    "collapsed": false,
    "pycharm": {
     "name": "#%%\n"
    }
   }
  },
  {
   "cell_type": "code",
   "execution_count": null,
   "outputs": [],
   "source": [],
   "metadata": {
    "collapsed": false,
    "pycharm": {
     "name": "#%%\n"
    }
   }
  }
 ],
 "metadata": {
  "kernelspec": {
   "display_name": "Python 3",
   "language": "python",
   "name": "python3"
  },
  "language_info": {
   "codemirror_mode": {
    "name": "ipython",
    "version": 2
   },
   "file_extension": ".py",
   "mimetype": "text/x-python",
   "name": "python",
   "nbconvert_exporter": "python",
   "pygments_lexer": "ipython2",
   "version": "2.7.6"
  }
 },
 "nbformat": 4,
 "nbformat_minor": 0
}