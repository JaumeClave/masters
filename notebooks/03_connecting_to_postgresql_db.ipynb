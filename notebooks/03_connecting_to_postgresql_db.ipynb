{
 "cells": [
  {
   "cell_type": "markdown",
   "source": [
    "# Psycopg2\n",
    "This notebook is used to learn how to use the *psycopg2* library. It will create functions useful for the project"
   ],
   "metadata": {
    "collapsed": false,
    "pycharm": {
     "name": "#%% md\n"
    }
   }
  },
  {
   "cell_type": "markdown",
   "source": [
    "### Connection to DB"
   ],
   "metadata": {
    "collapsed": false,
    "pycharm": {
     "name": "#%% md\n"
    }
   }
  },
  {
   "cell_type": "code",
   "execution_count": 1,
   "outputs": [],
   "source": [
    "import psycopg2\n",
    "from psycopg2 import Error\n",
    "\n",
    "def connect_to_postgres_database(user, password, database, host=\"127.0.0.1\", port=\"5432\"):\n",
    "    \"\"\"\n",
    "    Function connects to a database and returns the cursor object\n",
    "    :param user: database username\n",
    "    :param password: database password\n",
    "    :param database: database name\n",
    "    :param host: server location\n",
    "    :param port: listening port\n",
    "    :return: psycopg2 cursor object\n",
    "    \"\"\"\n",
    "    try:\n",
    "        con = psycopg2.connect(user=user,\n",
    "                                      password=password,\n",
    "                                      database=database,\n",
    "                                      host=host,\n",
    "                                      port=port)\n",
    "        cursor = con.cursor()\n",
    "    except (Exception, Error) as error:\n",
    "        print(\"Error while connecting to PostgreSQL\", error)\n",
    "    return con, cursor\n"
   ],
   "metadata": {
    "collapsed": false,
    "pycharm": {
     "name": "#%%\n"
    }
   }
  },
  {
   "cell_type": "code",
   "execution_count": 87,
   "outputs": [],
   "source": [
    "# Connecting to DB\n",
    "USER = \"postgres\"\n",
    "PASSWORD = \"Barca2011\"\n",
    "DATABASE = \"golf_dashboard_db\"\n",
    "\n",
    "con, cursor = connect_to_postgres_database(USER, PASSWORD, DATABASE, host=\"127.0.0.1\", port=\"5432\")"
   ],
   "metadata": {
    "collapsed": false,
    "pycharm": {
     "name": "#%%\n"
    }
   }
  },
  {
   "cell_type": "markdown",
   "source": [
    "### Table to Pandas DF"
   ],
   "metadata": {
    "collapsed": false,
    "pycharm": {
     "name": "#%% md\n"
    }
   }
  },
  {
   "cell_type": "code",
   "execution_count": 88,
   "outputs": [],
   "source": [
    "import pandas as pd\n",
    "\n",
    "def table_to_dataframe(table):\n",
    "    \"\"\"\n",
    "    Function returns a queried table in a Pandas DataFrame\n",
    "    :param table: name of table in database\n",
    "    :return: dataframe of table\n",
    "    \"\"\"\n",
    "    cursor.execute(\"\"\"SELECT * FROM {}\"\"\".format(table))\n",
    "    tmp = cursor.fetchall()\n",
    "    col_names = list()\n",
    "    for elt in cursor.description:\n",
    "        col_names.append(elt[0])\n",
    "    df = pd.DataFrame(tmp, columns=col_names)\n",
    "    return df"
   ],
   "metadata": {
    "collapsed": false,
    "pycharm": {
     "name": "#%%\n"
    }
   }
  },
  {
   "cell_type": "code",
   "execution_count": 89,
   "outputs": [
    {
     "data": {
      "text/plain": "                     name holes_18       city  slope  rating  id   par country\n0      Golf Costa Daurada       18  Tarragona  121.0    69.7   1   NaN    None\n1     Loch Palm Golf Club       18      Kathu  129.0    68.4   3   NaN    None\n2  Red Mountain Golf Club       18      Kathu  121.0    68.4   5   NaN    None\n3       Aravell Golf Club       18    Aravell  139.0    74.0  14  71.0    None\n4                       A       18          B   12.0    12.0  38  12.0       C\n5        Test Golf Course       18       Test  120.0    75.0  39  72.0    Test",
      "text/html": "<div>\n<style scoped>\n    .dataframe tbody tr th:only-of-type {\n        vertical-align: middle;\n    }\n\n    .dataframe tbody tr th {\n        vertical-align: top;\n    }\n\n    .dataframe thead th {\n        text-align: right;\n    }\n</style>\n<table border=\"1\" class=\"dataframe\">\n  <thead>\n    <tr style=\"text-align: right;\">\n      <th></th>\n      <th>name</th>\n      <th>holes_18</th>\n      <th>city</th>\n      <th>slope</th>\n      <th>rating</th>\n      <th>id</th>\n      <th>par</th>\n      <th>country</th>\n    </tr>\n  </thead>\n  <tbody>\n    <tr>\n      <th>0</th>\n      <td>Golf Costa Daurada</td>\n      <td>18</td>\n      <td>Tarragona</td>\n      <td>121.0</td>\n      <td>69.7</td>\n      <td>1</td>\n      <td>NaN</td>\n      <td>None</td>\n    </tr>\n    <tr>\n      <th>1</th>\n      <td>Loch Palm Golf Club</td>\n      <td>18</td>\n      <td>Kathu</td>\n      <td>129.0</td>\n      <td>68.4</td>\n      <td>3</td>\n      <td>NaN</td>\n      <td>None</td>\n    </tr>\n    <tr>\n      <th>2</th>\n      <td>Red Mountain Golf Club</td>\n      <td>18</td>\n      <td>Kathu</td>\n      <td>121.0</td>\n      <td>68.4</td>\n      <td>5</td>\n      <td>NaN</td>\n      <td>None</td>\n    </tr>\n    <tr>\n      <th>3</th>\n      <td>Aravell Golf Club</td>\n      <td>18</td>\n      <td>Aravell</td>\n      <td>139.0</td>\n      <td>74.0</td>\n      <td>14</td>\n      <td>71.0</td>\n      <td>None</td>\n    </tr>\n    <tr>\n      <th>4</th>\n      <td>A</td>\n      <td>18</td>\n      <td>B</td>\n      <td>12.0</td>\n      <td>12.0</td>\n      <td>38</td>\n      <td>12.0</td>\n      <td>C</td>\n    </tr>\n    <tr>\n      <th>5</th>\n      <td>Test Golf Course</td>\n      <td>18</td>\n      <td>Test</td>\n      <td>120.0</td>\n      <td>75.0</td>\n      <td>39</td>\n      <td>72.0</td>\n      <td>Test</td>\n    </tr>\n  </tbody>\n</table>\n</div>"
     },
     "execution_count": 89,
     "metadata": {},
     "output_type": "execute_result"
    }
   ],
   "source": [
    "# Viewing table\n",
    "course_df = table_to_dataframe(\"course\")\n",
    "course_df"
   ],
   "metadata": {
    "collapsed": false,
    "pycharm": {
     "name": "#%%\n"
    }
   }
  },
  {
   "cell_type": "markdown",
   "source": [
    "### Inserting to course Table"
   ],
   "metadata": {
    "collapsed": false,
    "pycharm": {
     "name": "#%% md\n"
    }
   }
  },
  {
   "cell_type": "code",
   "execution_count": 122,
   "outputs": [],
   "source": [
    "def cursor_execute_tuple(command, data_tuple):\n",
    "    \"\"\"\n",
    "    Function uses the cursor object to execute a command with a tuple pair. It commits and rollsback if error\n",
    "    :param command: SQL query to be executed\n",
    "    :param data_tuple: data pairing for SQL query variables\n",
    "    :return:\n",
    "    \"\"\"\n",
    "    try:\n",
    "        cursor.execute(command, data_tuple)\n",
    "        con.commit()\n",
    "        print(\"Successfully executed the command\")\n",
    "    except:\n",
    "        con.rollback()\n",
    "        print(\"Could not successfully execute the command\")\n",
    "    return None\n",
    "\n",
    "def insert_course_in_course_table(name, holes_18, city, slope, rating,  par, country):\n",
    "    \"\"\"\n",
    "    Function inserts course information into the course table\n",
    "    :param name: the name of the course (TEXT)\n",
    "    :param holes_18: the number of holes the course has (INT)\n",
    "    :param city: the city/location of the course (TEXT)\n",
    "    :param slope: the slope of the course (FLOAT)\n",
    "    :param rating: the rating of the course (FLOAT)\n",
    "    :param par: the par of the course (INT)\n",
    "    :param country: the country of the course (TEXT)\n",
    "    :return:\n",
    "    \"\"\"\n",
    "    insert_command = \"\"\"INSERT INTO course\n",
    "                  (name, holes_18, city, slope, rating,  par, country)\n",
    "                  VALUES (%s, %s, %s, %s, %s, %s, %s);\"\"\"\n",
    "    data_tuple = (name, holes_18, city, slope, rating, par, country)\n",
    "    cursor_execute_tuple(insert_command, data_tuple)\n",
    "    return None"
   ],
   "metadata": {
    "collapsed": false,
    "pycharm": {
     "name": "#%%\n"
    }
   }
  },
  {
   "cell_type": "code",
   "execution_count": 29,
   "outputs": [
    {
     "name": "stdout",
     "output_type": "stream",
     "text": [
      "Successfully executed the command\n"
     ]
    }
   ],
   "source": [
    "insert_course_in_course_table(\"Test Golf Course\", 18, \"Test\", 200, 75,  72, \"Test\")"
   ],
   "metadata": {
    "collapsed": false,
    "pycharm": {
     "name": "#%%\n"
    }
   }
  },
  {
   "cell_type": "code",
   "execution_count": 30,
   "outputs": [
    {
     "data": {
      "text/plain": "                     name holes_18       city  slope  rating  id   par country\n0      Golf Costa Daurada       18  Tarragona  121.0    69.7   1   NaN    None\n1     Loch Palm Golf Club       18      Kathu  129.0    68.4   3   NaN    None\n2  Red Mountain Golf Club       18      Kathu  121.0    68.4   5   NaN    None\n3       Aravell Golf Club       18    Aravell  139.0    74.0  14  71.0    None\n4                       A       18          B   12.0    12.0  38  12.0       C\n5        Test Golf Course       18       Test  120.0    75.0  39  72.0    Test\n6        Test Golf Course       18       Test  120.0    75.0  40  72.0    Test\n7        Test Golf Course       18       Test  200.0    75.0  41  72.0    Test",
      "text/html": "<div>\n<style scoped>\n    .dataframe tbody tr th:only-of-type {\n        vertical-align: middle;\n    }\n\n    .dataframe tbody tr th {\n        vertical-align: top;\n    }\n\n    .dataframe thead th {\n        text-align: right;\n    }\n</style>\n<table border=\"1\" class=\"dataframe\">\n  <thead>\n    <tr style=\"text-align: right;\">\n      <th></th>\n      <th>name</th>\n      <th>holes_18</th>\n      <th>city</th>\n      <th>slope</th>\n      <th>rating</th>\n      <th>id</th>\n      <th>par</th>\n      <th>country</th>\n    </tr>\n  </thead>\n  <tbody>\n    <tr>\n      <th>0</th>\n      <td>Golf Costa Daurada</td>\n      <td>18</td>\n      <td>Tarragona</td>\n      <td>121.0</td>\n      <td>69.7</td>\n      <td>1</td>\n      <td>NaN</td>\n      <td>None</td>\n    </tr>\n    <tr>\n      <th>1</th>\n      <td>Loch Palm Golf Club</td>\n      <td>18</td>\n      <td>Kathu</td>\n      <td>129.0</td>\n      <td>68.4</td>\n      <td>3</td>\n      <td>NaN</td>\n      <td>None</td>\n    </tr>\n    <tr>\n      <th>2</th>\n      <td>Red Mountain Golf Club</td>\n      <td>18</td>\n      <td>Kathu</td>\n      <td>121.0</td>\n      <td>68.4</td>\n      <td>5</td>\n      <td>NaN</td>\n      <td>None</td>\n    </tr>\n    <tr>\n      <th>3</th>\n      <td>Aravell Golf Club</td>\n      <td>18</td>\n      <td>Aravell</td>\n      <td>139.0</td>\n      <td>74.0</td>\n      <td>14</td>\n      <td>71.0</td>\n      <td>None</td>\n    </tr>\n    <tr>\n      <th>4</th>\n      <td>A</td>\n      <td>18</td>\n      <td>B</td>\n      <td>12.0</td>\n      <td>12.0</td>\n      <td>38</td>\n      <td>12.0</td>\n      <td>C</td>\n    </tr>\n    <tr>\n      <th>5</th>\n      <td>Test Golf Course</td>\n      <td>18</td>\n      <td>Test</td>\n      <td>120.0</td>\n      <td>75.0</td>\n      <td>39</td>\n      <td>72.0</td>\n      <td>Test</td>\n    </tr>\n    <tr>\n      <th>6</th>\n      <td>Test Golf Course</td>\n      <td>18</td>\n      <td>Test</td>\n      <td>120.0</td>\n      <td>75.0</td>\n      <td>40</td>\n      <td>72.0</td>\n      <td>Test</td>\n    </tr>\n    <tr>\n      <th>7</th>\n      <td>Test Golf Course</td>\n      <td>18</td>\n      <td>Test</td>\n      <td>200.0</td>\n      <td>75.0</td>\n      <td>41</td>\n      <td>72.0</td>\n      <td>Test</td>\n    </tr>\n  </tbody>\n</table>\n</div>"
     },
     "execution_count": 30,
     "metadata": {},
     "output_type": "execute_result"
    }
   ],
   "source": [
    "# View dataframe\n",
    "course_df = table_to_dataframe(\"course\")\n",
    "course_df"
   ],
   "metadata": {
    "collapsed": false,
    "pycharm": {
     "name": "#%%\n"
    }
   }
  },
  {
   "cell_type": "markdown",
   "source": [
    "### Insert to course_{} Table"
   ],
   "metadata": {
    "collapsed": false,
    "pycharm": {
     "name": "#%% md\n"
    }
   }
  },
  {
   "cell_type": "code",
   "execution_count": 116,
   "outputs": [
    {
     "data": {
      "text/plain": "(4,)"
     },
     "execution_count": 116,
     "metadata": {},
     "output_type": "execute_result"
    }
   ],
   "source": [
    "course_id = 4\n",
    "list_course_uid = [course_id]\n",
    "tuple(list_course_uid)"
   ],
   "metadata": {
    "collapsed": false,
    "pycharm": {
     "name": "#%%\n"
    }
   }
  },
  {
   "cell_type": "code",
   "execution_count": 110,
   "outputs": [
    {
     "data": {
      "text/plain": "(1, 3, 1, 3)"
     },
     "execution_count": 110,
     "metadata": {},
     "output_type": "execute_result"
    }
   ],
   "source": [
    "tuple([1, 3]) + tuple([1, 3])"
   ],
   "metadata": {
    "collapsed": false,
    "pycharm": {
     "name": "#%%\n"
    }
   }
  },
  {
   "cell_type": "code",
   "execution_count": 150,
   "outputs": [],
   "source": [
    "def make_data_tuple_9holes(table, course_feature, course_id):\n",
    "    \"\"\"\n",
    "    Function creates the SQL command needed to insert features into a table - 9 holes\n",
    "    :param table: name of table in database\n",
    "    :param course_feature: list of features\n",
    "    :return: insert SQL command, features as tuple\n",
    "    \"\"\"\n",
    "    insert_command = \"\"\"INSERT INTO {}\n",
    "                  (course_id, hole1, hole2, hole3, hole4, hole5, hole6, hole7, hole8, hole9)\n",
    "                  VALUES (%s, %s, %s, %s, %s, %s, %s, %s, %s, %s);\"\"\".format(table)\n",
    "    course_id_list = [course_id]\n",
    "    course_id_tuple = tuple(course_id_list)\n",
    "    feature_tuple = tuple(course_feature)\n",
    "    data_tuple = tuple(course_id_tuple) + tuple(feature_tuple)\n",
    "    return insert_command, data_tuple\n",
    "\n",
    "def make_data_tuple_18holes(table, course_feature, course_id):\n",
    "    \"\"\"\n",
    "    Function creates the SQL command needed to insert features into a table - 18 holes\n",
    "    :param table: name of table in database\n",
    "    :param course_feature: list of features\n",
    "    :return: insert SQL command, features as tuple\n",
    "    \"\"\"\n",
    "    insert_command = \"\"\"INSERT INTO {}\n",
    "                      (course_id, hole1, hole2, hole3, hole4, hole5, hole6, hole7, hole8, hole9, hole10, hole11, hole12, hole13, hole14, hole15, hole16, hole17, hole18)\n",
    "                      VALUES (%s, %s, %s, %s, %s, %s, %s, %s, %s, %s, %s, %s, %s, %s, %s, %s, %s, %s, %s);\"\"\".format(table)\n",
    "    course_id_list = [course_id]\n",
    "    course_id_tuple = tuple(course_id_list)\n",
    "    feature_tuple = tuple(course_feature)\n",
    "    data_tuple = tuple(course_id_tuple) + tuple(feature_tuple)\n",
    "    return insert_command, data_tuple\n",
    "\n",
    "def insert_score_card_feature_to_table(table, course_feature, course_id):\n",
    "    \"\"\"\n",
    "    Function pipelines the process to insert 9/18 hole feature information (par, si, distance) into a database table\n",
    "    :param table: name of table in database\n",
    "    :param course_feature: list of features\n",
    "    :return:\n",
    "    \"\"\"\n",
    "    if len(course_feature) == 9:\n",
    "        insert_command, data_tuple = make_data_tuple_9holes(table, course_feature, course_id)\n",
    "    elif len(course_feature) == 18:\n",
    "        insert_command, data_tuple = make_data_tuple_18holes(table, course_feature, course_id)\n",
    "    cursor_execute_tuple(insert_command, data_tuple)\n",
    "    return None"
   ],
   "metadata": {
    "collapsed": false,
    "pycharm": {
     "name": "#%%\n"
    }
   }
  },
  {
   "cell_type": "code",
   "execution_count": 158,
   "outputs": [
    {
     "name": "stdout",
     "output_type": "stream",
     "text": [
      "Successfully executed the command\n"
     ]
    }
   ],
   "source": [
    "par_list = [1, 2, 3, 4, 5, 6, 7, 8, 9, 1, 2, 3, 4, 5, 6, 7, 8, 9]\n",
    "course_id = 3\n",
    "\n",
    "insert_score_card_feature_to_table(\"course_par\", par_list, course_id)"
   ],
   "metadata": {
    "collapsed": false,
    "pycharm": {
     "name": "#%%\n"
    }
   }
  },
  {
   "cell_type": "markdown",
   "source": [
    "### Get ID from Course Features"
   ],
   "metadata": {
    "collapsed": false,
    "pycharm": {
     "name": "#%% md\n"
    }
   }
  },
  {
   "cell_type": "code",
   "execution_count": 99,
   "outputs": [],
   "source": [
    "def get_id_from_course_name(course_name):\n",
    "    \"\"\"\n",
    "    Function returns the id of the course in the course table based on the name\n",
    "    :param course_name: name of course quiered\n",
    "    :return: id of course quiered\n",
    "    \"\"\"\n",
    "    insert_command = \"\"\"SELECT id FROM course\n",
    "                    WHERE name = %s;\"\"\"\n",
    "    cursor.execute(insert_command, [course_name])\n",
    "    returned_value = cursor.fetchall()\n",
    "    id = returned_value[0][0]\n",
    "    return id"
   ],
   "metadata": {
    "collapsed": false,
    "pycharm": {
     "name": "#%%\n"
    }
   }
  },
  {
   "cell_type": "code",
   "execution_count": 120,
   "outputs": [
    {
     "data": {
      "text/plain": "3"
     },
     "execution_count": 120,
     "metadata": {},
     "output_type": "execute_result"
    }
   ],
   "source": [
    "get_id_from_course_name(\"Loch Palm Golf Club\")"
   ],
   "metadata": {
    "collapsed": false,
    "pycharm": {
     "name": "#%%\n"
    }
   }
  },
  {
   "cell_type": "code",
   "execution_count": 157,
   "outputs": [
    {
     "name": "stdout",
     "output_type": "stream",
     "text": [
      "Successfully executed the command\n",
      "Successfully executed the command\n",
      "Successfully executed the command\n"
     ]
    }
   ],
   "source": [
    "dataframe = pd.read_csv(r\"C:\\Users\\Jaume\\Downloads\\golf_course_score_card_template (33).csv\")\n",
    "course_par = list(dataframe[\"Par\"])\n",
    "course_distance = list(dataframe[\"Distance\"])\n",
    "course_stroke_index = list(dataframe[\"Stroke Index\"])\n",
    "insert_score_card_feature_to_table(\"course_par\", course_par, 3)\n",
    "insert_score_card_feature_to_table(\"course_distance\", course_distance, 3)\n",
    "insert_score_card_feature_to_table(\"course_stroke_index\", course_stroke_index, 3)"
   ],
   "metadata": {
    "collapsed": false,
    "pycharm": {
     "name": "#%%\n"
    }
   }
  },
  {
   "cell_type": "code",
   "execution_count": 133,
   "outputs": [
    {
     "name": "stdout",
     "output_type": "stream",
     "text": [
      "Could not successfully execute the command\n"
     ]
    }
   ],
   "source": [
    "insert_score_card_feature_to_table(\"course_par\", course_par, 3)"
   ],
   "metadata": {
    "collapsed": false,
    "pycharm": {
     "name": "#%%\n"
    }
   }
  },
  {
   "cell_type": "code",
   "execution_count": null,
   "outputs": [],
   "source": [],
   "metadata": {
    "collapsed": false,
    "pycharm": {
     "name": "#%%\n"
    }
   }
  },
  {
   "cell_type": "code",
   "execution_count": 156,
   "outputs": [
    {
     "name": "stdout",
     "output_type": "stream",
     "text": [
      "Could not successfully execute the command\n",
      "Successfully executed the command\n",
      "Successfully executed the command\n"
     ]
    }
   ],
   "source": [
    "dataframe = pd.read_csv(r\"C:\\Users\\Jaume\\Downloads\\golf_course_score_card_template (33).csv\")\n",
    "course_par = list(dataframe[\"Par\"])\n",
    "course_distance = list(dataframe[\"Distance\"])\n",
    "course_stroke_index = list(dataframe[\"Stroke Index\"])\n",
    "insert_score_card_feature_to_table(\"course_par\", course_par, \"232\")\n",
    "insert_score_card_feature_to_table(\"course_distance\", course_distance, 43)\n",
    "insert_score_card_feature_to_table(\"course_stroke_index\", course_stroke_index, 43)"
   ],
   "metadata": {
    "collapsed": false,
    "pycharm": {
     "name": "#%%\n"
    }
   }
  },
  {
   "cell_type": "code",
   "execution_count": null,
   "outputs": [],
   "source": [],
   "metadata": {
    "collapsed": false,
    "pycharm": {
     "name": "#%%\n"
    }
   }
  }
 ],
 "metadata": {
  "kernelspec": {
   "display_name": "Python 3",
   "language": "python",
   "name": "python3"
  },
  "language_info": {
   "codemirror_mode": {
    "name": "ipython",
    "version": 2
   },
   "file_extension": ".py",
   "mimetype": "text/x-python",
   "name": "python",
   "nbconvert_exporter": "python",
   "pygments_lexer": "ipython2",
   "version": "2.7.6"
  }
 },
 "nbformat": 4,
 "nbformat_minor": 0
}