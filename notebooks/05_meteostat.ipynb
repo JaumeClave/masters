{
 "cells": [
  {
   "cell_type": "markdown",
   "metadata": {
    "collapsed": true,
    "pycharm": {
     "name": "#%% md\n"
    }
   },
   "source": [
    "# Meteostat\n",
    "This Jupyter Notebook will be used to test the meteostat library\n",
    "\n",
    "[Documentation](https://dev.meteostat.net/python/#installation)"
   ]
  },
  {
   "cell_type": "code",
   "execution_count": 20,
   "outputs": [
    {
     "data": {
      "text/plain": "            tavg  tmin  tmax  prcp  snow   wdir  wspd   wpgt    pres  tsun\ntime                                                                      \n2018-01-01   1.7  -0.5   3.9   0.0   0.0    NaN   8.7    0.0  1030.7   NaN\n2018-01-02   1.7  -0.5   3.8   0.0   0.0    NaN   7.1    0.0  1028.5   NaN\n2018-01-03   2.2   1.1   3.3   0.0   NaN    NaN   6.8    0.0  1022.5   NaN\n2018-01-04   4.0   1.5   6.5   0.0   0.0    NaN   6.1    0.0  1016.7   NaN\n2018-01-05   7.5   5.6   9.4  30.4   0.0    NaN  10.0    0.0  1014.5   NaN\n...          ...   ...   ...   ...   ...    ...   ...    ...     ...   ...\n2018-12-27   3.5   1.7   5.2   0.0   0.0   74.0   7.2    NaN  1027.8   NaN\n2018-12-28   3.7   2.7   4.7  24.5   0.0   66.0  17.6    NaN  1025.2   NaN\n2018-12-29   7.4   4.5  10.2  16.6   0.0  180.0  25.3  208.8  1013.7   NaN\n2018-12-30   4.7   2.1   7.2   0.2   0.0  319.0  16.0  241.2  1021.5   NaN\n2018-12-31   3.1  -0.4   6.7   0.0   0.0  110.0   6.8    NaN  1032.1   NaN\n\n[365 rows x 10 columns]",
      "text/html": "<div>\n<style scoped>\n    .dataframe tbody tr th:only-of-type {\n        vertical-align: middle;\n    }\n\n    .dataframe tbody tr th {\n        vertical-align: top;\n    }\n\n    .dataframe thead th {\n        text-align: right;\n    }\n</style>\n<table border=\"1\" class=\"dataframe\">\n  <thead>\n    <tr style=\"text-align: right;\">\n      <th></th>\n      <th>tavg</th>\n      <th>tmin</th>\n      <th>tmax</th>\n      <th>prcp</th>\n      <th>snow</th>\n      <th>wdir</th>\n      <th>wspd</th>\n      <th>wpgt</th>\n      <th>pres</th>\n      <th>tsun</th>\n    </tr>\n    <tr>\n      <th>time</th>\n      <th></th>\n      <th></th>\n      <th></th>\n      <th></th>\n      <th></th>\n      <th></th>\n      <th></th>\n      <th></th>\n      <th></th>\n      <th></th>\n    </tr>\n  </thead>\n  <tbody>\n    <tr>\n      <th>2018-01-01</th>\n      <td>1.7</td>\n      <td>-0.5</td>\n      <td>3.9</td>\n      <td>0.0</td>\n      <td>0.0</td>\n      <td>NaN</td>\n      <td>8.7</td>\n      <td>0.0</td>\n      <td>1030.7</td>\n      <td>NaN</td>\n    </tr>\n    <tr>\n      <th>2018-01-02</th>\n      <td>1.7</td>\n      <td>-0.5</td>\n      <td>3.8</td>\n      <td>0.0</td>\n      <td>0.0</td>\n      <td>NaN</td>\n      <td>7.1</td>\n      <td>0.0</td>\n      <td>1028.5</td>\n      <td>NaN</td>\n    </tr>\n    <tr>\n      <th>2018-01-03</th>\n      <td>2.2</td>\n      <td>1.1</td>\n      <td>3.3</td>\n      <td>0.0</td>\n      <td>NaN</td>\n      <td>NaN</td>\n      <td>6.8</td>\n      <td>0.0</td>\n      <td>1022.5</td>\n      <td>NaN</td>\n    </tr>\n    <tr>\n      <th>2018-01-04</th>\n      <td>4.0</td>\n      <td>1.5</td>\n      <td>6.5</td>\n      <td>0.0</td>\n      <td>0.0</td>\n      <td>NaN</td>\n      <td>6.1</td>\n      <td>0.0</td>\n      <td>1016.7</td>\n      <td>NaN</td>\n    </tr>\n    <tr>\n      <th>2018-01-05</th>\n      <td>7.5</td>\n      <td>5.6</td>\n      <td>9.4</td>\n      <td>30.4</td>\n      <td>0.0</td>\n      <td>NaN</td>\n      <td>10.0</td>\n      <td>0.0</td>\n      <td>1014.5</td>\n      <td>NaN</td>\n    </tr>\n    <tr>\n      <th>...</th>\n      <td>...</td>\n      <td>...</td>\n      <td>...</td>\n      <td>...</td>\n      <td>...</td>\n      <td>...</td>\n      <td>...</td>\n      <td>...</td>\n      <td>...</td>\n      <td>...</td>\n    </tr>\n    <tr>\n      <th>2018-12-27</th>\n      <td>3.5</td>\n      <td>1.7</td>\n      <td>5.2</td>\n      <td>0.0</td>\n      <td>0.0</td>\n      <td>74.0</td>\n      <td>7.2</td>\n      <td>NaN</td>\n      <td>1027.8</td>\n      <td>NaN</td>\n    </tr>\n    <tr>\n      <th>2018-12-28</th>\n      <td>3.7</td>\n      <td>2.7</td>\n      <td>4.7</td>\n      <td>24.5</td>\n      <td>0.0</td>\n      <td>66.0</td>\n      <td>17.6</td>\n      <td>NaN</td>\n      <td>1025.2</td>\n      <td>NaN</td>\n    </tr>\n    <tr>\n      <th>2018-12-29</th>\n      <td>7.4</td>\n      <td>4.5</td>\n      <td>10.2</td>\n      <td>16.6</td>\n      <td>0.0</td>\n      <td>180.0</td>\n      <td>25.3</td>\n      <td>208.8</td>\n      <td>1013.7</td>\n      <td>NaN</td>\n    </tr>\n    <tr>\n      <th>2018-12-30</th>\n      <td>4.7</td>\n      <td>2.1</td>\n      <td>7.2</td>\n      <td>0.2</td>\n      <td>0.0</td>\n      <td>319.0</td>\n      <td>16.0</td>\n      <td>241.2</td>\n      <td>1021.5</td>\n      <td>NaN</td>\n    </tr>\n    <tr>\n      <th>2018-12-31</th>\n      <td>3.1</td>\n      <td>-0.4</td>\n      <td>6.7</td>\n      <td>0.0</td>\n      <td>0.0</td>\n      <td>110.0</td>\n      <td>6.8</td>\n      <td>NaN</td>\n      <td>1032.1</td>\n      <td>NaN</td>\n    </tr>\n  </tbody>\n</table>\n<p>365 rows × 10 columns</p>\n</div>"
     },
     "execution_count": 20,
     "metadata": {},
     "output_type": "execute_result"
    }
   ],
   "source": [
    "# Import Meteostat library and dependencies\n",
    "import collections\n",
    "from datetime import datetime\n",
    "# import matplotlib.pyplot as plt\n",
    "import numpy as np\n",
    "from meteostat import Point, Daily\n",
    "\n",
    "# Set time period\n",
    "start = datetime(2018, 1, 1)\n",
    "end = datetime(2018, 12, 31)\n",
    "\n",
    "# Create Point for Vancouver, BC\n",
    "vancouver = Point(49.2497, -123.1193, 70)\n",
    "\n",
    "# Get daily data for 2018\n",
    "data = Daily(vancouver, start, end)\n",
    "data = data.fetch()\n",
    "\n",
    "# Plot line chart including average, minimum and maximum temperature\n",
    "data"
   ],
   "metadata": {
    "collapsed": false,
    "pycharm": {
     "name": "#%%\n"
    }
   }
  },
  {
   "cell_type": "markdown",
   "source": [
    "### Hourly Data\n",
    "If you want to investigate the weather on a particular day or a short period of time, the Hourly class is a perfect match. It may include model data to fill gaps in the observations.\n",
    "\n"
   ],
   "metadata": {
    "collapsed": false,
    "pycharm": {
     "name": "#%% md\n"
    }
   }
  },
  {
   "cell_type": "code",
   "execution_count": 21,
   "outputs": [
    {
     "data": {
      "text/plain": "                     temp  dwpt  rhum  prcp  snow   wdir  wspd  wpgt    pres  \\\ntime                                                                           \n2020-12-31 00:00:00   8.2  -0.1  56.0   0.0   NaN  300.0  18.4  35.2  1014.6   \n2020-12-31 01:00:00   7.5  -0.2  58.0   0.0   NaN  270.0  18.4  35.2  1014.3   \n2020-12-31 02:00:00   8.2  -0.3  55.0   0.0   NaN  300.0  22.3  33.3  1014.3   \n2020-12-31 03:00:00   8.3  -0.5  54.0   0.0   NaN  300.0  22.3  29.6  1014.1   \n2020-12-31 04:00:00   6.3  -0.5  62.0   0.0   NaN  250.0  11.2  27.8  1014.4   \n2020-12-31 05:00:00   6.6  -0.8  59.0   0.0   NaN  270.0  25.9  25.9  1013.6   \n2020-12-31 06:00:00   5.5  -0.8  64.0   0.0   NaN  240.0  24.1  25.9  1014.0   \n2020-12-31 07:00:00   5.7  -0.6  64.0   0.0   NaN  250.0  18.4  20.4  1014.3   \n2020-12-31 08:00:00   7.5  -0.5  57.0   0.0   NaN  250.0  16.6  22.2  1014.3   \n2020-12-31 09:00:00   9.1   0.0  53.0   0.0   NaN  270.0  25.9  22.2  1014.2   \n2020-12-31 10:00:00  10.8   0.2  48.0   0.0   NaN  250.0  24.1  27.8  1014.1   \n2020-12-31 11:00:00  11.4  -0.1  45.0   0.0   NaN  250.0  35.3  31.5  1013.2   \n2020-12-31 12:00:00  12.3  -0.3  42.0   0.0   NaN  260.0  29.5  33.3  1012.2   \n2020-12-31 13:00:00  12.8  -0.1  41.0   0.0   NaN  240.0  22.3  33.3  1011.3   \n2020-12-31 14:00:00  12.9   0.0  41.0   0.0   NaN  250.0  25.9  33.3  1010.4   \n2020-12-31 15:00:00  12.0   0.4  45.0   0.0   NaN  240.0  16.6  33.3  1010.3   \n\n                     tsun  coco  \ntime                             \n2020-12-31 00:00:00   NaN   3.0  \n2020-12-31 01:00:00   NaN   2.0  \n2020-12-31 02:00:00   NaN   2.0  \n2020-12-31 03:00:00   NaN   2.0  \n2020-12-31 04:00:00   NaN   2.0  \n2020-12-31 05:00:00   NaN   2.0  \n2020-12-31 06:00:00   NaN   2.0  \n2020-12-31 07:00:00   NaN   2.0  \n2020-12-31 08:00:00   NaN   2.0  \n2020-12-31 09:00:00   NaN   2.0  \n2020-12-31 10:00:00   NaN   2.0  \n2020-12-31 11:00:00   NaN   2.0  \n2020-12-31 12:00:00   NaN   2.0  \n2020-12-31 13:00:00   NaN   2.0  \n2020-12-31 14:00:00   NaN   2.0  \n2020-12-31 15:00:00   NaN   2.0  ",
      "text/html": "<div>\n<style scoped>\n    .dataframe tbody tr th:only-of-type {\n        vertical-align: middle;\n    }\n\n    .dataframe tbody tr th {\n        vertical-align: top;\n    }\n\n    .dataframe thead th {\n        text-align: right;\n    }\n</style>\n<table border=\"1\" class=\"dataframe\">\n  <thead>\n    <tr style=\"text-align: right;\">\n      <th></th>\n      <th>temp</th>\n      <th>dwpt</th>\n      <th>rhum</th>\n      <th>prcp</th>\n      <th>snow</th>\n      <th>wdir</th>\n      <th>wspd</th>\n      <th>wpgt</th>\n      <th>pres</th>\n      <th>tsun</th>\n      <th>coco</th>\n    </tr>\n    <tr>\n      <th>time</th>\n      <th></th>\n      <th></th>\n      <th></th>\n      <th></th>\n      <th></th>\n      <th></th>\n      <th></th>\n      <th></th>\n      <th></th>\n      <th></th>\n      <th></th>\n    </tr>\n  </thead>\n  <tbody>\n    <tr>\n      <th>2020-12-31 00:00:00</th>\n      <td>8.2</td>\n      <td>-0.1</td>\n      <td>56.0</td>\n      <td>0.0</td>\n      <td>NaN</td>\n      <td>300.0</td>\n      <td>18.4</td>\n      <td>35.2</td>\n      <td>1014.6</td>\n      <td>NaN</td>\n      <td>3.0</td>\n    </tr>\n    <tr>\n      <th>2020-12-31 01:00:00</th>\n      <td>7.5</td>\n      <td>-0.2</td>\n      <td>58.0</td>\n      <td>0.0</td>\n      <td>NaN</td>\n      <td>270.0</td>\n      <td>18.4</td>\n      <td>35.2</td>\n      <td>1014.3</td>\n      <td>NaN</td>\n      <td>2.0</td>\n    </tr>\n    <tr>\n      <th>2020-12-31 02:00:00</th>\n      <td>8.2</td>\n      <td>-0.3</td>\n      <td>55.0</td>\n      <td>0.0</td>\n      <td>NaN</td>\n      <td>300.0</td>\n      <td>22.3</td>\n      <td>33.3</td>\n      <td>1014.3</td>\n      <td>NaN</td>\n      <td>2.0</td>\n    </tr>\n    <tr>\n      <th>2020-12-31 03:00:00</th>\n      <td>8.3</td>\n      <td>-0.5</td>\n      <td>54.0</td>\n      <td>0.0</td>\n      <td>NaN</td>\n      <td>300.0</td>\n      <td>22.3</td>\n      <td>29.6</td>\n      <td>1014.1</td>\n      <td>NaN</td>\n      <td>2.0</td>\n    </tr>\n    <tr>\n      <th>2020-12-31 04:00:00</th>\n      <td>6.3</td>\n      <td>-0.5</td>\n      <td>62.0</td>\n      <td>0.0</td>\n      <td>NaN</td>\n      <td>250.0</td>\n      <td>11.2</td>\n      <td>27.8</td>\n      <td>1014.4</td>\n      <td>NaN</td>\n      <td>2.0</td>\n    </tr>\n    <tr>\n      <th>2020-12-31 05:00:00</th>\n      <td>6.6</td>\n      <td>-0.8</td>\n      <td>59.0</td>\n      <td>0.0</td>\n      <td>NaN</td>\n      <td>270.0</td>\n      <td>25.9</td>\n      <td>25.9</td>\n      <td>1013.6</td>\n      <td>NaN</td>\n      <td>2.0</td>\n    </tr>\n    <tr>\n      <th>2020-12-31 06:00:00</th>\n      <td>5.5</td>\n      <td>-0.8</td>\n      <td>64.0</td>\n      <td>0.0</td>\n      <td>NaN</td>\n      <td>240.0</td>\n      <td>24.1</td>\n      <td>25.9</td>\n      <td>1014.0</td>\n      <td>NaN</td>\n      <td>2.0</td>\n    </tr>\n    <tr>\n      <th>2020-12-31 07:00:00</th>\n      <td>5.7</td>\n      <td>-0.6</td>\n      <td>64.0</td>\n      <td>0.0</td>\n      <td>NaN</td>\n      <td>250.0</td>\n      <td>18.4</td>\n      <td>20.4</td>\n      <td>1014.3</td>\n      <td>NaN</td>\n      <td>2.0</td>\n    </tr>\n    <tr>\n      <th>2020-12-31 08:00:00</th>\n      <td>7.5</td>\n      <td>-0.5</td>\n      <td>57.0</td>\n      <td>0.0</td>\n      <td>NaN</td>\n      <td>250.0</td>\n      <td>16.6</td>\n      <td>22.2</td>\n      <td>1014.3</td>\n      <td>NaN</td>\n      <td>2.0</td>\n    </tr>\n    <tr>\n      <th>2020-12-31 09:00:00</th>\n      <td>9.1</td>\n      <td>0.0</td>\n      <td>53.0</td>\n      <td>0.0</td>\n      <td>NaN</td>\n      <td>270.0</td>\n      <td>25.9</td>\n      <td>22.2</td>\n      <td>1014.2</td>\n      <td>NaN</td>\n      <td>2.0</td>\n    </tr>\n    <tr>\n      <th>2020-12-31 10:00:00</th>\n      <td>10.8</td>\n      <td>0.2</td>\n      <td>48.0</td>\n      <td>0.0</td>\n      <td>NaN</td>\n      <td>250.0</td>\n      <td>24.1</td>\n      <td>27.8</td>\n      <td>1014.1</td>\n      <td>NaN</td>\n      <td>2.0</td>\n    </tr>\n    <tr>\n      <th>2020-12-31 11:00:00</th>\n      <td>11.4</td>\n      <td>-0.1</td>\n      <td>45.0</td>\n      <td>0.0</td>\n      <td>NaN</td>\n      <td>250.0</td>\n      <td>35.3</td>\n      <td>31.5</td>\n      <td>1013.2</td>\n      <td>NaN</td>\n      <td>2.0</td>\n    </tr>\n    <tr>\n      <th>2020-12-31 12:00:00</th>\n      <td>12.3</td>\n      <td>-0.3</td>\n      <td>42.0</td>\n      <td>0.0</td>\n      <td>NaN</td>\n      <td>260.0</td>\n      <td>29.5</td>\n      <td>33.3</td>\n      <td>1012.2</td>\n      <td>NaN</td>\n      <td>2.0</td>\n    </tr>\n    <tr>\n      <th>2020-12-31 13:00:00</th>\n      <td>12.8</td>\n      <td>-0.1</td>\n      <td>41.0</td>\n      <td>0.0</td>\n      <td>NaN</td>\n      <td>240.0</td>\n      <td>22.3</td>\n      <td>33.3</td>\n      <td>1011.3</td>\n      <td>NaN</td>\n      <td>2.0</td>\n    </tr>\n    <tr>\n      <th>2020-12-31 14:00:00</th>\n      <td>12.9</td>\n      <td>0.0</td>\n      <td>41.0</td>\n      <td>0.0</td>\n      <td>NaN</td>\n      <td>250.0</td>\n      <td>25.9</td>\n      <td>33.3</td>\n      <td>1010.4</td>\n      <td>NaN</td>\n      <td>2.0</td>\n    </tr>\n    <tr>\n      <th>2020-12-31 15:00:00</th>\n      <td>12.0</td>\n      <td>0.4</td>\n      <td>45.0</td>\n      <td>0.0</td>\n      <td>NaN</td>\n      <td>240.0</td>\n      <td>16.6</td>\n      <td>33.3</td>\n      <td>1010.3</td>\n      <td>NaN</td>\n      <td>2.0</td>\n    </tr>\n  </tbody>\n</table>\n</div>"
     },
     "execution_count": 21,
     "metadata": {},
     "output_type": "execute_result"
    }
   ],
   "source": [
    "# Import Meteostat library and dependencies\n",
    "from datetime import datetime\n",
    "from meteostat import Hourly\n",
    "\n",
    "# Set time period\n",
    "start = datetime(2020, 12, 31)\n",
    "end = datetime(2020, 12, 31, 15)\n",
    "\n",
    "# Get hourly data\n",
    "data = Hourly('08175', start, end)\n",
    "data = data.fetch()\n",
    "\n",
    "# Print DataFrame\n",
    "data"
   ],
   "metadata": {
    "collapsed": false,
    "pycharm": {
     "name": "#%%\n"
    }
   }
  },
  {
   "cell_type": "code",
   "execution_count": 22,
   "outputs": [],
   "source": [
    "from meteostat import Stations\n",
    "\n",
    "stations = Stations()\n",
    "stations = stations.nearby(41.2, 1.24)\n",
    "station = stations.fetch(1)"
   ],
   "metadata": {
    "collapsed": false,
    "pycharm": {
     "name": "#%%\n"
    }
   }
  },
  {
   "cell_type": "code",
   "execution_count": 23,
   "outputs": [
    {
     "data": {
      "text/plain": "                    name country region    wmo  icao  latitude  longitude  \\\nid                                                                          \n08175  Reus / Aeropuerto      ES     CT  08175  LERS     41.15     1.1667   \n\n       elevation       timezone hourly_start hourly_end daily_start  \\\nid                                                                    \n08175       71.0  Europe/Madrid   1973-01-01 2022-03-11  1945-02-01   \n\n       daily_end monthly_start monthly_end     distance  \nid                                                       \n08175 2022-03-08    1945-01-01  2021-01-01  8279.406785  ",
      "text/html": "<div>\n<style scoped>\n    .dataframe tbody tr th:only-of-type {\n        vertical-align: middle;\n    }\n\n    .dataframe tbody tr th {\n        vertical-align: top;\n    }\n\n    .dataframe thead th {\n        text-align: right;\n    }\n</style>\n<table border=\"1\" class=\"dataframe\">\n  <thead>\n    <tr style=\"text-align: right;\">\n      <th></th>\n      <th>name</th>\n      <th>country</th>\n      <th>region</th>\n      <th>wmo</th>\n      <th>icao</th>\n      <th>latitude</th>\n      <th>longitude</th>\n      <th>elevation</th>\n      <th>timezone</th>\n      <th>hourly_start</th>\n      <th>hourly_end</th>\n      <th>daily_start</th>\n      <th>daily_end</th>\n      <th>monthly_start</th>\n      <th>monthly_end</th>\n      <th>distance</th>\n    </tr>\n    <tr>\n      <th>id</th>\n      <th></th>\n      <th></th>\n      <th></th>\n      <th></th>\n      <th></th>\n      <th></th>\n      <th></th>\n      <th></th>\n      <th></th>\n      <th></th>\n      <th></th>\n      <th></th>\n      <th></th>\n      <th></th>\n      <th></th>\n      <th></th>\n    </tr>\n  </thead>\n  <tbody>\n    <tr>\n      <th>08175</th>\n      <td>Reus / Aeropuerto</td>\n      <td>ES</td>\n      <td>CT</td>\n      <td>08175</td>\n      <td>LERS</td>\n      <td>41.15</td>\n      <td>1.1667</td>\n      <td>71.0</td>\n      <td>Europe/Madrid</td>\n      <td>1973-01-01</td>\n      <td>2022-03-11</td>\n      <td>1945-02-01</td>\n      <td>2022-03-08</td>\n      <td>1945-01-01</td>\n      <td>2021-01-01</td>\n      <td>8279.406785</td>\n    </tr>\n  </tbody>\n</table>\n</div>"
     },
     "execution_count": 23,
     "metadata": {},
     "output_type": "execute_result"
    }
   ],
   "source": [
    "station"
   ],
   "metadata": {
    "collapsed": false,
    "pycharm": {
     "name": "#%%\n"
    }
   }
  },
  {
   "cell_type": "markdown",
   "source": [
    "### Nominatim\n",
    "Nominatim uses OpenStreetMap data to find locations on Earth by name and address (geocoding). It can also do the reverse, find an address for any location on the planet."
   ],
   "metadata": {
    "collapsed": false,
    "pycharm": {
     "name": "#%% md\n"
    }
   }
  },
  {
   "cell_type": "code",
   "execution_count": 24,
   "outputs": [
    {
     "name": "stdout",
     "output_type": "stream",
     "text": [
      "latitude is :- 41.1172364 \n",
      "longtitude is:- 1.2546057\n"
     ]
    }
   ],
   "source": [
    "from geopy.geocoders import Nominatim\n",
    "\n",
    "# Geolocator\n",
    "geolocator = Nominatim(user_agent=\"James\")\n",
    "city =\"Tarragona\"\n",
    "country =\"Spain\"\n",
    "loc = geolocator.geocode(city+','+ country)\n",
    "print(\"latitude is :-\" ,loc.latitude,\"\\nlongtitude is:-\" ,loc.longitude)"
   ],
   "metadata": {
    "collapsed": false,
    "pycharm": {
     "name": "#%%\n"
    }
   }
  },
  {
   "cell_type": "code",
   "execution_count": 25,
   "outputs": [],
   "source": [
    "from geopy.geocoders import Nominatim\n",
    "\n",
    "NOMINATIM_USER_AGENT = \"James\"\n",
    "\n",
    "def make_lat_lon_for_city(city, country):\n",
    "    \"\"\"\n",
    "    Function queries the Nominatim API to return the lat & Lon coordinates of a specified city & country\n",
    "    :param city: name of the city\n",
    "    :param country: name of the country the city is in\n",
    "    :return: lat and lon coordinate pair of city geolocation\n",
    "    \"\"\"\n",
    "    geolocator = Nominatim(user_agent=NOMINATIM_USER_AGENT)\n",
    "    loc = geolocator.geocode(city+','+ country)\n",
    "    lat = loc.latitude\n",
    "    lon = loc.longitude\n",
    "    return lat, lon"
   ],
   "metadata": {
    "collapsed": false,
    "pycharm": {
     "name": "#%%\n"
    }
   }
  },
  {
   "cell_type": "code",
   "execution_count": 26,
   "outputs": [
    {
     "data": {
      "text/plain": "(51.0460954, -114.065465)"
     },
     "execution_count": 26,
     "metadata": {},
     "output_type": "execute_result"
    }
   ],
   "source": [
    "lat, lon = make_lat_lon_for_city(\"Calgary\", \"Canada\")\n",
    "lat, lon"
   ],
   "metadata": {
    "collapsed": false,
    "pycharm": {
     "name": "#%%\n"
    }
   }
  },
  {
   "cell_type": "markdown",
   "source": [
    "### Get Nearest Station from Lon, Lat"
   ],
   "metadata": {
    "collapsed": false,
    "pycharm": {
     "name": "#%% md\n"
    }
   }
  },
  {
   "cell_type": "code",
   "execution_count": 27,
   "outputs": [],
   "source": [
    "from meteostat import Stations\n",
    "\n",
    "def make_nearest_station_id_from_lon_lat(lat, lon):\n",
    "    \"\"\"\n",
    "    Function returns the nearest weather (Meteostat) station id based on passed lat & lon coordinates\n",
    "    :param lat: latitude coordinate\n",
    "    :param lon: longitude coordinate\n",
    "    :return: weather (Meteostat) station id\n",
    "    \"\"\"\n",
    "    stations = Stations()\n",
    "    stations = stations.nearby(lat, lon)\n",
    "    station_id = stations.fetch(1)\n",
    "    return station_id.index[0]"
   ],
   "metadata": {
    "collapsed": false,
    "pycharm": {
     "name": "#%%\n"
    }
   }
  },
  {
   "cell_type": "code",
   "execution_count": 28,
   "outputs": [
    {
     "data": {
      "text/plain": "'DHKZ6'"
     },
     "execution_count": 28,
     "metadata": {},
     "output_type": "execute_result"
    }
   ],
   "source": [
    "station_id = make_nearest_station_id_from_lon_lat(lat, lon)\n",
    "station_id"
   ],
   "metadata": {
    "collapsed": false,
    "pycharm": {
     "name": "#%%\n"
    }
   }
  },
  {
   "cell_type": "markdown",
   "source": [
    "### Make Data by Hour from Station ID"
   ],
   "metadata": {
    "collapsed": false,
    "pycharm": {
     "name": "#%% md\n"
    }
   }
  },
  {
   "cell_type": "code",
   "execution_count": 29,
   "outputs": [],
   "source": [
    "from datetime import datetime\n",
    "from meteostat import Hourly\n",
    "\n",
    "\n",
    "def make_historical_hourly_weather_df(station_id, start, end):\n",
    "    \"\"\"\n",
    "    Function returns a Pandas DataFrame containing the hourly weather conditions for a specified station during a specified time\n",
    "    :param station_id: id of Meteostat weather station\n",
    "    :param start: start date/time\n",
    "    :param end: end date/time\n",
    "    :return: DataFrame containing hourly weather conditions\n",
    "    \"\"\"\n",
    "    data = Hourly(station_id, start, end)\n",
    "    data = data.fetch()\n",
    "    return data"
   ],
   "metadata": {
    "collapsed": false,
    "pycharm": {
     "name": "#%%\n"
    }
   }
  },
  {
   "cell_type": "code",
   "execution_count": 30,
   "outputs": [
    {
     "data": {
      "text/plain": "                     temp  dwpt  rhum  prcp  snow   wdir  wspd  wpgt    pres  \\\ntime                                                                           \n2021-12-31 00:00:00 -20.9 -24.5  73.0   0.0   NaN  360.0  13.0   NaN  1018.1   \n2021-12-31 01:00:00 -21.8 -25.0  75.0   0.0   NaN  350.0   7.0   NaN  1019.6   \n2021-12-31 02:00:00 -22.4 -25.2  78.0   0.0   NaN   10.0   1.0   NaN  1020.7   \n2021-12-31 03:00:00 -22.8 -25.6  78.0   0.0   NaN   90.0   6.0   NaN  1021.4   \n2021-12-31 04:00:00 -22.6 -25.7  76.0   0.0   NaN   60.0   5.0   NaN  1021.7   \n2021-12-31 05:00:00 -22.4 -25.5  76.0   0.0   NaN   30.0   6.0   NaN  1021.9   \n2021-12-31 06:00:00 -23.1 -26.3  75.0   0.0   NaN   50.0   5.0   NaN  1022.4   \n2021-12-31 07:00:00 -23.5 -26.1  79.0   0.0   NaN  250.0   3.0   NaN  1022.9   \n2021-12-31 08:00:00 -23.5 -26.4  77.0   0.0   NaN  260.0   4.0   NaN  1023.1   \n2021-12-31 09:00:00 -24.3 -26.9  79.0   0.0   NaN   90.0   3.0   NaN  1024.3   \n2021-12-31 10:00:00 -23.1 -25.7  79.0   0.0   NaN  160.0   7.0   NaN  1024.3   \n2021-12-31 11:00:00 -24.8 -27.7  77.0   0.0   NaN  240.0   3.0   NaN  1025.5   \n2021-12-31 12:00:00 -26.9 -29.7  77.0   0.0   NaN  340.0   7.0   NaN  1027.3   \n2021-12-31 13:00:00 -29.0 -32.2  74.0   0.0   NaN  310.0   4.0   NaN  1029.1   \n2021-12-31 14:00:00 -28.9 -31.9  75.0   0.0   NaN  330.0   8.0   NaN  1029.9   \n2021-12-31 15:00:00 -28.2 -31.1  76.0   0.0   NaN  310.0   7.0   NaN  1029.9   \n\n                     tsun  coco  \ntime                             \n2021-12-31 00:00:00   NaN   NaN  \n2021-12-31 01:00:00   NaN   NaN  \n2021-12-31 02:00:00   NaN   NaN  \n2021-12-31 03:00:00   NaN   NaN  \n2021-12-31 04:00:00   NaN   NaN  \n2021-12-31 05:00:00   NaN   NaN  \n2021-12-31 06:00:00   NaN   NaN  \n2021-12-31 07:00:00   NaN   NaN  \n2021-12-31 08:00:00   NaN   NaN  \n2021-12-31 09:00:00   NaN   NaN  \n2021-12-31 10:00:00   NaN   NaN  \n2021-12-31 11:00:00   NaN   NaN  \n2021-12-31 12:00:00   NaN   NaN  \n2021-12-31 13:00:00   NaN   NaN  \n2021-12-31 14:00:00   NaN   NaN  \n2021-12-31 15:00:00   NaN   NaN  ",
      "text/html": "<div>\n<style scoped>\n    .dataframe tbody tr th:only-of-type {\n        vertical-align: middle;\n    }\n\n    .dataframe tbody tr th {\n        vertical-align: top;\n    }\n\n    .dataframe thead th {\n        text-align: right;\n    }\n</style>\n<table border=\"1\" class=\"dataframe\">\n  <thead>\n    <tr style=\"text-align: right;\">\n      <th></th>\n      <th>temp</th>\n      <th>dwpt</th>\n      <th>rhum</th>\n      <th>prcp</th>\n      <th>snow</th>\n      <th>wdir</th>\n      <th>wspd</th>\n      <th>wpgt</th>\n      <th>pres</th>\n      <th>tsun</th>\n      <th>coco</th>\n    </tr>\n    <tr>\n      <th>time</th>\n      <th></th>\n      <th></th>\n      <th></th>\n      <th></th>\n      <th></th>\n      <th></th>\n      <th></th>\n      <th></th>\n      <th></th>\n      <th></th>\n      <th></th>\n    </tr>\n  </thead>\n  <tbody>\n    <tr>\n      <th>2021-12-31 00:00:00</th>\n      <td>-20.9</td>\n      <td>-24.5</td>\n      <td>73.0</td>\n      <td>0.0</td>\n      <td>NaN</td>\n      <td>360.0</td>\n      <td>13.0</td>\n      <td>NaN</td>\n      <td>1018.1</td>\n      <td>NaN</td>\n      <td>NaN</td>\n    </tr>\n    <tr>\n      <th>2021-12-31 01:00:00</th>\n      <td>-21.8</td>\n      <td>-25.0</td>\n      <td>75.0</td>\n      <td>0.0</td>\n      <td>NaN</td>\n      <td>350.0</td>\n      <td>7.0</td>\n      <td>NaN</td>\n      <td>1019.6</td>\n      <td>NaN</td>\n      <td>NaN</td>\n    </tr>\n    <tr>\n      <th>2021-12-31 02:00:00</th>\n      <td>-22.4</td>\n      <td>-25.2</td>\n      <td>78.0</td>\n      <td>0.0</td>\n      <td>NaN</td>\n      <td>10.0</td>\n      <td>1.0</td>\n      <td>NaN</td>\n      <td>1020.7</td>\n      <td>NaN</td>\n      <td>NaN</td>\n    </tr>\n    <tr>\n      <th>2021-12-31 03:00:00</th>\n      <td>-22.8</td>\n      <td>-25.6</td>\n      <td>78.0</td>\n      <td>0.0</td>\n      <td>NaN</td>\n      <td>90.0</td>\n      <td>6.0</td>\n      <td>NaN</td>\n      <td>1021.4</td>\n      <td>NaN</td>\n      <td>NaN</td>\n    </tr>\n    <tr>\n      <th>2021-12-31 04:00:00</th>\n      <td>-22.6</td>\n      <td>-25.7</td>\n      <td>76.0</td>\n      <td>0.0</td>\n      <td>NaN</td>\n      <td>60.0</td>\n      <td>5.0</td>\n      <td>NaN</td>\n      <td>1021.7</td>\n      <td>NaN</td>\n      <td>NaN</td>\n    </tr>\n    <tr>\n      <th>2021-12-31 05:00:00</th>\n      <td>-22.4</td>\n      <td>-25.5</td>\n      <td>76.0</td>\n      <td>0.0</td>\n      <td>NaN</td>\n      <td>30.0</td>\n      <td>6.0</td>\n      <td>NaN</td>\n      <td>1021.9</td>\n      <td>NaN</td>\n      <td>NaN</td>\n    </tr>\n    <tr>\n      <th>2021-12-31 06:00:00</th>\n      <td>-23.1</td>\n      <td>-26.3</td>\n      <td>75.0</td>\n      <td>0.0</td>\n      <td>NaN</td>\n      <td>50.0</td>\n      <td>5.0</td>\n      <td>NaN</td>\n      <td>1022.4</td>\n      <td>NaN</td>\n      <td>NaN</td>\n    </tr>\n    <tr>\n      <th>2021-12-31 07:00:00</th>\n      <td>-23.5</td>\n      <td>-26.1</td>\n      <td>79.0</td>\n      <td>0.0</td>\n      <td>NaN</td>\n      <td>250.0</td>\n      <td>3.0</td>\n      <td>NaN</td>\n      <td>1022.9</td>\n      <td>NaN</td>\n      <td>NaN</td>\n    </tr>\n    <tr>\n      <th>2021-12-31 08:00:00</th>\n      <td>-23.5</td>\n      <td>-26.4</td>\n      <td>77.0</td>\n      <td>0.0</td>\n      <td>NaN</td>\n      <td>260.0</td>\n      <td>4.0</td>\n      <td>NaN</td>\n      <td>1023.1</td>\n      <td>NaN</td>\n      <td>NaN</td>\n    </tr>\n    <tr>\n      <th>2021-12-31 09:00:00</th>\n      <td>-24.3</td>\n      <td>-26.9</td>\n      <td>79.0</td>\n      <td>0.0</td>\n      <td>NaN</td>\n      <td>90.0</td>\n      <td>3.0</td>\n      <td>NaN</td>\n      <td>1024.3</td>\n      <td>NaN</td>\n      <td>NaN</td>\n    </tr>\n    <tr>\n      <th>2021-12-31 10:00:00</th>\n      <td>-23.1</td>\n      <td>-25.7</td>\n      <td>79.0</td>\n      <td>0.0</td>\n      <td>NaN</td>\n      <td>160.0</td>\n      <td>7.0</td>\n      <td>NaN</td>\n      <td>1024.3</td>\n      <td>NaN</td>\n      <td>NaN</td>\n    </tr>\n    <tr>\n      <th>2021-12-31 11:00:00</th>\n      <td>-24.8</td>\n      <td>-27.7</td>\n      <td>77.0</td>\n      <td>0.0</td>\n      <td>NaN</td>\n      <td>240.0</td>\n      <td>3.0</td>\n      <td>NaN</td>\n      <td>1025.5</td>\n      <td>NaN</td>\n      <td>NaN</td>\n    </tr>\n    <tr>\n      <th>2021-12-31 12:00:00</th>\n      <td>-26.9</td>\n      <td>-29.7</td>\n      <td>77.0</td>\n      <td>0.0</td>\n      <td>NaN</td>\n      <td>340.0</td>\n      <td>7.0</td>\n      <td>NaN</td>\n      <td>1027.3</td>\n      <td>NaN</td>\n      <td>NaN</td>\n    </tr>\n    <tr>\n      <th>2021-12-31 13:00:00</th>\n      <td>-29.0</td>\n      <td>-32.2</td>\n      <td>74.0</td>\n      <td>0.0</td>\n      <td>NaN</td>\n      <td>310.0</td>\n      <td>4.0</td>\n      <td>NaN</td>\n      <td>1029.1</td>\n      <td>NaN</td>\n      <td>NaN</td>\n    </tr>\n    <tr>\n      <th>2021-12-31 14:00:00</th>\n      <td>-28.9</td>\n      <td>-31.9</td>\n      <td>75.0</td>\n      <td>0.0</td>\n      <td>NaN</td>\n      <td>330.0</td>\n      <td>8.0</td>\n      <td>NaN</td>\n      <td>1029.9</td>\n      <td>NaN</td>\n      <td>NaN</td>\n    </tr>\n    <tr>\n      <th>2021-12-31 15:00:00</th>\n      <td>-28.2</td>\n      <td>-31.1</td>\n      <td>76.0</td>\n      <td>0.0</td>\n      <td>NaN</td>\n      <td>310.0</td>\n      <td>7.0</td>\n      <td>NaN</td>\n      <td>1029.9</td>\n      <td>NaN</td>\n      <td>NaN</td>\n    </tr>\n  </tbody>\n</table>\n</div>"
     },
     "execution_count": 30,
     "metadata": {},
     "output_type": "execute_result"
    }
   ],
   "source": [
    "start = datetime(2021, 12, 31)\n",
    "end = datetime(2021, 12, 31, 15)\n",
    "\n",
    "make_historical_hourly_weather_df(station_id, start, end)"
   ],
   "metadata": {
    "collapsed": false,
    "pycharm": {
     "name": "#%%\n"
    }
   }
  },
  {
   "cell_type": "markdown",
   "source": [
    "### Pipeline: Get Hourly Conditions based on City"
   ],
   "metadata": {
    "collapsed": false,
    "pycharm": {
     "name": "#%% md\n"
    }
   }
  },
  {
   "cell_type": "code",
   "execution_count": 31,
   "outputs": [],
   "source": [
    "from geopy.geocoders import Nominatim\n",
    "from meteostat import Hourly\n",
    "from meteostat import Stations\n",
    "from datetime import datetime\n",
    "\n",
    "\n",
    "NOMINATIM_USER_AGENT = \"James\"\n",
    "\n",
    "# Get Lat & Lon from City/Country name\n",
    "def make_lat_lon_for_city(city, country):\n",
    "    \"\"\"\n",
    "    Function queries the Nominatim API to return the lat & Lon coordinates of a specified city & country\n",
    "    :param city: name of the city\n",
    "    :param country: name of the country the city is in\n",
    "    :return: lat and lon coordinate pair of city geolocation\n",
    "    \"\"\"\n",
    "    geolocator = Nominatim(user_agent=NOMINATIM_USER_AGENT)\n",
    "    loc = geolocator.geocode(city+','+ country)\n",
    "    lat = loc.latitude\n",
    "    lon = loc.longitude\n",
    "    return lat, lon\n",
    "\n",
    "# Get station id and weather conditions\n",
    "def make_nearest_station_id_from_lon_lat(lat, lon):\n",
    "    \"\"\"\n",
    "    Function returns the nearest weather (Meteostat) station id based on passed lat & lon coordinates\n",
    "    :param lat: latitude coordinate\n",
    "    :param lon: longitude coordinate\n",
    "    :return: weather (Meteostat) station id\n",
    "    \"\"\"\n",
    "    stations = Stations()\n",
    "    stations = stations.nearby(lat, lon)\n",
    "    stations = stations.fetch()\n",
    "    all_station_ids = stations.index\n",
    "    return all_station_ids\n",
    "\n",
    "def make_historical_hourly_weather_df(station_id, start, end):\n",
    "    \"\"\"\n",
    "    Function returns a Pandas DataFrame containing the hourly weather conditions for a specified station during a specified time\n",
    "    :param station_id: id of Meteostat weather station\n",
    "    :param start: start date/time\n",
    "    :param end: end date/time\n",
    "    :return: DataFrame containing hourly weather conditions\n",
    "    \"\"\"\n",
    "    data = Hourly(station_id, start, end)\n",
    "    data = data.fetch()\n",
    "    return data\n",
    "\n",
    "def make_pipeline_city_historical_hourly_weather_df(city, country, start, end):\n",
    "    \"\"\"\n",
    "    Functions pipelines the process required to output a Pandas DataFrame containing the hourly weather conditions for a specified station during a specified time\n",
    "    :param city: name of the city\n",
    "    :param country: name of the country the city is i\n",
    "    :param start: start date/time\n",
    "    :param end: end date/time\n",
    "    :return: DataFrame containing hourly weather conditions\n",
    "    \"\"\"\n",
    "    lat, lon = make_lat_lon_for_city(city, country)\n",
    "    all_station_ids = make_nearest_station_id_from_lon_lat(lat, lon)\n",
    "    for index, value in enumerate(all_station_ids):\n",
    "        data = make_historical_hourly_weather_df(all_station_ids[index], start, end)\n",
    "        if len(data) != 0:\n",
    "            break\n",
    "    return data"
   ],
   "metadata": {
    "collapsed": false,
    "pycharm": {
     "name": "#%%\n"
    }
   }
  },
  {
   "cell_type": "code",
   "execution_count": 32,
   "outputs": [
    {
     "data": {
      "text/plain": "                     temp  dwpt  rhum  prcp  snow   wdir  wspd  wpgt    pres  \\\ntime                                                                           \n2021-05-03 14:00:00  15.0   8.7  66.0   0.0   NaN  150.0  25.9   NaN  1021.0   \n2021-05-03 15:00:00  15.1   5.9  54.0   0.0   NaN  150.0  38.9   NaN  1020.0   \n2021-05-03 16:00:00  15.1   7.9  62.0   0.0   NaN  160.0  40.7   NaN  1019.5   \n2021-05-03 17:00:00  16.2   5.5  49.0   0.0   NaN  210.0  27.7   NaN  1018.6   \n2021-05-03 18:00:00  15.9   5.8  51.0   0.0   NaN  210.0  33.5   NaN  1018.3   \n\n                     tsun  coco  \ntime                             \n2021-05-03 14:00:00   NaN   NaN  \n2021-05-03 15:00:00   NaN   NaN  \n2021-05-03 16:00:00   NaN   NaN  \n2021-05-03 17:00:00   NaN   NaN  \n2021-05-03 18:00:00   NaN   NaN  ",
      "text/html": "<div>\n<style scoped>\n    .dataframe tbody tr th:only-of-type {\n        vertical-align: middle;\n    }\n\n    .dataframe tbody tr th {\n        vertical-align: top;\n    }\n\n    .dataframe thead th {\n        text-align: right;\n    }\n</style>\n<table border=\"1\" class=\"dataframe\">\n  <thead>\n    <tr style=\"text-align: right;\">\n      <th></th>\n      <th>temp</th>\n      <th>dwpt</th>\n      <th>rhum</th>\n      <th>prcp</th>\n      <th>snow</th>\n      <th>wdir</th>\n      <th>wspd</th>\n      <th>wpgt</th>\n      <th>pres</th>\n      <th>tsun</th>\n      <th>coco</th>\n    </tr>\n    <tr>\n      <th>time</th>\n      <th></th>\n      <th></th>\n      <th></th>\n      <th></th>\n      <th></th>\n      <th></th>\n      <th></th>\n      <th></th>\n      <th></th>\n      <th></th>\n      <th></th>\n    </tr>\n  </thead>\n  <tbody>\n    <tr>\n      <th>2021-05-03 14:00:00</th>\n      <td>15.0</td>\n      <td>8.7</td>\n      <td>66.0</td>\n      <td>0.0</td>\n      <td>NaN</td>\n      <td>150.0</td>\n      <td>25.9</td>\n      <td>NaN</td>\n      <td>1021.0</td>\n      <td>NaN</td>\n      <td>NaN</td>\n    </tr>\n    <tr>\n      <th>2021-05-03 15:00:00</th>\n      <td>15.1</td>\n      <td>5.9</td>\n      <td>54.0</td>\n      <td>0.0</td>\n      <td>NaN</td>\n      <td>150.0</td>\n      <td>38.9</td>\n      <td>NaN</td>\n      <td>1020.0</td>\n      <td>NaN</td>\n      <td>NaN</td>\n    </tr>\n    <tr>\n      <th>2021-05-03 16:00:00</th>\n      <td>15.1</td>\n      <td>7.9</td>\n      <td>62.0</td>\n      <td>0.0</td>\n      <td>NaN</td>\n      <td>160.0</td>\n      <td>40.7</td>\n      <td>NaN</td>\n      <td>1019.5</td>\n      <td>NaN</td>\n      <td>NaN</td>\n    </tr>\n    <tr>\n      <th>2021-05-03 17:00:00</th>\n      <td>16.2</td>\n      <td>5.5</td>\n      <td>49.0</td>\n      <td>0.0</td>\n      <td>NaN</td>\n      <td>210.0</td>\n      <td>27.7</td>\n      <td>NaN</td>\n      <td>1018.6</td>\n      <td>NaN</td>\n      <td>NaN</td>\n    </tr>\n    <tr>\n      <th>2021-05-03 18:00:00</th>\n      <td>15.9</td>\n      <td>5.8</td>\n      <td>51.0</td>\n      <td>0.0</td>\n      <td>NaN</td>\n      <td>210.0</td>\n      <td>33.5</td>\n      <td>NaN</td>\n      <td>1018.3</td>\n      <td>NaN</td>\n      <td>NaN</td>\n    </tr>\n  </tbody>\n</table>\n</div>"
     },
     "execution_count": 32,
     "metadata": {},
     "output_type": "execute_result"
    }
   ],
   "source": [
    "start = datetime(2021, 5, 3, 14)\n",
    "end = datetime(2021, 5, 3, 18)\n",
    "\n",
    "make_pipeline_city_historical_hourly_weather_df(\"Peralada\", \"Spain\", start, end)"
   ],
   "metadata": {
    "collapsed": false,
    "pycharm": {
     "name": "#%%\n"
    }
   }
  },
  {
   "cell_type": "markdown",
   "source": [
    "### Return City/Country from Course Name - SQL"
   ],
   "metadata": {
    "collapsed": false,
    "pycharm": {
     "name": "#%% md\n"
    }
   }
  },
  {
   "cell_type": "code",
   "execution_count": 33,
   "outputs": [],
   "source": [
    "import random\n",
    "import psycopg2\n",
    "from datetime import datetime\n",
    "from psycopg2 import Error\n",
    "import pandas as pd\n",
    "import streamlit as st\n",
    "\n",
    "def connect_to_postgres_database(user, password, database, host=\"127.0.0.1\", port=\"5432\"):\n",
    "    \"\"\"\n",
    "    Function connects to a database and returns the cursor object\n",
    "    :param user: database username\n",
    "    :param password: database password\n",
    "    :param database: database name\n",
    "    :param host: server location\n",
    "    :param port: listening port\n",
    "    :return: psycopg2 cursor object\n",
    "    \"\"\"\n",
    "    try:\n",
    "        con = psycopg2.connect(user=user,\n",
    "                               password=password,\n",
    "                               database=database,\n",
    "                               host=host,\n",
    "                               port=port)\n",
    "        cursor = con.cursor()\n",
    "    except (Exception, Error) as error:\n",
    "        print(\"Error while connecting to PostgreSQL\", error)\n",
    "    return con, cursor\n",
    "\n",
    "def get_id_from_course_name(course_name):\n",
    "    \"\"\"\n",
    "    Function returns the id of the course in the course table based on the name\n",
    "    :param course_name: name of course quiered\n",
    "    :return: id of course quiered\n",
    "    \"\"\"\n",
    "    insert_command = \"\"\"SELECT id FROM course\n",
    "                    WHERE name = %s;\"\"\"\n",
    "    cursor.execute(insert_command, [course_name])\n",
    "    returned_value = cursor.fetchall()\n",
    "    id = returned_value[0][0]\n",
    "    return id\n",
    "\n",
    "def get_city_country_from_course_id(course_id):\n",
    "    \"\"\"\n",
    "    Function returns the city and country features for a specified course id\n",
    "    :param course_id: id of course queried\n",
    "    :return: city and country\n",
    "    \"\"\"\n",
    "    insert_command = \"\"\"SELECT city, country FROM course\n",
    "                    WHERE id = %s;\"\"\"\n",
    "    cursor.execute(insert_command, [course_id])\n",
    "    returned_value = cursor.fetchall()\n",
    "    city = returned_value[0][0]\n",
    "    country = returned_value[0][1]\n",
    "    return city, country"
   ],
   "metadata": {
    "collapsed": false,
    "pycharm": {
     "name": "#%%\n"
    }
   }
  },
  {
   "cell_type": "code",
   "execution_count": 36,
   "outputs": [
    {
     "data": {
      "text/plain": "                     temp  dwpt  rhum  prcp  snow   wdir  wspd  wpgt    pres  \\\ntime                                                                           \n2021-05-03 14:00:00  15.0   8.7  66.0   0.0   NaN  150.0  25.9   NaN  1021.0   \n2021-05-03 15:00:00  15.1   5.9  54.0   0.0   NaN  150.0  38.9   NaN  1020.0   \n2021-05-03 16:00:00  15.1   7.9  62.0   0.0   NaN  160.0  40.7   NaN  1019.5   \n2021-05-03 17:00:00  16.2   5.5  49.0   0.0   NaN  210.0  27.7   NaN  1018.6   \n2021-05-03 18:00:00  15.9   5.8  51.0   0.0   NaN  210.0  33.5   NaN  1018.3   \n\n                     tsun  coco  \ntime                             \n2021-05-03 14:00:00   NaN   NaN  \n2021-05-03 15:00:00   NaN   NaN  \n2021-05-03 16:00:00   NaN   NaN  \n2021-05-03 17:00:00   NaN   NaN  \n2021-05-03 18:00:00   NaN   NaN  ",
      "text/html": "<div>\n<style scoped>\n    .dataframe tbody tr th:only-of-type {\n        vertical-align: middle;\n    }\n\n    .dataframe tbody tr th {\n        vertical-align: top;\n    }\n\n    .dataframe thead th {\n        text-align: right;\n    }\n</style>\n<table border=\"1\" class=\"dataframe\">\n  <thead>\n    <tr style=\"text-align: right;\">\n      <th></th>\n      <th>temp</th>\n      <th>dwpt</th>\n      <th>rhum</th>\n      <th>prcp</th>\n      <th>snow</th>\n      <th>wdir</th>\n      <th>wspd</th>\n      <th>wpgt</th>\n      <th>pres</th>\n      <th>tsun</th>\n      <th>coco</th>\n    </tr>\n    <tr>\n      <th>time</th>\n      <th></th>\n      <th></th>\n      <th></th>\n      <th></th>\n      <th></th>\n      <th></th>\n      <th></th>\n      <th></th>\n      <th></th>\n      <th></th>\n      <th></th>\n    </tr>\n  </thead>\n  <tbody>\n    <tr>\n      <th>2021-05-03 14:00:00</th>\n      <td>15.0</td>\n      <td>8.7</td>\n      <td>66.0</td>\n      <td>0.0</td>\n      <td>NaN</td>\n      <td>150.0</td>\n      <td>25.9</td>\n      <td>NaN</td>\n      <td>1021.0</td>\n      <td>NaN</td>\n      <td>NaN</td>\n    </tr>\n    <tr>\n      <th>2021-05-03 15:00:00</th>\n      <td>15.1</td>\n      <td>5.9</td>\n      <td>54.0</td>\n      <td>0.0</td>\n      <td>NaN</td>\n      <td>150.0</td>\n      <td>38.9</td>\n      <td>NaN</td>\n      <td>1020.0</td>\n      <td>NaN</td>\n      <td>NaN</td>\n    </tr>\n    <tr>\n      <th>2021-05-03 16:00:00</th>\n      <td>15.1</td>\n      <td>7.9</td>\n      <td>62.0</td>\n      <td>0.0</td>\n      <td>NaN</td>\n      <td>160.0</td>\n      <td>40.7</td>\n      <td>NaN</td>\n      <td>1019.5</td>\n      <td>NaN</td>\n      <td>NaN</td>\n    </tr>\n    <tr>\n      <th>2021-05-03 17:00:00</th>\n      <td>16.2</td>\n      <td>5.5</td>\n      <td>49.0</td>\n      <td>0.0</td>\n      <td>NaN</td>\n      <td>210.0</td>\n      <td>27.7</td>\n      <td>NaN</td>\n      <td>1018.6</td>\n      <td>NaN</td>\n      <td>NaN</td>\n    </tr>\n    <tr>\n      <th>2021-05-03 18:00:00</th>\n      <td>15.9</td>\n      <td>5.8</td>\n      <td>51.0</td>\n      <td>0.0</td>\n      <td>NaN</td>\n      <td>210.0</td>\n      <td>33.5</td>\n      <td>NaN</td>\n      <td>1018.3</td>\n      <td>NaN</td>\n      <td>NaN</td>\n    </tr>\n  </tbody>\n</table>\n</div>"
     },
     "execution_count": 36,
     "metadata": {},
     "output_type": "execute_result"
    }
   ],
   "source": [
    "# Variables\n",
    "USER = \"postgres\"\n",
    "PASSWORD = \"Barca2011\"\n",
    "DATABASE = \"golf_dashboard_db\"\n",
    "\n",
    "start = datetime(2021, 5, 3, 14)\n",
    "end = datetime(2021, 5, 3, 19)\n",
    "\n",
    "con, cursor = connect_to_postgres_database(USER, PASSWORD, DATABASE, host=\"127.0.0.1\",\n",
    "                                           port=\"5432\")\n",
    "# city, country = get_city_country_from_course_id(14)\n",
    "data = make_pipeline_city_historical_hourly_weather_df(\"Peralada\", \"Spain\", start, end)\n",
    "data.head()"
   ],
   "metadata": {
    "collapsed": false,
    "pycharm": {
     "name": "#%%\n"
    }
   }
  },
  {
   "cell_type": "markdown",
   "source": [
    "### Make Golf Round Weather Text"
   ],
   "metadata": {
    "collapsed": false,
    "pycharm": {
     "name": "#%% md\n"
    }
   }
  },
  {
   "cell_type": "code",
   "execution_count": 37,
   "outputs": [],
   "source": [
    "from statistics import mean\n",
    "import math\n",
    "import collections\n",
    "\n",
    "\n",
    "WEATHER_CODE_LIST = [1, 2, 3, 4, 5, 6, 7, 8, 9, 10, 11, 12, 13, 14, 15, 16, 17, 18, 19, 20, 21, 22, 23, 24, 25, 26, 27]\n",
    "WEATHER_CONDITION_LIST = [\"Clear\", \"Fair\", \"Cloudy\", \"Overcast\", \"Fog\", \"Freezing Fog\", \"Light Rain\", \"Rain\", \"Heavy Rain\", \"Freezing Rain\", \"Heavy Freezing Rain\", \"Sleet\", \"Heavy Sleet\", \"Light Snowfall\", \"Snowfall\", \"Heavy Snowfall\", \"Rain Shower\", \"Heavy Rain Shower\", \"Sleet Shower\", \"Heavy Sleet Shower\", \"Snow Shower\", \"Heavy Snow Shower\", \"Lightning\", \"Hail\", \"Thunderstorm\", \"Heavy Thunderstorm\", \"Storm\"]\n",
    "WEATHER_CODE_CONDITION_DICTIONARY = dict(zip(WEATHER_CODE_LIST, WEATHER_CONDITION_LIST))\n",
    "WEATHER_CONDITION_TEXT = \"Overall conditions - {}. \"\n",
    "PRECIPITATION_TEXT = \"There were {} mm of rainfall. \"\n",
    "WIND_SPEED_TEXT = \"Wind speed averaged {} km/h. \"\n",
    "HUMIDITY_LEVEL = \"Humidity level of {}%. \"\n",
    "TEMPERATURE_TEXT = \"It was {} degrees during your round. \"\n",
    "\n",
    "\n",
    "def make_round_weather_condition_lists(weather_data):\n",
    "    \"\"\"\n",
    "    Function returns lists of key features from the weather data\n",
    "    :param weather_data: DataFrame containing hourly weather conditions\n",
    "    :return: lists of key weather features\n",
    "    \"\"\"\n",
    "    round_air_temp = list(data[\"temp\"])\n",
    "    round_rhumidity = list(data[\"rhum\"])\n",
    "    round_precipitation = list(data[\"prcp\"])\n",
    "    round_wind_speed = list(data[\"wspd\"])\n",
    "    round_weather_code = list(data[\"coco\"])\n",
    "    return round_air_temp, round_rhumidity, round_precipitation, round_wind_speed, round_weather_code\n",
    "\n",
    "def make_list_without_nan_values(list_of_values):\n",
    "    \"\"\"\n",
    "    Function loops through a list and removes all np.nan values from it\n",
    "    :param list_of_values: list of values\n",
    "    :return: list of values without np.nan\n",
    "    \"\"\"\n",
    "    clean_list = [i for i in list_of_values if np.isnan(i) == False]\n",
    "    return clean_list\n",
    "\n",
    "def make_mean_weather_feature(weather_feature_list):\n",
    "    \"\"\"\n",
    "    Function returns a mean or np.nan value for a weather feature list depending on what it originally contains\n",
    "    :param weather_feature_list: weather feature values to be averaged\n",
    "    :return: averaged weather feature average (or np.nan)\n",
    "    \"\"\"\n",
    "    if len(weather_feature_list) == 0:\n",
    "        value = np.nan\n",
    "    else:\n",
    "        value = round(mean(weather_feature_list))\n",
    "    return value\n",
    "\n",
    "def make_sum_weather_feature(weather_feature_list):\n",
    "    \"\"\"\n",
    "    Function returns a sum or np.nan value for a weather feature list depending on what it originally contains\n",
    "    :param weather_feature_list: weather feature values to be summed\n",
    "    :return: averaged weather feature summed (or np.nan)\n",
    "    \"\"\"\n",
    "    if len(weather_feature_list) == 0:\n",
    "        value = np.nan\n",
    "    else:\n",
    "        value = round(sum(weather_feature_list))\n",
    "    return value\n",
    "\n",
    "def make_counted_weather_feature(weather_feature_list):\n",
    "    \"\"\"\n",
    "    Function returns the value for the highest occurring elementor np.nan value for a weather feature list depending on what it originally contains\n",
    "    :param weather_feature_list: weather feature values to be counted\n",
    "    :return: highest occurring elementor (or np.nan)\n",
    "    \"\"\"\n",
    "    if len(weather_feature_list) == 0:\n",
    "        value = np.nan\n",
    "    else:\n",
    "        weather_condition_counter = collections.Counter(weather_feature_list)\n",
    "        value = max(weather_condition_counter, key=weather_condition_counter.get)\n",
    "    return value\n",
    "\n",
    "def make_condition_from_code(weather_code):\n",
    "    \"\"\"\n",
    "    Function returns the condition (text) from a weather code by checking if the code exists in a dictionary\n",
    "    :param weather_code: weather code id from Meteostat\n",
    "    :return: weather condition from Meteostat\n",
    "    \"\"\"\n",
    "    try:\n",
    "        weather_condition = WEATHER_CODE_CONDITION_DICTIONARY[weather_code]\n",
    "    except KeyError:\n",
    "        weather_condition = np.nan\n",
    "    return weather_condition\n",
    "\n",
    "def make_weather_feature_mean_and_condition_value(round_air_temp, round_rhumidity, round_precipitation, round_wind_speed, round_weather_code):\n",
    "    \"\"\"\n",
    "    Function returns mean values for air temp, humidity and wind speed. It also returns sum of rainfall and the most frequent weather code\n",
    "    :param round_air_temp: list of air temperatures\n",
    "    :param round_rhumidity: list of humidity\n",
    "    :param round_precipitation: list of precipitation\n",
    "    :param round_wind_speed: list of wind speed\n",
    "    :param round_weather_code: list of weather codes\n",
    "    :return: aggregated values of weather features\n",
    "    \"\"\"\n",
    "    clean_round_air_temp = make_list_without_nan_values(round_air_temp)\n",
    "    clean_round_rhumidity = make_list_without_nan_values(round_rhumidity)\n",
    "    clean_round_precipitation = make_list_without_nan_values(round_precipitation)\n",
    "    clean_round_wind_speed = make_list_without_nan_values(round_wind_speed)\n",
    "    clean_round_weather_code = make_list_without_nan_values(round_weather_code)\n",
    "    mean_air_temp = make_mean_weather_feature(clean_round_air_temp)\n",
    "    mean_rhumidity = make_mean_weather_feature(clean_round_rhumidity)\n",
    "    sum_precipitation = make_sum_weather_feature(clean_round_precipitation)\n",
    "    mean_wind_speed = make_mean_weather_feature(clean_round_wind_speed)\n",
    "    weather_code = make_counted_weather_feature(clean_round_weather_code)\n",
    "    weather_condition = make_condition_from_code(weather_code)\n",
    "    return mean_air_temp, mean_rhumidity, sum_precipitation, mean_wind_speed, weather_condition\n",
    "\n",
    "def make_round_weather_condition_text(mean_air_temp, mean_rhumidity, sum_precipitation, mean_wind_speed, weather_condition):\n",
    "    \"\"\"\n",
    "    Function creates the text pattern used to display the golf rounds weather conditions\n",
    "    :param mean_air_temp: round average air temperature\n",
    "    :param mean_rhumidity: round average humidity\n",
    "    :param sum_precipitation: round total precipitation\n",
    "    :param mean_wind_speed: round average wind speed\n",
    "    :param weather_condition: round weather condition\n",
    "    :return: golf round weather text pattern\n",
    "    \"\"\"\n",
    "    text_weather_dict = {WEATHER_CONDITION_TEXT: weather_condition, TEMPERATURE_TEXT: mean_air_temp, WIND_SPEED_TEXT: mean_wind_speed, HUMIDITY_LEVEL: mean_rhumidity, PRECIPITATION_TEXT: sum_precipitation}\n",
    "    text = \"\"\n",
    "    variables_to_format = list()\n",
    "    for key, value in text_weather_dict.items():\n",
    "        try:\n",
    "            if math.isnan(value) == False:\n",
    "                text = text + key\n",
    "                variables_to_format.append(value)\n",
    "        except TypeError:\n",
    "            text = text + key\n",
    "            variables_to_format.append(value)\n",
    "    weather_text = text.format(*variables_to_format)\n",
    "    return weather_text\n",
    "\n",
    "def make_pipeline_weather_data_to_text(weather_data):\n",
    "    \"\"\"\n",
    "    Function pipelines the process required to output the golf rounds weather text from the golf rounds weather dataset\n",
    "    :param weather_data: DataFrame containing hourly weather conditions\n",
    "    :return: golf round weather text pattern\n",
    "    \"\"\"\n",
    "    round_air_temp, round_rhumidity, round_precipitation, round_wind_speed, round_weather_code = make_round_weather_condition_lists(weather_data)\n",
    "    mean_air_temp, mean_rhumidity, sum_precipitation, mean_wind_speed, weather_condition = make_weather_feature_mean_and_condition_value(round_air_temp, round_rhumidity, round_precipitation, round_wind_speed, round_weather_code)\n",
    "    weather_text = make_round_weather_condition_text(mean_air_temp, mean_rhumidity, sum_precipitation, mean_wind_speed, weather_condition)\n",
    "    return weather_text"
   ],
   "metadata": {
    "collapsed": false,
    "pycharm": {
     "name": "#%%\n"
    }
   }
  },
  {
   "cell_type": "code",
   "execution_count": 38,
   "outputs": [
    {
     "data": {
      "text/plain": "([15.0, 15.1, 15.1, 16.2, 15.9, 15.1],\n [66.0, 54.0, 62.0, 49.0, 51.0, 55.0],\n [0.0, 0.0, 0.0, 0.0, 0.0, 0.0],\n [25.9, 38.9, 40.7, 27.7, 33.5, 31.7],\n [nan, nan, nan, nan, nan, nan])"
     },
     "execution_count": 38,
     "metadata": {},
     "output_type": "execute_result"
    }
   ],
   "source": [
    "round_air_temp, round_rhumidity, round_precipitation, round_wind_speed, round_weather_code = make_round_weather_condition_lists(data)\n",
    "round_air_temp, round_rhumidity, round_precipitation, round_wind_speed, round_weather_code"
   ],
   "metadata": {
    "collapsed": false,
    "pycharm": {
     "name": "#%%\n"
    }
   }
  },
  {
   "cell_type": "code",
   "execution_count": 39,
   "outputs": [
    {
     "data": {
      "text/plain": "(15, 56, 0, 33, nan)"
     },
     "execution_count": 39,
     "metadata": {},
     "output_type": "execute_result"
    }
   ],
   "source": [
    "mean_air_temp, mean_rhumidity, sum_precipitation, mean_wind_speed, weather_condition = make_weather_feature_mean_and_condition_value(round_air_temp, round_rhumidity, round_precipitation, round_wind_speed, round_weather_code)\n",
    "mean_air_temp, mean_rhumidity, sum_precipitation, mean_wind_speed, weather_condition"
   ],
   "metadata": {
    "collapsed": false,
    "pycharm": {
     "name": "#%%\n"
    }
   }
  },
  {
   "cell_type": "code",
   "execution_count": 40,
   "outputs": [
    {
     "data": {
      "text/plain": "'It was 15 degrees during your round. Wind speed averaged 33 km/h. Humidity level of 56%. There were 0 mm of rainfall. '"
     },
     "execution_count": 40,
     "metadata": {},
     "output_type": "execute_result"
    }
   ],
   "source": [
    "weather_text = make_round_weather_condition_text(mean_air_temp, mean_rhumidity, sum_precipitation, mean_wind_speed, weather_condition)\n",
    "weather_text"
   ],
   "metadata": {
    "collapsed": false,
    "pycharm": {
     "name": "#%%\n"
    }
   }
  },
  {
   "cell_type": "code",
   "execution_count": 425,
   "outputs": [
    {
     "data": {
      "text/plain": "'Overall conditions - Fog. It was 8 degrees during your round. Wind speed averaged 4 km/h. Humidity level of 100%. There were 0 mm of rainfall. '"
     },
     "execution_count": 425,
     "metadata": {},
     "output_type": "execute_result"
    }
   ],
   "source": [
    "# Function\n",
    "make_pipeline_weather_data_to_text(data)"
   ],
   "metadata": {
    "collapsed": false,
    "pycharm": {
     "name": "#%%\n"
    }
   }
  },
  {
   "cell_type": "code",
   "execution_count": 426,
   "outputs": [],
   "source": [
    "\n",
    "start = datetime(2022, 1, 1, 0)\n",
    "end = datetime(2022, 1, 1, 5)\n",
    "\n",
    "con, cursor = connect_to_postgres_database(USER, PASSWORD, DATABASE, host=\"127.0.0.1\",\n",
    "                                           port=\"5432\")\n",
    "city, country = get_city_country_from_course_id(1)\n",
    "data = make_pipeline_city_historical_hourly_weather_df(city, country, start,\n",
    "                                                       end)\n",
    "weather_text = make_pipeline_weather_data_to_text(data)"
   ],
   "metadata": {
    "collapsed": false,
    "pycharm": {
     "name": "#%%\n"
    }
   }
  },
  {
   "cell_type": "code",
   "execution_count": 427,
   "outputs": [
    {
     "data": {
      "text/plain": "'Overall conditions - Fog. It was 8 degrees during your round. Wind speed averaged 4 km/h. Humidity level of 100%. There were 0 mm of rainfall. '"
     },
     "execution_count": 427,
     "metadata": {},
     "output_type": "execute_result"
    }
   ],
   "source": [
    "weather_text"
   ],
   "metadata": {
    "collapsed": false,
    "pycharm": {
     "name": "#%%\n"
    }
   }
  },
  {
   "cell_type": "code",
   "execution_count": null,
   "outputs": [],
   "source": [],
   "metadata": {
    "collapsed": false,
    "pycharm": {
     "name": "#%%\n"
    }
   }
  }
 ],
 "metadata": {
  "kernelspec": {
   "display_name": "Python 3",
   "language": "python",
   "name": "python3"
  },
  "language_info": {
   "codemirror_mode": {
    "name": "ipython",
    "version": 2
   },
   "file_extension": ".py",
   "mimetype": "text/x-python",
   "name": "python",
   "nbconvert_exporter": "python",
   "pygments_lexer": "ipython2",
   "version": "2.7.6"
  }
 },
 "nbformat": 4,
 "nbformat_minor": 0
}